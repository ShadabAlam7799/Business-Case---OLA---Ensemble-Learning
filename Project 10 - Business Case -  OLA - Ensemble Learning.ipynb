{
 "cells": [
  {
   "cell_type": "code",
   "execution_count": 1574,
   "id": "76430484",
   "metadata": {},
   "outputs": [],
   "source": [
    "import pandas as pd\n",
    "import numpy as np\n",
    "import matplotlib.pyplot as plt\n",
    "import seaborn as sns\n",
    "import math, random\n",
    "from collections import deque\n",
    "from scipy.stats import norm\n",
    "from scipy.stats import binom, poisson, expon, geom\n",
    "from statsmodels.stats.weightstats import ztest\n",
    "from scipy.stats import norm, ttest_ind, ttest_rel, ttest_1samp\n",
    "from scipy.stats import chi2, chi2_contingency, chisquare\n",
    "from scipy.stats import f_oneway as anova_1way\n",
    "\n",
    "from scipy.stats import kruskal # numeric Vs catogerical\n",
    "from scipy.stats import pearsonr, spearmanr # numeric Vs numeric\n",
    "from scipy.stats import kstest # cdf\n",
    "from scipy.stats import levene\n",
    "from scipy.stats import norm\n",
    "\n",
    "from statsmodels.distributions.empirical_distribution import ECDF\n",
    "from statsmodels.graphics.gofplots import qqplot, qqplot_2samples\n",
    "from scipy.stats import skew, shapiro #[Test for normality]"
   ]
  },
  {
   "cell_type": "markdown",
   "id": "d202d6f2",
   "metadata": {},
   "source": [
    "```\n",
    "Problem Statement\n",
    "\n",
    "Recruiting and retaining drivers is seen by industry watchers as a tough battle for Ola. Churn among drivers is high and it’s very easy for drivers to stop working for the service on the fly or jump to Uber depending on the rates.\n",
    "\n",
    "As the companies get bigger, the high churn could become a bigger problem. To find new drivers, Ola is casting a wide net, including people who don’t have cars for jobs. But this acquisition is really costly. Losing drivers frequently impacts the morale of the organization and acquiring new drivers is more expensive than retaining existing ones.\n",
    "\n",
    "You are working as a data scientist with the Analytics Department of Ola, focused on driver team attrition. You are provided with the monthly information for a segment of drivers for 2019 and 2020 and tasked to predict whether a driver will be leaving the company or not based on their attributes like\n",
    "\n",
    "Demographics (city, age, gender etc.)\n",
    "Tenure information (joining date, Last Date)\n",
    "Historical data regarding the performance of the driver (Quarterly rating, Monthly business acquired, grade, Income)\n",
    "\n",
    "Column Profiling:\n",
    "\n",
    "MMMM-YY : Reporting Date (Monthly)\n",
    "Driver_ID : Unique id for drivers\n",
    "Age : Age of the driver\n",
    "Gender : Gender of the driver – Male : 0, Female: 1\n",
    "City : City Code of the driver\n",
    "Education_Level : Education level – 0 for 10+ ,1 for 12+ ,2 for graduate\n",
    "Income : Monthly average Income of the driver\n",
    "Date Of Joining : Joining date for the driver\n",
    "LastWorkingDate : Last date of working for the driver\n",
    "Joining Designation : Designation of the driver at the time of joining\n",
    "Grade : Grade of the driver at the time of reporting\n",
    "Total Business Value : The total business value acquired by the driver in a month (negative business indicates cancellation/refund or car EMI adjustments)\n",
    "Quarterly Rating : Quarterly rating of the driver: 1,2,3,4,5 (higher is better)\n",
    "\n",
    "\n",
    "\n",
    "Concepts Tested:\n",
    "\n",
    "Ensemble Learning- Bagging\n",
    "Ensemble Learning- Boosting\n",
    "KNN Imputation of Missing Values\n",
    "Working with an imbalanced dataset\n",
    "What \"good\" looks like:\n",
    "\n",
    "Import the dataset and do usual exploratory analysis steps like checking the structure & characteristics of the dataset.\n",
    "\n",
    "Convert date-like features to their respective data type\n",
    "\n",
    "Check for missing values and Prepare data for KNN Imputation\n",
    "\n",
    "You may consider only numerical features for this purpose\n",
    "\n",
    "Aggregate data in order to remove multiple occurrences of same driver data (We did something similar in Delhivery business Case)\n",
    "\n",
    "You can start from storing unique Driver IDs in an empty dataframe and then bring all the features at same level (Groupby Driver ID)\n",
    "\n",
    "Feature Engineering Steps:\n",
    "\n",
    "Create a column which tells whether the quarterly rating has increased for that driver - for those whose quarterly rating has increased we assign the value 1\n",
    "\n",
    "Target variable creation: Create a column called target which tells whether the driver has left the company- driver whose last working day is present will have the value 1\n",
    "\n",
    "Create a column which tells whether the monthly income has increased for that driver - for those whose monthly income has increased we assign the value 1\n",
    "\n",
    "Statistical summary of the derived dataset\n",
    "\n",
    "Check correlation among independent variables and how they interact with each other\n",
    "\n",
    "One hot encoding of the categorical variable\n",
    "\n",
    "Class Imbalance Treatment\n",
    "\n",
    "Standardization of training data\n",
    "\n",
    "Using Ensemble learning - Bagging, Boosting methods with some hyper-parameter tuning\n",
    "\n",
    "Results Evaluation:\n",
    "\n",
    "Classification Report\n",
    "\n",
    "ROC AUC curve\n",
    "\n",
    "Provide actionable Insights & Recommendations\n",
    "\n",
    "\n",
    "Evaluation Criteria (100 Points):\n",
    "\n",
    "Define Problem Statement and perform Exploratory Data Analysis (10 points)\n",
    "Definition of problem (as per given problem statement with additional views)\n",
    "Observations on shape of data, data types of all the attributes, conversion of categorical attributes to 'category' (If required), missing value detection, statistical summary.\n",
    "Univariate Analysis (distribution plots of all the continuous variable(s) barplots/countplots of all the categorical variables)\n",
    "Bivariate Analysis (Relationships between important variables)\n",
    "Illustrate the insights based on EDA\n",
    "Comments on range of attributes, outliers of various attributes\n",
    "Comments on the distribution of the variables and relationship between them\n",
    "Comments for each univariate and bivariate plots\n",
    "Data Preprocessing (50 Points)\n",
    "KNN Imputation\n",
    "Feature Engineering\n",
    "Class Imbalance treatment\n",
    "Standardization\n",
    "Encoding\n",
    "Model building (20 Points)\n",
    "1 Ensemble - Bagging Algorithm\n",
    "1 Ensemble - Boosting Algorithm\n",
    "Results Evaluation (10 Points)\n",
    "ROC AUC Curve & comments\n",
    "Classification Report (Confusion Matrix etc)\n",
    "Actionable Insights & Recommendations (10 Points)\n",
    "```"
   ]
  },
  {
   "cell_type": "markdown",
   "id": "c6b14b6f",
   "metadata": {},
   "source": [
    "# Business Case -  OLA - Ensemble Learning"
   ]
  },
  {
   "cell_type": "markdown",
   "id": "35674dab",
   "metadata": {},
   "source": [
    "- INDEX\n",
    "    - (A) Problem Statements\n",
    "    - (B) shape, null values and duplicates\n",
    "    - (C) Column Profiling and grouping\n",
    "    - (D) Exploratory data analysis (EDA): Features Analysis\n",
    "    - (E) Feature Engineering\n",
    "    - (F) Removing outliers\n",
    "    - (G) Model building\n",
    "    - (H) Actionable Insight and Recommendations"
   ]
  },
  {
   "cell_type": "markdown",
   "id": "1c89048c",
   "metadata": {},
   "source": [
    "# (A) Problem Statements"
   ]
  },
  {
   "cell_type": "markdown",
   "id": "7b31e0c4",
   "metadata": {},
   "source": [
    "<strong>to predict whether a driver will be leaving the company or not based on their attributes like</strong>\n",
    "\n",
    "Demographics (city, age, gender etc.)<br>\n",
    "Tenure information (joining date, Last Date)<br>\n",
    "Historical data regarding the performance of the driver (Quarterly rating, Monthly business acquired, grade, Income)<br>"
   ]
  },
  {
   "cell_type": "markdown",
   "id": "171fe34a",
   "metadata": {},
   "source": [
    "# (B) shape, null values and duplicates  "
   ]
  },
  {
   "cell_type": "code",
   "execution_count": 1576,
   "id": "9880fe8c",
   "metadata": {},
   "outputs": [],
   "source": [
    "Data = pd.read_csv(\"D:\\Python programmes\\Data Collection\\ola_driver_scaler.csv\")"
   ]
  },
  {
   "cell_type": "code",
   "execution_count": 1577,
   "id": "36f1b613",
   "metadata": {},
   "outputs": [],
   "source": [
    "df = Data.copy(deep=True)"
   ]
  },
  {
   "cell_type": "code",
   "execution_count": 1578,
   "id": "a9496cc4",
   "metadata": {},
   "outputs": [
    {
     "data": {
      "text/plain": [
       "(19104, 14)"
      ]
     },
     "execution_count": 1578,
     "metadata": {},
     "output_type": "execute_result"
    }
   ],
   "source": [
    "df.shape"
   ]
  },
  {
   "cell_type": "code",
   "execution_count": 1579,
   "id": "1d552135",
   "metadata": {},
   "outputs": [
    {
     "data": {
      "text/plain": [
       "Index(['Unnamed: 0', 'MMM-YY', 'Driver_ID', 'Age', 'Gender', 'City',\n",
       "       'Education_Level', 'Income', 'Dateofjoining', 'LastWorkingDate',\n",
       "       'Joining Designation', 'Grade', 'Total Business Value',\n",
       "       'Quarterly Rating'],\n",
       "      dtype='object')"
      ]
     },
     "execution_count": 1579,
     "metadata": {},
     "output_type": "execute_result"
    }
   ],
   "source": [
    "df.columns"
   ]
  },
  {
   "cell_type": "code",
   "execution_count": 1580,
   "id": "f38aed45",
   "metadata": {},
   "outputs": [
    {
     "data": {
      "text/plain": [
       "14"
      ]
     },
     "execution_count": 1580,
     "metadata": {},
     "output_type": "execute_result"
    }
   ],
   "source": [
    "len(['Unnamed: 0', 'MMM-YY', 'Driver_ID', 'Age', 'Gender', 'City',\n",
    "       'Education_Level', 'Income', 'Dateofjoining', 'LastWorkingDate',\n",
    "       'Joining Designation', 'Grade', 'Total Business Value',\n",
    "       'Quarterly Rating'])"
   ]
  },
  {
   "cell_type": "code",
   "execution_count": 1581,
   "id": "fc16fcff",
   "metadata": {},
   "outputs": [
    {
     "data": {
      "text/plain": [
       "13"
      ]
     },
     "execution_count": 1581,
     "metadata": {},
     "output_type": "execute_result"
    }
   ],
   "source": [
    "len(['Dateofjoining', 'MMM-YY', 'LastWorkingDate','Driver_ID', 'Age', 'Gender', 'City',\n",
    "       'Education_Level', 'Income', 'Joining Designation', 'Grade', 'Total Business Value',\n",
    "       'Quarterly Rating'])"
   ]
  },
  {
   "cell_type": "code",
   "execution_count": 1582,
   "id": "f96ea4bf",
   "metadata": {},
   "outputs": [],
   "source": [
    "colms = ['Dateofjoining', 'MMM-YY', 'LastWorkingDate', 'Driver_ID', 'Age','Gender', 'City', 'Education_Level',\n",
    "         'Joining Designation','Grade', 'Quarterly Rating', 'Income', 'Total Business Value']"
   ]
  },
  {
   "cell_type": "code",
   "execution_count": 1583,
   "id": "35bd9197",
   "metadata": {},
   "outputs": [],
   "source": [
    "df = df.loc[:,colms]"
   ]
  },
  {
   "cell_type": "code",
   "execution_count": 1584,
   "id": "aea48c55",
   "metadata": {},
   "outputs": [
    {
     "data": {
      "text/html": [
       "<div>\n",
       "<style scoped>\n",
       "    .dataframe tbody tr th:only-of-type {\n",
       "        vertical-align: middle;\n",
       "    }\n",
       "\n",
       "    .dataframe tbody tr th {\n",
       "        vertical-align: top;\n",
       "    }\n",
       "\n",
       "    .dataframe thead th {\n",
       "        text-align: right;\n",
       "    }\n",
       "</style>\n",
       "<table border=\"1\" class=\"dataframe\">\n",
       "  <thead>\n",
       "    <tr style=\"text-align: right;\">\n",
       "      <th></th>\n",
       "      <th>Dateofjoining</th>\n",
       "      <th>MMM-YY</th>\n",
       "      <th>LastWorkingDate</th>\n",
       "      <th>Driver_ID</th>\n",
       "      <th>Age</th>\n",
       "      <th>Gender</th>\n",
       "      <th>City</th>\n",
       "      <th>Education_Level</th>\n",
       "      <th>Joining Designation</th>\n",
       "      <th>Grade</th>\n",
       "      <th>Quarterly Rating</th>\n",
       "      <th>Income</th>\n",
       "      <th>Total Business Value</th>\n",
       "    </tr>\n",
       "  </thead>\n",
       "  <tbody>\n",
       "    <tr>\n",
       "      <th>0</th>\n",
       "      <td>24/12/18</td>\n",
       "      <td>01/01/19</td>\n",
       "      <td>NaN</td>\n",
       "      <td>1</td>\n",
       "      <td>28.0</td>\n",
       "      <td>0.0</td>\n",
       "      <td>C23</td>\n",
       "      <td>2</td>\n",
       "      <td>1</td>\n",
       "      <td>1</td>\n",
       "      <td>2</td>\n",
       "      <td>57387</td>\n",
       "      <td>2381060</td>\n",
       "    </tr>\n",
       "    <tr>\n",
       "      <th>1</th>\n",
       "      <td>24/12/18</td>\n",
       "      <td>02/01/19</td>\n",
       "      <td>NaN</td>\n",
       "      <td>1</td>\n",
       "      <td>28.0</td>\n",
       "      <td>0.0</td>\n",
       "      <td>C23</td>\n",
       "      <td>2</td>\n",
       "      <td>1</td>\n",
       "      <td>1</td>\n",
       "      <td>2</td>\n",
       "      <td>57387</td>\n",
       "      <td>-665480</td>\n",
       "    </tr>\n",
       "    <tr>\n",
       "      <th>2</th>\n",
       "      <td>24/12/18</td>\n",
       "      <td>03/01/19</td>\n",
       "      <td>03/11/19</td>\n",
       "      <td>1</td>\n",
       "      <td>28.0</td>\n",
       "      <td>0.0</td>\n",
       "      <td>C23</td>\n",
       "      <td>2</td>\n",
       "      <td>1</td>\n",
       "      <td>1</td>\n",
       "      <td>2</td>\n",
       "      <td>57387</td>\n",
       "      <td>0</td>\n",
       "    </tr>\n",
       "    <tr>\n",
       "      <th>3</th>\n",
       "      <td>11/06/20</td>\n",
       "      <td>11/01/20</td>\n",
       "      <td>NaN</td>\n",
       "      <td>2</td>\n",
       "      <td>31.0</td>\n",
       "      <td>0.0</td>\n",
       "      <td>C7</td>\n",
       "      <td>2</td>\n",
       "      <td>2</td>\n",
       "      <td>2</td>\n",
       "      <td>1</td>\n",
       "      <td>67016</td>\n",
       "      <td>0</td>\n",
       "    </tr>\n",
       "    <tr>\n",
       "      <th>4</th>\n",
       "      <td>11/06/20</td>\n",
       "      <td>12/01/20</td>\n",
       "      <td>NaN</td>\n",
       "      <td>2</td>\n",
       "      <td>31.0</td>\n",
       "      <td>0.0</td>\n",
       "      <td>C7</td>\n",
       "      <td>2</td>\n",
       "      <td>2</td>\n",
       "      <td>2</td>\n",
       "      <td>1</td>\n",
       "      <td>67016</td>\n",
       "      <td>0</td>\n",
       "    </tr>\n",
       "  </tbody>\n",
       "</table>\n",
       "</div>"
      ],
      "text/plain": [
       "  Dateofjoining    MMM-YY LastWorkingDate  Driver_ID   Age  Gender City  \\\n",
       "0      24/12/18  01/01/19             NaN          1  28.0     0.0  C23   \n",
       "1      24/12/18  02/01/19             NaN          1  28.0     0.0  C23   \n",
       "2      24/12/18  03/01/19        03/11/19          1  28.0     0.0  C23   \n",
       "3      11/06/20  11/01/20             NaN          2  31.0     0.0   C7   \n",
       "4      11/06/20  12/01/20             NaN          2  31.0     0.0   C7   \n",
       "\n",
       "   Education_Level  Joining Designation  Grade  Quarterly Rating  Income  \\\n",
       "0                2                    1      1                 2   57387   \n",
       "1                2                    1      1                 2   57387   \n",
       "2                2                    1      1                 2   57387   \n",
       "3                2                    2      2                 1   67016   \n",
       "4                2                    2      2                 1   67016   \n",
       "\n",
       "   Total Business Value  \n",
       "0               2381060  \n",
       "1               -665480  \n",
       "2                     0  \n",
       "3                     0  \n",
       "4                     0  "
      ]
     },
     "execution_count": 1584,
     "metadata": {},
     "output_type": "execute_result"
    }
   ],
   "source": [
    "df.head()"
   ]
  },
  {
   "cell_type": "code",
   "execution_count": 1585,
   "id": "78e6ea26",
   "metadata": {},
   "outputs": [],
   "source": [
    "df.rename(columns = {'MMM-YY':'ReportingDate'}, inplace = True)"
   ]
  },
  {
   "cell_type": "markdown",
   "id": "14f4071e",
   "metadata": {},
   "source": [
    "### checking null values"
   ]
  },
  {
   "cell_type": "code",
   "execution_count": 1586,
   "id": "9e2fe851",
   "metadata": {},
   "outputs": [
    {
     "data": {
      "text/html": [
       "<div>\n",
       "<style scoped>\n",
       "    .dataframe tbody tr th:only-of-type {\n",
       "        vertical-align: middle;\n",
       "    }\n",
       "\n",
       "    .dataframe tbody tr th {\n",
       "        vertical-align: top;\n",
       "    }\n",
       "\n",
       "    .dataframe thead th {\n",
       "        text-align: right;\n",
       "    }\n",
       "</style>\n",
       "<table border=\"1\" class=\"dataframe\">\n",
       "  <thead>\n",
       "    <tr style=\"text-align: right;\">\n",
       "      <th></th>\n",
       "      <th>Dateofjoining</th>\n",
       "      <th>ReportingDate</th>\n",
       "      <th>LastWorkingDate</th>\n",
       "      <th>Driver_ID</th>\n",
       "      <th>Age</th>\n",
       "      <th>Gender</th>\n",
       "      <th>City</th>\n",
       "      <th>Education_Level</th>\n",
       "      <th>Joining Designation</th>\n",
       "      <th>Grade</th>\n",
       "      <th>Quarterly Rating</th>\n",
       "      <th>Income</th>\n",
       "      <th>Total Business Value</th>\n",
       "    </tr>\n",
       "  </thead>\n",
       "  <tbody>\n",
       "    <tr>\n",
       "      <th>total_null</th>\n",
       "      <td>0.0</td>\n",
       "      <td>0.0</td>\n",
       "      <td>17488.000000</td>\n",
       "      <td>0.0</td>\n",
       "      <td>61.000000</td>\n",
       "      <td>52.000000</td>\n",
       "      <td>0.0</td>\n",
       "      <td>0.0</td>\n",
       "      <td>0.0</td>\n",
       "      <td>0.0</td>\n",
       "      <td>0.0</td>\n",
       "      <td>0.0</td>\n",
       "      <td>0.0</td>\n",
       "    </tr>\n",
       "    <tr>\n",
       "      <th>percent_null</th>\n",
       "      <td>0.0</td>\n",
       "      <td>0.0</td>\n",
       "      <td>91.541039</td>\n",
       "      <td>0.0</td>\n",
       "      <td>0.319305</td>\n",
       "      <td>0.272194</td>\n",
       "      <td>0.0</td>\n",
       "      <td>0.0</td>\n",
       "      <td>0.0</td>\n",
       "      <td>0.0</td>\n",
       "      <td>0.0</td>\n",
       "      <td>0.0</td>\n",
       "      <td>0.0</td>\n",
       "    </tr>\n",
       "  </tbody>\n",
       "</table>\n",
       "</div>"
      ],
      "text/plain": [
       "              Dateofjoining  ReportingDate  LastWorkingDate  Driver_ID  \\\n",
       "total_null              0.0            0.0     17488.000000        0.0   \n",
       "percent_null            0.0            0.0        91.541039        0.0   \n",
       "\n",
       "                    Age     Gender  City  Education_Level  \\\n",
       "total_null    61.000000  52.000000   0.0              0.0   \n",
       "percent_null   0.319305   0.272194   0.0              0.0   \n",
       "\n",
       "              Joining Designation  Grade  Quarterly Rating  Income  \\\n",
       "total_null                    0.0    0.0               0.0     0.0   \n",
       "percent_null                  0.0    0.0               0.0     0.0   \n",
       "\n",
       "              Total Business Value  \n",
       "total_null                     0.0  \n",
       "percent_null                   0.0  "
      ]
     },
     "execution_count": 1586,
     "metadata": {},
     "output_type": "execute_result"
    }
   ],
   "source": [
    "pd.DataFrame([df.isnull().sum().values, (df.isnull().sum()/df.shape[0]*100).values], \n",
    "              columns=df.isnull().sum().index, \n",
    "              index=[\"total_null\",\"percent_null\"])"
   ]
  },
  {
   "cell_type": "code",
   "execution_count": 1587,
   "id": "e83ee6b5",
   "metadata": {},
   "outputs": [
    {
     "name": "stdout",
     "output_type": "stream",
     "text": [
      "91.59338358458962 % rows have null values\n"
     ]
    }
   ],
   "source": [
    "# percentage row having null values\n",
    "p = 1-df.dropna(inplace=False).shape[0]/len(df)\n",
    "print(p*100,\"% rows have null values\")"
   ]
  },
  {
   "cell_type": "markdown",
   "id": "25be2f43",
   "metadata": {},
   "source": [
    "#### drop null rows for Age and Gender"
   ]
  },
  {
   "cell_type": "code",
   "execution_count": 1588,
   "id": "7713b93d",
   "metadata": {},
   "outputs": [],
   "source": [
    "df = df[df[\"Age\"].notnull() & df[\"Gender\"].notnull()]"
   ]
  },
  {
   "cell_type": "code",
   "execution_count": 1589,
   "id": "6634c044",
   "metadata": {},
   "outputs": [
    {
     "data": {
      "text/plain": [
       "(18991, 13)"
      ]
     },
     "execution_count": 1589,
     "metadata": {},
     "output_type": "execute_result"
    }
   ],
   "source": [
    "df.shape"
   ]
  },
  {
   "cell_type": "code",
   "execution_count": 1590,
   "id": "d8061722",
   "metadata": {},
   "outputs": [
    {
     "data": {
      "text/html": [
       "<div>\n",
       "<style scoped>\n",
       "    .dataframe tbody tr th:only-of-type {\n",
       "        vertical-align: middle;\n",
       "    }\n",
       "\n",
       "    .dataframe tbody tr th {\n",
       "        vertical-align: top;\n",
       "    }\n",
       "\n",
       "    .dataframe thead th {\n",
       "        text-align: right;\n",
       "    }\n",
       "</style>\n",
       "<table border=\"1\" class=\"dataframe\">\n",
       "  <thead>\n",
       "    <tr style=\"text-align: right;\">\n",
       "      <th></th>\n",
       "      <th>Dateofjoining</th>\n",
       "      <th>ReportingDate</th>\n",
       "      <th>LastWorkingDate</th>\n",
       "      <th>Driver_ID</th>\n",
       "      <th>Age</th>\n",
       "      <th>Gender</th>\n",
       "      <th>City</th>\n",
       "      <th>Education_Level</th>\n",
       "      <th>Joining Designation</th>\n",
       "      <th>Grade</th>\n",
       "      <th>Quarterly Rating</th>\n",
       "      <th>Income</th>\n",
       "      <th>Total Business Value</th>\n",
       "    </tr>\n",
       "  </thead>\n",
       "  <tbody>\n",
       "    <tr>\n",
       "      <th>total_null</th>\n",
       "      <td>0.0</td>\n",
       "      <td>0.0</td>\n",
       "      <td>17385.000000</td>\n",
       "      <td>0.0</td>\n",
       "      <td>0.0</td>\n",
       "      <td>0.0</td>\n",
       "      <td>0.0</td>\n",
       "      <td>0.0</td>\n",
       "      <td>0.0</td>\n",
       "      <td>0.0</td>\n",
       "      <td>0.0</td>\n",
       "      <td>0.0</td>\n",
       "      <td>0.0</td>\n",
       "    </tr>\n",
       "    <tr>\n",
       "      <th>percent_null</th>\n",
       "      <td>0.0</td>\n",
       "      <td>0.0</td>\n",
       "      <td>91.543363</td>\n",
       "      <td>0.0</td>\n",
       "      <td>0.0</td>\n",
       "      <td>0.0</td>\n",
       "      <td>0.0</td>\n",
       "      <td>0.0</td>\n",
       "      <td>0.0</td>\n",
       "      <td>0.0</td>\n",
       "      <td>0.0</td>\n",
       "      <td>0.0</td>\n",
       "      <td>0.0</td>\n",
       "    </tr>\n",
       "  </tbody>\n",
       "</table>\n",
       "</div>"
      ],
      "text/plain": [
       "              Dateofjoining  ReportingDate  LastWorkingDate  Driver_ID  Age  \\\n",
       "total_null              0.0            0.0     17385.000000        0.0  0.0   \n",
       "percent_null            0.0            0.0        91.543363        0.0  0.0   \n",
       "\n",
       "              Gender  City  Education_Level  Joining Designation  Grade  \\\n",
       "total_null       0.0   0.0              0.0                  0.0    0.0   \n",
       "percent_null     0.0   0.0              0.0                  0.0    0.0   \n",
       "\n",
       "              Quarterly Rating  Income  Total Business Value  \n",
       "total_null                 0.0     0.0                   0.0  \n",
       "percent_null               0.0     0.0                   0.0  "
      ]
     },
     "execution_count": 1590,
     "metadata": {},
     "output_type": "execute_result"
    }
   ],
   "source": [
    "pd.DataFrame([df.isnull().sum().values, (df.isnull().sum()/df.shape[0]*100).values], \n",
    "              columns=df.isnull().sum().index, \n",
    "              index=[\"total_null\",\"percent_null\"])"
   ]
  },
  {
   "cell_type": "code",
   "execution_count": 1591,
   "id": "7505a862",
   "metadata": {},
   "outputs": [
    {
     "name": "stdout",
     "output_type": "stream",
     "text": [
      "91.54336264546365 % rows have null values\n"
     ]
    }
   ],
   "source": [
    "# percentage row having null values\n",
    "p = 1-df.dropna(inplace=False).shape[0]/len(df)\n",
    "print(p*100,\"% rows have null values\")"
   ]
  },
  {
   "cell_type": "code",
   "execution_count": 1592,
   "id": "cd518fe3",
   "metadata": {},
   "outputs": [
    {
     "data": {
      "text/plain": [
       "(18991, 13)"
      ]
     },
     "execution_count": 1592,
     "metadata": {},
     "output_type": "execute_result"
    }
   ],
   "source": [
    "df.shape"
   ]
  },
  {
   "cell_type": "markdown",
   "id": "bcbef3b1",
   "metadata": {},
   "source": [
    "### removing duplicate rows"
   ]
  },
  {
   "cell_type": "code",
   "execution_count": 1593,
   "id": "faaad86d",
   "metadata": {},
   "outputs": [
    {
     "data": {
      "text/plain": [
       "0"
      ]
     },
     "execution_count": 1593,
     "metadata": {},
     "output_type": "execute_result"
    }
   ],
   "source": [
    "df.duplicated().sum()"
   ]
  },
  {
   "cell_type": "markdown",
   "id": "c7ff1e9d",
   "metadata": {},
   "source": [
    "# (C) Column Profiling and grouping"
   ]
  },
  {
   "cell_type": "markdown",
   "id": "1c9c00a1",
   "metadata": {},
   "source": [
    "### data summary"
   ]
  },
  {
   "cell_type": "code",
   "execution_count": 1594,
   "id": "1530d5bb",
   "metadata": {},
   "outputs": [
    {
     "data": {
      "text/html": [
       "<div>\n",
       "<style scoped>\n",
       "    .dataframe tbody tr th:only-of-type {\n",
       "        vertical-align: middle;\n",
       "    }\n",
       "\n",
       "    .dataframe tbody tr th {\n",
       "        vertical-align: top;\n",
       "    }\n",
       "\n",
       "    .dataframe thead th {\n",
       "        text-align: right;\n",
       "    }\n",
       "</style>\n",
       "<table border=\"1\" class=\"dataframe\">\n",
       "  <thead>\n",
       "    <tr style=\"text-align: right;\">\n",
       "      <th></th>\n",
       "      <th>Dateofjoining</th>\n",
       "      <th>ReportingDate</th>\n",
       "      <th>LastWorkingDate</th>\n",
       "      <th>Driver_ID</th>\n",
       "      <th>Age</th>\n",
       "      <th>Gender</th>\n",
       "      <th>City</th>\n",
       "      <th>Education_Level</th>\n",
       "      <th>Joining Designation</th>\n",
       "      <th>Grade</th>\n",
       "      <th>Quarterly Rating</th>\n",
       "      <th>Income</th>\n",
       "      <th>Total Business Value</th>\n",
       "    </tr>\n",
       "  </thead>\n",
       "  <tbody>\n",
       "    <tr>\n",
       "      <th>0</th>\n",
       "      <td>24/12/18</td>\n",
       "      <td>01/01/19</td>\n",
       "      <td>NaN</td>\n",
       "      <td>1</td>\n",
       "      <td>28.0</td>\n",
       "      <td>0.0</td>\n",
       "      <td>C23</td>\n",
       "      <td>2</td>\n",
       "      <td>1</td>\n",
       "      <td>1</td>\n",
       "      <td>2</td>\n",
       "      <td>57387</td>\n",
       "      <td>2381060</td>\n",
       "    </tr>\n",
       "    <tr>\n",
       "      <th>1</th>\n",
       "      <td>24/12/18</td>\n",
       "      <td>02/01/19</td>\n",
       "      <td>NaN</td>\n",
       "      <td>1</td>\n",
       "      <td>28.0</td>\n",
       "      <td>0.0</td>\n",
       "      <td>C23</td>\n",
       "      <td>2</td>\n",
       "      <td>1</td>\n",
       "      <td>1</td>\n",
       "      <td>2</td>\n",
       "      <td>57387</td>\n",
       "      <td>-665480</td>\n",
       "    </tr>\n",
       "    <tr>\n",
       "      <th>2</th>\n",
       "      <td>24/12/18</td>\n",
       "      <td>03/01/19</td>\n",
       "      <td>03/11/19</td>\n",
       "      <td>1</td>\n",
       "      <td>28.0</td>\n",
       "      <td>0.0</td>\n",
       "      <td>C23</td>\n",
       "      <td>2</td>\n",
       "      <td>1</td>\n",
       "      <td>1</td>\n",
       "      <td>2</td>\n",
       "      <td>57387</td>\n",
       "      <td>0</td>\n",
       "    </tr>\n",
       "    <tr>\n",
       "      <th>3</th>\n",
       "      <td>11/06/20</td>\n",
       "      <td>11/01/20</td>\n",
       "      <td>NaN</td>\n",
       "      <td>2</td>\n",
       "      <td>31.0</td>\n",
       "      <td>0.0</td>\n",
       "      <td>C7</td>\n",
       "      <td>2</td>\n",
       "      <td>2</td>\n",
       "      <td>2</td>\n",
       "      <td>1</td>\n",
       "      <td>67016</td>\n",
       "      <td>0</td>\n",
       "    </tr>\n",
       "    <tr>\n",
       "      <th>4</th>\n",
       "      <td>11/06/20</td>\n",
       "      <td>12/01/20</td>\n",
       "      <td>NaN</td>\n",
       "      <td>2</td>\n",
       "      <td>31.0</td>\n",
       "      <td>0.0</td>\n",
       "      <td>C7</td>\n",
       "      <td>2</td>\n",
       "      <td>2</td>\n",
       "      <td>2</td>\n",
       "      <td>1</td>\n",
       "      <td>67016</td>\n",
       "      <td>0</td>\n",
       "    </tr>\n",
       "  </tbody>\n",
       "</table>\n",
       "</div>"
      ],
      "text/plain": [
       "  Dateofjoining ReportingDate LastWorkingDate  Driver_ID   Age  Gender City  \\\n",
       "0      24/12/18      01/01/19             NaN          1  28.0     0.0  C23   \n",
       "1      24/12/18      02/01/19             NaN          1  28.0     0.0  C23   \n",
       "2      24/12/18      03/01/19        03/11/19          1  28.0     0.0  C23   \n",
       "3      11/06/20      11/01/20             NaN          2  31.0     0.0   C7   \n",
       "4      11/06/20      12/01/20             NaN          2  31.0     0.0   C7   \n",
       "\n",
       "   Education_Level  Joining Designation  Grade  Quarterly Rating  Income  \\\n",
       "0                2                    1      1                 2   57387   \n",
       "1                2                    1      1                 2   57387   \n",
       "2                2                    1      1                 2   57387   \n",
       "3                2                    2      2                 1   67016   \n",
       "4                2                    2      2                 1   67016   \n",
       "\n",
       "   Total Business Value  \n",
       "0               2381060  \n",
       "1               -665480  \n",
       "2                     0  \n",
       "3                     0  \n",
       "4                     0  "
      ]
     },
     "execution_count": 1594,
     "metadata": {},
     "output_type": "execute_result"
    }
   ],
   "source": [
    "df.head()"
   ]
  },
  {
   "cell_type": "code",
   "execution_count": 1595,
   "id": "3f4f23df",
   "metadata": {},
   "outputs": [
    {
     "name": "stdout",
     "output_type": "stream",
     "text": [
      "<class 'pandas.core.frame.DataFrame'>\n",
      "Int64Index: 18991 entries, 0 to 19103\n",
      "Data columns (total 13 columns):\n",
      " #   Column                Non-Null Count  Dtype  \n",
      "---  ------                --------------  -----  \n",
      " 0   Dateofjoining         18991 non-null  object \n",
      " 1   ReportingDate         18991 non-null  object \n",
      " 2   LastWorkingDate       1606 non-null   object \n",
      " 3   Driver_ID             18991 non-null  int64  \n",
      " 4   Age                   18991 non-null  float64\n",
      " 5   Gender                18991 non-null  float64\n",
      " 6   City                  18991 non-null  object \n",
      " 7   Education_Level       18991 non-null  int64  \n",
      " 8   Joining Designation   18991 non-null  int64  \n",
      " 9   Grade                 18991 non-null  int64  \n",
      " 10  Quarterly Rating      18991 non-null  int64  \n",
      " 11  Income                18991 non-null  int64  \n",
      " 12  Total Business Value  18991 non-null  int64  \n",
      "dtypes: float64(2), int64(7), object(4)\n",
      "memory usage: 2.0+ MB\n"
     ]
    }
   ],
   "source": [
    "df.info()"
   ]
  },
  {
   "cell_type": "code",
   "execution_count": 1596,
   "id": "ce3fae96",
   "metadata": {},
   "outputs": [],
   "source": [
    "df[\"Dateofjoining\"]=df[\"Dateofjoining\"].astype(\"datetime64\")"
   ]
  },
  {
   "cell_type": "code",
   "execution_count": 1597,
   "id": "5c765652",
   "metadata": {},
   "outputs": [],
   "source": [
    "df[\"ReportingDate\"]=df[\"ReportingDate\"].astype(\"datetime64\")"
   ]
  },
  {
   "cell_type": "code",
   "execution_count": 1598,
   "id": "523d7be9",
   "metadata": {},
   "outputs": [],
   "source": [
    "df[\"LastWorkingDate\"] = df[\"LastWorkingDate\"].astype(\"datetime64\")"
   ]
  },
  {
   "cell_type": "code",
   "execution_count": 1599,
   "id": "38f8e00c",
   "metadata": {},
   "outputs": [
    {
     "name": "stdout",
     "output_type": "stream",
     "text": [
      "<class 'pandas.core.frame.DataFrame'>\n",
      "Int64Index: 18991 entries, 0 to 19103\n",
      "Data columns (total 13 columns):\n",
      " #   Column                Non-Null Count  Dtype         \n",
      "---  ------                --------------  -----         \n",
      " 0   Dateofjoining         18991 non-null  datetime64[ns]\n",
      " 1   ReportingDate         18991 non-null  datetime64[ns]\n",
      " 2   LastWorkingDate       1606 non-null   datetime64[ns]\n",
      " 3   Driver_ID             18991 non-null  int64         \n",
      " 4   Age                   18991 non-null  float64       \n",
      " 5   Gender                18991 non-null  float64       \n",
      " 6   City                  18991 non-null  object        \n",
      " 7   Education_Level       18991 non-null  int64         \n",
      " 8   Joining Designation   18991 non-null  int64         \n",
      " 9   Grade                 18991 non-null  int64         \n",
      " 10  Quarterly Rating      18991 non-null  int64         \n",
      " 11  Income                18991 non-null  int64         \n",
      " 12  Total Business Value  18991 non-null  int64         \n",
      "dtypes: datetime64[ns](3), float64(2), int64(7), object(1)\n",
      "memory usage: 2.0+ MB\n"
     ]
    }
   ],
   "source": [
    "df.info()"
   ]
  },
  {
   "cell_type": "code",
   "execution_count": 1600,
   "id": "cb526296",
   "metadata": {},
   "outputs": [],
   "source": [
    "df[\"churn\"] = df[\"LastWorkingDate\"].apply(lambda x: 0 if pd.isnull(x) else 1)"
   ]
  },
  {
   "cell_type": "code",
   "execution_count": 1601,
   "id": "c4f228a2",
   "metadata": {},
   "outputs": [
    {
     "data": {
      "text/html": [
       "<div>\n",
       "<style scoped>\n",
       "    .dataframe tbody tr th:only-of-type {\n",
       "        vertical-align: middle;\n",
       "    }\n",
       "\n",
       "    .dataframe tbody tr th {\n",
       "        vertical-align: top;\n",
       "    }\n",
       "\n",
       "    .dataframe thead th {\n",
       "        text-align: right;\n",
       "    }\n",
       "</style>\n",
       "<table border=\"1\" class=\"dataframe\">\n",
       "  <thead>\n",
       "    <tr style=\"text-align: right;\">\n",
       "      <th></th>\n",
       "      <th>Dateofjoining</th>\n",
       "      <th>ReportingDate</th>\n",
       "      <th>LastWorkingDate</th>\n",
       "      <th>Driver_ID</th>\n",
       "      <th>Age</th>\n",
       "      <th>Gender</th>\n",
       "      <th>City</th>\n",
       "      <th>Education_Level</th>\n",
       "      <th>Joining Designation</th>\n",
       "      <th>Grade</th>\n",
       "      <th>Quarterly Rating</th>\n",
       "      <th>Income</th>\n",
       "      <th>Total Business Value</th>\n",
       "      <th>churn</th>\n",
       "    </tr>\n",
       "  </thead>\n",
       "  <tbody>\n",
       "    <tr>\n",
       "      <th>0</th>\n",
       "      <td>2018-12-24</td>\n",
       "      <td>2019-01-01</td>\n",
       "      <td>NaT</td>\n",
       "      <td>1</td>\n",
       "      <td>28.0</td>\n",
       "      <td>0.0</td>\n",
       "      <td>C23</td>\n",
       "      <td>2</td>\n",
       "      <td>1</td>\n",
       "      <td>1</td>\n",
       "      <td>2</td>\n",
       "      <td>57387</td>\n",
       "      <td>2381060</td>\n",
       "      <td>0</td>\n",
       "    </tr>\n",
       "    <tr>\n",
       "      <th>1</th>\n",
       "      <td>2018-12-24</td>\n",
       "      <td>2019-02-01</td>\n",
       "      <td>NaT</td>\n",
       "      <td>1</td>\n",
       "      <td>28.0</td>\n",
       "      <td>0.0</td>\n",
       "      <td>C23</td>\n",
       "      <td>2</td>\n",
       "      <td>1</td>\n",
       "      <td>1</td>\n",
       "      <td>2</td>\n",
       "      <td>57387</td>\n",
       "      <td>-665480</td>\n",
       "      <td>0</td>\n",
       "    </tr>\n",
       "    <tr>\n",
       "      <th>2</th>\n",
       "      <td>2018-12-24</td>\n",
       "      <td>2019-03-01</td>\n",
       "      <td>2019-03-11</td>\n",
       "      <td>1</td>\n",
       "      <td>28.0</td>\n",
       "      <td>0.0</td>\n",
       "      <td>C23</td>\n",
       "      <td>2</td>\n",
       "      <td>1</td>\n",
       "      <td>1</td>\n",
       "      <td>2</td>\n",
       "      <td>57387</td>\n",
       "      <td>0</td>\n",
       "      <td>1</td>\n",
       "    </tr>\n",
       "    <tr>\n",
       "      <th>3</th>\n",
       "      <td>2020-11-06</td>\n",
       "      <td>2020-11-01</td>\n",
       "      <td>NaT</td>\n",
       "      <td>2</td>\n",
       "      <td>31.0</td>\n",
       "      <td>0.0</td>\n",
       "      <td>C7</td>\n",
       "      <td>2</td>\n",
       "      <td>2</td>\n",
       "      <td>2</td>\n",
       "      <td>1</td>\n",
       "      <td>67016</td>\n",
       "      <td>0</td>\n",
       "      <td>0</td>\n",
       "    </tr>\n",
       "    <tr>\n",
       "      <th>4</th>\n",
       "      <td>2020-11-06</td>\n",
       "      <td>2020-12-01</td>\n",
       "      <td>NaT</td>\n",
       "      <td>2</td>\n",
       "      <td>31.0</td>\n",
       "      <td>0.0</td>\n",
       "      <td>C7</td>\n",
       "      <td>2</td>\n",
       "      <td>2</td>\n",
       "      <td>2</td>\n",
       "      <td>1</td>\n",
       "      <td>67016</td>\n",
       "      <td>0</td>\n",
       "      <td>0</td>\n",
       "    </tr>\n",
       "  </tbody>\n",
       "</table>\n",
       "</div>"
      ],
      "text/plain": [
       "  Dateofjoining ReportingDate LastWorkingDate  Driver_ID   Age  Gender City  \\\n",
       "0    2018-12-24    2019-01-01             NaT          1  28.0     0.0  C23   \n",
       "1    2018-12-24    2019-02-01             NaT          1  28.0     0.0  C23   \n",
       "2    2018-12-24    2019-03-01      2019-03-11          1  28.0     0.0  C23   \n",
       "3    2020-11-06    2020-11-01             NaT          2  31.0     0.0   C7   \n",
       "4    2020-11-06    2020-12-01             NaT          2  31.0     0.0   C7   \n",
       "\n",
       "   Education_Level  Joining Designation  Grade  Quarterly Rating  Income  \\\n",
       "0                2                    1      1                 2   57387   \n",
       "1                2                    1      1                 2   57387   \n",
       "2                2                    1      1                 2   57387   \n",
       "3                2                    2      2                 1   67016   \n",
       "4                2                    2      2                 1   67016   \n",
       "\n",
       "   Total Business Value  churn  \n",
       "0               2381060      0  \n",
       "1               -665480      0  \n",
       "2                     0      1  \n",
       "3                     0      0  \n",
       "4                     0      0  "
      ]
     },
     "execution_count": 1601,
     "metadata": {},
     "output_type": "execute_result"
    }
   ],
   "source": [
    "df.head()"
   ]
  },
  {
   "cell_type": "code",
   "execution_count": 1602,
   "id": "54dc740e",
   "metadata": {},
   "outputs": [
    {
     "data": {
      "text/plain": [
       "0    17385\n",
       "1     1606\n",
       "Name: churn, dtype: int64"
      ]
     },
     "execution_count": 1602,
     "metadata": {},
     "output_type": "execute_result"
    }
   ],
   "source": [
    "df[\"churn\"].value_counts()"
   ]
  },
  {
   "cell_type": "code",
   "execution_count": 1603,
   "id": "fa3a259b",
   "metadata": {},
   "outputs": [
    {
     "data": {
      "text/plain": [
       "1       1\n",
       "1887    1\n",
       "1901    1\n",
       "1900    1\n",
       "1899    1\n",
       "       ..\n",
       "951     1\n",
       "949     1\n",
       "948     1\n",
       "947     1\n",
       "2787    1\n",
       "Name: Driver_ID, Length: 1606, dtype: int64"
      ]
     },
     "execution_count": 1603,
     "metadata": {},
     "output_type": "execute_result"
    }
   ],
   "source": [
    "df[df[\"churn\"]==1][\"Driver_ID\"].value_counts()"
   ]
  },
  {
   "cell_type": "code",
   "execution_count": 1604,
   "id": "bcbdc865",
   "metadata": {},
   "outputs": [],
   "source": [
    "churn_ids = set(df[df[\"churn\"]==1][\"Driver_ID\"].value_counts().index)"
   ]
  },
  {
   "cell_type": "code",
   "execution_count": 1605,
   "id": "a8697a1c",
   "metadata": {},
   "outputs": [],
   "source": [
    "df[\"churn\"] = df[\"Driver_ID\"].apply(lambda x: 1 if x in churn_ids else 0)"
   ]
  },
  {
   "cell_type": "code",
   "execution_count": 1606,
   "id": "08ff470f",
   "metadata": {},
   "outputs": [
    {
     "data": {
      "text/html": [
       "<div>\n",
       "<style scoped>\n",
       "    .dataframe tbody tr th:only-of-type {\n",
       "        vertical-align: middle;\n",
       "    }\n",
       "\n",
       "    .dataframe tbody tr th {\n",
       "        vertical-align: top;\n",
       "    }\n",
       "\n",
       "    .dataframe thead th {\n",
       "        text-align: right;\n",
       "    }\n",
       "</style>\n",
       "<table border=\"1\" class=\"dataframe\">\n",
       "  <thead>\n",
       "    <tr style=\"text-align: right;\">\n",
       "      <th></th>\n",
       "      <th>Dateofjoining</th>\n",
       "      <th>ReportingDate</th>\n",
       "      <th>LastWorkingDate</th>\n",
       "      <th>Driver_ID</th>\n",
       "      <th>Age</th>\n",
       "      <th>Gender</th>\n",
       "      <th>City</th>\n",
       "      <th>Education_Level</th>\n",
       "      <th>Joining Designation</th>\n",
       "      <th>Grade</th>\n",
       "      <th>Quarterly Rating</th>\n",
       "      <th>Income</th>\n",
       "      <th>Total Business Value</th>\n",
       "      <th>churn</th>\n",
       "    </tr>\n",
       "  </thead>\n",
       "  <tbody>\n",
       "    <tr>\n",
       "      <th>148</th>\n",
       "      <td>2018-05-07</td>\n",
       "      <td>2019-11-01</td>\n",
       "      <td>NaT</td>\n",
       "      <td>26</td>\n",
       "      <td>42.0</td>\n",
       "      <td>0.0</td>\n",
       "      <td>C14</td>\n",
       "      <td>2</td>\n",
       "      <td>1</td>\n",
       "      <td>3</td>\n",
       "      <td>4</td>\n",
       "      <td>121529</td>\n",
       "      <td>13097320</td>\n",
       "      <td>0</td>\n",
       "    </tr>\n",
       "    <tr>\n",
       "      <th>149</th>\n",
       "      <td>2018-05-07</td>\n",
       "      <td>2019-12-01</td>\n",
       "      <td>NaT</td>\n",
       "      <td>26</td>\n",
       "      <td>42.0</td>\n",
       "      <td>0.0</td>\n",
       "      <td>C14</td>\n",
       "      <td>2</td>\n",
       "      <td>1</td>\n",
       "      <td>3</td>\n",
       "      <td>4</td>\n",
       "      <td>121529</td>\n",
       "      <td>1086370</td>\n",
       "      <td>0</td>\n",
       "    </tr>\n",
       "    <tr>\n",
       "      <th>150</th>\n",
       "      <td>2018-05-07</td>\n",
       "      <td>2020-01-01</td>\n",
       "      <td>NaT</td>\n",
       "      <td>26</td>\n",
       "      <td>42.0</td>\n",
       "      <td>0.0</td>\n",
       "      <td>C14</td>\n",
       "      <td>2</td>\n",
       "      <td>1</td>\n",
       "      <td>3</td>\n",
       "      <td>2</td>\n",
       "      <td>121529</td>\n",
       "      <td>732410</td>\n",
       "      <td>0</td>\n",
       "    </tr>\n",
       "    <tr>\n",
       "      <th>151</th>\n",
       "      <td>2018-05-07</td>\n",
       "      <td>2020-02-01</td>\n",
       "      <td>NaT</td>\n",
       "      <td>26</td>\n",
       "      <td>42.0</td>\n",
       "      <td>0.0</td>\n",
       "      <td>C14</td>\n",
       "      <td>2</td>\n",
       "      <td>1</td>\n",
       "      <td>3</td>\n",
       "      <td>2</td>\n",
       "      <td>121529</td>\n",
       "      <td>1511840</td>\n",
       "      <td>0</td>\n",
       "    </tr>\n",
       "    <tr>\n",
       "      <th>152</th>\n",
       "      <td>2018-05-07</td>\n",
       "      <td>2020-03-01</td>\n",
       "      <td>NaT</td>\n",
       "      <td>26</td>\n",
       "      <td>42.0</td>\n",
       "      <td>0.0</td>\n",
       "      <td>C14</td>\n",
       "      <td>2</td>\n",
       "      <td>1</td>\n",
       "      <td>4</td>\n",
       "      <td>4</td>\n",
       "      <td>132577</td>\n",
       "      <td>9226690</td>\n",
       "      <td>0</td>\n",
       "    </tr>\n",
       "    <tr>\n",
       "      <th>153</th>\n",
       "      <td>2018-05-07</td>\n",
       "      <td>2020-04-01</td>\n",
       "      <td>NaT</td>\n",
       "      <td>26</td>\n",
       "      <td>42.0</td>\n",
       "      <td>0.0</td>\n",
       "      <td>C14</td>\n",
       "      <td>2</td>\n",
       "      <td>1</td>\n",
       "      <td>4</td>\n",
       "      <td>2</td>\n",
       "      <td>132577</td>\n",
       "      <td>1940050</td>\n",
       "      <td>0</td>\n",
       "    </tr>\n",
       "    <tr>\n",
       "      <th>154</th>\n",
       "      <td>2018-05-07</td>\n",
       "      <td>2020-05-01</td>\n",
       "      <td>NaT</td>\n",
       "      <td>26</td>\n",
       "      <td>42.0</td>\n",
       "      <td>0.0</td>\n",
       "      <td>C14</td>\n",
       "      <td>2</td>\n",
       "      <td>1</td>\n",
       "      <td>4</td>\n",
       "      <td>2</td>\n",
       "      <td>132577</td>\n",
       "      <td>970030</td>\n",
       "      <td>0</td>\n",
       "    </tr>\n",
       "    <tr>\n",
       "      <th>155</th>\n",
       "      <td>2018-05-07</td>\n",
       "      <td>2020-06-01</td>\n",
       "      <td>NaT</td>\n",
       "      <td>26</td>\n",
       "      <td>42.0</td>\n",
       "      <td>0.0</td>\n",
       "      <td>C14</td>\n",
       "      <td>2</td>\n",
       "      <td>1</td>\n",
       "      <td>4</td>\n",
       "      <td>2</td>\n",
       "      <td>132577</td>\n",
       "      <td>0</td>\n",
       "      <td>0</td>\n",
       "    </tr>\n",
       "    <tr>\n",
       "      <th>156</th>\n",
       "      <td>2018-05-07</td>\n",
       "      <td>2020-07-01</td>\n",
       "      <td>NaT</td>\n",
       "      <td>26</td>\n",
       "      <td>42.0</td>\n",
       "      <td>0.0</td>\n",
       "      <td>C14</td>\n",
       "      <td>2</td>\n",
       "      <td>1</td>\n",
       "      <td>4</td>\n",
       "      <td>2</td>\n",
       "      <td>132577</td>\n",
       "      <td>153590</td>\n",
       "      <td>0</td>\n",
       "    </tr>\n",
       "    <tr>\n",
       "      <th>157</th>\n",
       "      <td>2018-05-07</td>\n",
       "      <td>2020-08-01</td>\n",
       "      <td>NaT</td>\n",
       "      <td>26</td>\n",
       "      <td>42.0</td>\n",
       "      <td>0.0</td>\n",
       "      <td>C14</td>\n",
       "      <td>2</td>\n",
       "      <td>1</td>\n",
       "      <td>4</td>\n",
       "      <td>2</td>\n",
       "      <td>132577</td>\n",
       "      <td>1710410</td>\n",
       "      <td>0</td>\n",
       "    </tr>\n",
       "    <tr>\n",
       "      <th>158</th>\n",
       "      <td>2018-05-07</td>\n",
       "      <td>2020-09-01</td>\n",
       "      <td>NaT</td>\n",
       "      <td>26</td>\n",
       "      <td>43.0</td>\n",
       "      <td>0.0</td>\n",
       "      <td>C14</td>\n",
       "      <td>2</td>\n",
       "      <td>1</td>\n",
       "      <td>4</td>\n",
       "      <td>2</td>\n",
       "      <td>132577</td>\n",
       "      <td>440550</td>\n",
       "      <td>0</td>\n",
       "    </tr>\n",
       "    <tr>\n",
       "      <th>159</th>\n",
       "      <td>2018-05-07</td>\n",
       "      <td>2020-10-01</td>\n",
       "      <td>NaT</td>\n",
       "      <td>26</td>\n",
       "      <td>43.0</td>\n",
       "      <td>0.0</td>\n",
       "      <td>C14</td>\n",
       "      <td>2</td>\n",
       "      <td>1</td>\n",
       "      <td>4</td>\n",
       "      <td>2</td>\n",
       "      <td>132577</td>\n",
       "      <td>744590</td>\n",
       "      <td>0</td>\n",
       "    </tr>\n",
       "    <tr>\n",
       "      <th>160</th>\n",
       "      <td>2018-05-07</td>\n",
       "      <td>2020-11-01</td>\n",
       "      <td>NaT</td>\n",
       "      <td>26</td>\n",
       "      <td>43.0</td>\n",
       "      <td>0.0</td>\n",
       "      <td>C14</td>\n",
       "      <td>2</td>\n",
       "      <td>1</td>\n",
       "      <td>4</td>\n",
       "      <td>2</td>\n",
       "      <td>132577</td>\n",
       "      <td>1578270</td>\n",
       "      <td>0</td>\n",
       "    </tr>\n",
       "    <tr>\n",
       "      <th>161</th>\n",
       "      <td>2018-05-07</td>\n",
       "      <td>2020-12-01</td>\n",
       "      <td>NaT</td>\n",
       "      <td>26</td>\n",
       "      <td>43.0</td>\n",
       "      <td>0.0</td>\n",
       "      <td>C14</td>\n",
       "      <td>2</td>\n",
       "      <td>1</td>\n",
       "      <td>4</td>\n",
       "      <td>2</td>\n",
       "      <td>132577</td>\n",
       "      <td>1453220</td>\n",
       "      <td>0</td>\n",
       "    </tr>\n",
       "    <tr>\n",
       "      <th>170</th>\n",
       "      <td>2020-07-04</td>\n",
       "      <td>2020-07-01</td>\n",
       "      <td>NaT</td>\n",
       "      <td>31</td>\n",
       "      <td>32.0</td>\n",
       "      <td>1.0</td>\n",
       "      <td>C28</td>\n",
       "      <td>2</td>\n",
       "      <td>3</td>\n",
       "      <td>3</td>\n",
       "      <td>1</td>\n",
       "      <td>65189</td>\n",
       "      <td>0</td>\n",
       "      <td>0</td>\n",
       "    </tr>\n",
       "  </tbody>\n",
       "</table>\n",
       "</div>"
      ],
      "text/plain": [
       "    Dateofjoining ReportingDate LastWorkingDate  Driver_ID   Age  Gender City  \\\n",
       "148    2018-05-07    2019-11-01             NaT         26  42.0     0.0  C14   \n",
       "149    2018-05-07    2019-12-01             NaT         26  42.0     0.0  C14   \n",
       "150    2018-05-07    2020-01-01             NaT         26  42.0     0.0  C14   \n",
       "151    2018-05-07    2020-02-01             NaT         26  42.0     0.0  C14   \n",
       "152    2018-05-07    2020-03-01             NaT         26  42.0     0.0  C14   \n",
       "153    2018-05-07    2020-04-01             NaT         26  42.0     0.0  C14   \n",
       "154    2018-05-07    2020-05-01             NaT         26  42.0     0.0  C14   \n",
       "155    2018-05-07    2020-06-01             NaT         26  42.0     0.0  C14   \n",
       "156    2018-05-07    2020-07-01             NaT         26  42.0     0.0  C14   \n",
       "157    2018-05-07    2020-08-01             NaT         26  42.0     0.0  C14   \n",
       "158    2018-05-07    2020-09-01             NaT         26  43.0     0.0  C14   \n",
       "159    2018-05-07    2020-10-01             NaT         26  43.0     0.0  C14   \n",
       "160    2018-05-07    2020-11-01             NaT         26  43.0     0.0  C14   \n",
       "161    2018-05-07    2020-12-01             NaT         26  43.0     0.0  C14   \n",
       "170    2020-07-04    2020-07-01             NaT         31  32.0     1.0  C28   \n",
       "\n",
       "     Education_Level  Joining Designation  Grade  Quarterly Rating  Income  \\\n",
       "148                2                    1      3                 4  121529   \n",
       "149                2                    1      3                 4  121529   \n",
       "150                2                    1      3                 2  121529   \n",
       "151                2                    1      3                 2  121529   \n",
       "152                2                    1      4                 4  132577   \n",
       "153                2                    1      4                 2  132577   \n",
       "154                2                    1      4                 2  132577   \n",
       "155                2                    1      4                 2  132577   \n",
       "156                2                    1      4                 2  132577   \n",
       "157                2                    1      4                 2  132577   \n",
       "158                2                    1      4                 2  132577   \n",
       "159                2                    1      4                 2  132577   \n",
       "160                2                    1      4                 2  132577   \n",
       "161                2                    1      4                 2  132577   \n",
       "170                2                    3      3                 1   65189   \n",
       "\n",
       "     Total Business Value  churn  \n",
       "148              13097320      0  \n",
       "149               1086370      0  \n",
       "150                732410      0  \n",
       "151               1511840      0  \n",
       "152               9226690      0  \n",
       "153               1940050      0  \n",
       "154                970030      0  \n",
       "155                     0      0  \n",
       "156                153590      0  \n",
       "157               1710410      0  \n",
       "158                440550      0  \n",
       "159                744590      0  \n",
       "160               1578270      0  \n",
       "161               1453220      0  \n",
       "170                     0      0  "
      ]
     },
     "execution_count": 1606,
     "metadata": {},
     "output_type": "execute_result"
    }
   ],
   "source": [
    "df[df[\"churn\"]==0][45:60]"
   ]
  },
  {
   "cell_type": "code",
   "execution_count": 1607,
   "id": "ea4b6178",
   "metadata": {},
   "outputs": [
    {
     "data": {
      "text/plain": [
       "Index(['Dateofjoining', 'ReportingDate', 'LastWorkingDate', 'Driver_ID', 'Age',\n",
       "       'Gender', 'City', 'Education_Level', 'Joining Designation', 'Grade',\n",
       "       'Quarterly Rating', 'Income', 'Total Business Value', 'churn'],\n",
       "      dtype='object')"
      ]
     },
     "execution_count": 1607,
     "metadata": {},
     "output_type": "execute_result"
    }
   ],
   "source": [
    "df.columns"
   ]
  },
  {
   "cell_type": "code",
   "execution_count": 1608,
   "id": "6dee2008",
   "metadata": {},
   "outputs": [],
   "source": [
    "agg_type = {\"Age\":\"last\",\"Gender\":\"last\",\"City\":\"last\",\"Education_Level\":\"last\",\n",
    "            \"Joining Designation\":\"mean\",\"Grade\":\"median\",\"Quarterly Rating\":\"median\",\"Income\":\"median\",\n",
    "            \"Total Business Value\":\"mean\",\"churn\":\"last\"}"
   ]
  },
  {
   "cell_type": "code",
   "execution_count": 1609,
   "id": "090dafec",
   "metadata": {},
   "outputs": [],
   "source": [
    "cols = [\"Age\",\"Gender\",\"City\",\"Education_Level\",\"Joining Designation\",\"Grade\",\"Quarterly Rating\",\n",
    "        \"Income\",\"Total Business Value\",\"churn\"]"
   ]
  },
  {
   "cell_type": "code",
   "execution_count": 1610,
   "id": "f86e27a5",
   "metadata": {},
   "outputs": [],
   "source": [
    "df = df.groupby([\"Driver_ID\"])[cols].aggregate(agg_type).reset_index(inplace=False)"
   ]
  },
  {
   "cell_type": "code",
   "execution_count": 1611,
   "id": "9529f64e",
   "metadata": {},
   "outputs": [],
   "source": [
    "df[\"Age\"] = df[\"Age\"].astype(\"int64\")"
   ]
  },
  {
   "cell_type": "code",
   "execution_count": 1612,
   "id": "691ec86e",
   "metadata": {},
   "outputs": [],
   "source": [
    "df[\"Gender\"] = df[\"Gender\"].astype(\"int64\")"
   ]
  },
  {
   "cell_type": "code",
   "execution_count": 1613,
   "id": "597ccf65",
   "metadata": {},
   "outputs": [],
   "source": [
    "df[\"Joining Designation\"] = df[\"Joining Designation\"].astype(\"int64\")"
   ]
  },
  {
   "cell_type": "code",
   "execution_count": 1614,
   "id": "d4dada18",
   "metadata": {},
   "outputs": [],
   "source": [
    "df[\"Grade\"] = df[\"Grade\"].astype(\"int64\")"
   ]
  },
  {
   "cell_type": "code",
   "execution_count": 1615,
   "id": "bf0af99d",
   "metadata": {},
   "outputs": [],
   "source": [
    "df[\"Income\"] = df[\"Income\"].astype(\"int64\")"
   ]
  },
  {
   "cell_type": "code",
   "execution_count": 1616,
   "id": "003d6902",
   "metadata": {},
   "outputs": [],
   "source": [
    "df[\"Total Business Value\"] = np.round(df[\"Total Business Value\"],2)"
   ]
  },
  {
   "cell_type": "code",
   "execution_count": 1617,
   "id": "6ef56436",
   "metadata": {},
   "outputs": [
    {
     "data": {
      "text/html": [
       "<div>\n",
       "<style scoped>\n",
       "    .dataframe tbody tr th:only-of-type {\n",
       "        vertical-align: middle;\n",
       "    }\n",
       "\n",
       "    .dataframe tbody tr th {\n",
       "        vertical-align: top;\n",
       "    }\n",
       "\n",
       "    .dataframe thead th {\n",
       "        text-align: right;\n",
       "    }\n",
       "</style>\n",
       "<table border=\"1\" class=\"dataframe\">\n",
       "  <thead>\n",
       "    <tr style=\"text-align: right;\">\n",
       "      <th></th>\n",
       "      <th>Driver_ID</th>\n",
       "      <th>Age</th>\n",
       "      <th>Gender</th>\n",
       "      <th>City</th>\n",
       "      <th>Education_Level</th>\n",
       "      <th>Joining Designation</th>\n",
       "      <th>Grade</th>\n",
       "      <th>Quarterly Rating</th>\n",
       "      <th>Income</th>\n",
       "      <th>Total Business Value</th>\n",
       "      <th>churn</th>\n",
       "    </tr>\n",
       "  </thead>\n",
       "  <tbody>\n",
       "    <tr>\n",
       "      <th>0</th>\n",
       "      <td>1</td>\n",
       "      <td>28</td>\n",
       "      <td>0</td>\n",
       "      <td>C23</td>\n",
       "      <td>2</td>\n",
       "      <td>1</td>\n",
       "      <td>1</td>\n",
       "      <td>2.0</td>\n",
       "      <td>57387</td>\n",
       "      <td>571860.00</td>\n",
       "      <td>1</td>\n",
       "    </tr>\n",
       "    <tr>\n",
       "      <th>1</th>\n",
       "      <td>2</td>\n",
       "      <td>31</td>\n",
       "      <td>0</td>\n",
       "      <td>C7</td>\n",
       "      <td>2</td>\n",
       "      <td>2</td>\n",
       "      <td>2</td>\n",
       "      <td>1.0</td>\n",
       "      <td>67016</td>\n",
       "      <td>0.00</td>\n",
       "      <td>0</td>\n",
       "    </tr>\n",
       "    <tr>\n",
       "      <th>2</th>\n",
       "      <td>4</td>\n",
       "      <td>43</td>\n",
       "      <td>0</td>\n",
       "      <td>C13</td>\n",
       "      <td>2</td>\n",
       "      <td>2</td>\n",
       "      <td>2</td>\n",
       "      <td>1.0</td>\n",
       "      <td>65603</td>\n",
       "      <td>70000.00</td>\n",
       "      <td>1</td>\n",
       "    </tr>\n",
       "    <tr>\n",
       "      <th>3</th>\n",
       "      <td>5</td>\n",
       "      <td>29</td>\n",
       "      <td>0</td>\n",
       "      <td>C9</td>\n",
       "      <td>0</td>\n",
       "      <td>1</td>\n",
       "      <td>1</td>\n",
       "      <td>1.0</td>\n",
       "      <td>46368</td>\n",
       "      <td>40120.00</td>\n",
       "      <td>1</td>\n",
       "    </tr>\n",
       "    <tr>\n",
       "      <th>4</th>\n",
       "      <td>6</td>\n",
       "      <td>31</td>\n",
       "      <td>1</td>\n",
       "      <td>C11</td>\n",
       "      <td>1</td>\n",
       "      <td>3</td>\n",
       "      <td>3</td>\n",
       "      <td>2.0</td>\n",
       "      <td>78728</td>\n",
       "      <td>253000.00</td>\n",
       "      <td>0</td>\n",
       "    </tr>\n",
       "    <tr>\n",
       "      <th>...</th>\n",
       "      <td>...</td>\n",
       "      <td>...</td>\n",
       "      <td>...</td>\n",
       "      <td>...</td>\n",
       "      <td>...</td>\n",
       "      <td>...</td>\n",
       "      <td>...</td>\n",
       "      <td>...</td>\n",
       "      <td>...</td>\n",
       "      <td>...</td>\n",
       "      <td>...</td>\n",
       "    </tr>\n",
       "    <tr>\n",
       "      <th>2376</th>\n",
       "      <td>2784</td>\n",
       "      <td>34</td>\n",
       "      <td>0</td>\n",
       "      <td>C24</td>\n",
       "      <td>0</td>\n",
       "      <td>2</td>\n",
       "      <td>3</td>\n",
       "      <td>3.0</td>\n",
       "      <td>82815</td>\n",
       "      <td>906200.83</td>\n",
       "      <td>0</td>\n",
       "    </tr>\n",
       "    <tr>\n",
       "      <th>2377</th>\n",
       "      <td>2785</td>\n",
       "      <td>34</td>\n",
       "      <td>1</td>\n",
       "      <td>C9</td>\n",
       "      <td>0</td>\n",
       "      <td>1</td>\n",
       "      <td>1</td>\n",
       "      <td>1.0</td>\n",
       "      <td>12105</td>\n",
       "      <td>0.00</td>\n",
       "      <td>1</td>\n",
       "    </tr>\n",
       "    <tr>\n",
       "      <th>2378</th>\n",
       "      <td>2786</td>\n",
       "      <td>45</td>\n",
       "      <td>0</td>\n",
       "      <td>C19</td>\n",
       "      <td>0</td>\n",
       "      <td>2</td>\n",
       "      <td>2</td>\n",
       "      <td>2.0</td>\n",
       "      <td>35370</td>\n",
       "      <td>312787.78</td>\n",
       "      <td>1</td>\n",
       "    </tr>\n",
       "    <tr>\n",
       "      <th>2379</th>\n",
       "      <td>2787</td>\n",
       "      <td>28</td>\n",
       "      <td>1</td>\n",
       "      <td>C20</td>\n",
       "      <td>2</td>\n",
       "      <td>1</td>\n",
       "      <td>1</td>\n",
       "      <td>1.5</td>\n",
       "      <td>69498</td>\n",
       "      <td>162971.67</td>\n",
       "      <td>1</td>\n",
       "    </tr>\n",
       "    <tr>\n",
       "      <th>2380</th>\n",
       "      <td>2788</td>\n",
       "      <td>30</td>\n",
       "      <td>0</td>\n",
       "      <td>C27</td>\n",
       "      <td>2</td>\n",
       "      <td>2</td>\n",
       "      <td>2</td>\n",
       "      <td>2.0</td>\n",
       "      <td>70254</td>\n",
       "      <td>328320.00</td>\n",
       "      <td>0</td>\n",
       "    </tr>\n",
       "  </tbody>\n",
       "</table>\n",
       "<p>2381 rows × 11 columns</p>\n",
       "</div>"
      ],
      "text/plain": [
       "      Driver_ID  Age  Gender City  Education_Level  Joining Designation  \\\n",
       "0             1   28       0  C23                2                    1   \n",
       "1             2   31       0   C7                2                    2   \n",
       "2             4   43       0  C13                2                    2   \n",
       "3             5   29       0   C9                0                    1   \n",
       "4             6   31       1  C11                1                    3   \n",
       "...         ...  ...     ...  ...              ...                  ...   \n",
       "2376       2784   34       0  C24                0                    2   \n",
       "2377       2785   34       1   C9                0                    1   \n",
       "2378       2786   45       0  C19                0                    2   \n",
       "2379       2787   28       1  C20                2                    1   \n",
       "2380       2788   30       0  C27                2                    2   \n",
       "\n",
       "      Grade  Quarterly Rating  Income  Total Business Value  churn  \n",
       "0         1               2.0   57387             571860.00      1  \n",
       "1         2               1.0   67016                  0.00      0  \n",
       "2         2               1.0   65603              70000.00      1  \n",
       "3         1               1.0   46368              40120.00      1  \n",
       "4         3               2.0   78728             253000.00      0  \n",
       "...     ...               ...     ...                   ...    ...  \n",
       "2376      3               3.0   82815             906200.83      0  \n",
       "2377      1               1.0   12105                  0.00      1  \n",
       "2378      2               2.0   35370             312787.78      1  \n",
       "2379      1               1.5   69498             162971.67      1  \n",
       "2380      2               2.0   70254             328320.00      0  \n",
       "\n",
       "[2381 rows x 11 columns]"
      ]
     },
     "execution_count": 1617,
     "metadata": {},
     "output_type": "execute_result"
    }
   ],
   "source": [
    "df"
   ]
  },
  {
   "cell_type": "markdown",
   "id": "77335ab3",
   "metadata": {},
   "source": [
    "# (D) Exploratory data analysis (EDA): Features Analysis"
   ]
  },
  {
   "cell_type": "markdown",
   "id": "299f4637",
   "metadata": {},
   "source": [
    "### churn vs non-churn"
   ]
  },
  {
   "cell_type": "code",
   "execution_count": 1618,
   "id": "351ff989",
   "metadata": {},
   "outputs": [
    {
     "data": {
      "text/plain": [
       "1    1606\n",
       "0     775\n",
       "Name: churn, dtype: int64"
      ]
     },
     "execution_count": 1618,
     "metadata": {},
     "output_type": "execute_result"
    }
   ],
   "source": [
    "df[\"churn\"].value_counts()"
   ]
  },
  {
   "cell_type": "code",
   "execution_count": 1619,
   "id": "4c37d02f",
   "metadata": {},
   "outputs": [
    {
     "data": {
      "text/plain": [
       "<AxesSubplot:>"
      ]
     },
     "execution_count": 1619,
     "metadata": {},
     "output_type": "execute_result"
    },
    {
     "data": {
      "image/png": "[encoded data removed]",
      "text/plain": [
       "<Figure size 432x288 with 1 Axes>"
      ]
     },
     "metadata": {
      "needs_background": "light"
     },
     "output_type": "display_data"
    }
   ],
   "source": [
    "df[\"churn\"].value_counts().plot(kind=\"barh\")"
   ]
  },
  {
   "cell_type": "markdown",
   "id": "b1a4b5eb",
   "metadata": {},
   "source": [
    "### column: Age"
   ]
  },
  {
   "cell_type": "code",
   "execution_count": 1620,
   "id": "28c2b7a3",
   "metadata": {},
   "outputs": [
    {
     "data": {
      "text/plain": [
       "<AxesSubplot:>"
      ]
     },
     "execution_count": 1620,
     "metadata": {},
     "output_type": "execute_result"
    },
    {
     "data": {
      "image/png": "[encoded data removed]",
      "text/plain": [
       "<Figure size 1080x360 with 2 Axes>"
      ]
     },
     "metadata": {
      "needs_background": "light"
     },
     "output_type": "display_data"
    }
   ],
   "source": [
    "plt.figure(figsize=(15,5))\n",
    "plt.subplot(1,2,1)\n",
    "df[\"Age\"].plot(kind=\"kde\")\n",
    "plt.subplot(1,2,2)\n",
    "df[\"Age\"].plot(kind=\"box\")"
   ]
  },
  {
   "cell_type": "code",
   "execution_count": 1621,
   "id": "453b5a6b",
   "metadata": {},
   "outputs": [
    {
     "name": "stdout",
     "output_type": "stream",
     "text": [
      "skew= 0.5388498505929552  and  ShapiroResult(statistic=0.9784436821937561, pvalue=1.6225029841990349e-18)\n"
     ]
    }
   ],
   "source": [
    "#[Test for normality]\n",
    "print(\"skew=\",skew(df[\"Age\"]),\" and \", shapiro(df[\"Age\"]))"
   ]
  },
  {
   "cell_type": "code",
   "execution_count": 1622,
   "id": "4af8051a",
   "metadata": {},
   "outputs": [
    {
     "data": {
      "text/plain": [
       "<AxesSubplot:>"
      ]
     },
     "execution_count": 1622,
     "metadata": {},
     "output_type": "execute_result"
    },
    {
     "data": {
      "image/png": "[encoded data removed]",
      "text/plain": [
       "<Figure size 1080x360 with 2 Axes>"
      ]
     },
     "metadata": {
      "needs_background": "light"
     },
     "output_type": "display_data"
    }
   ],
   "source": [
    "# plot after log transform\n",
    "plt.figure(figsize=(15,5))\n",
    "plt.subplot(1,2,1)\n",
    "np.log(df[\"Age\"]).plot(kind=\"kde\")\n",
    "plt.subplot(1,2,2)\n",
    "np.log(df[\"Age\"]).plot(kind=\"box\")"
   ]
  },
  {
   "cell_type": "code",
   "execution_count": 1623,
   "id": "17ac5897",
   "metadata": {},
   "outputs": [
    {
     "name": "stdout",
     "output_type": "stream",
     "text": [
      "skew= 0.08417682885781796  and  ShapiroResult(statistic=0.9947600364685059, pvalue=1.866949759232739e-07)\n"
     ]
    }
   ],
   "source": [
    "#[Test for normality]\n",
    "print(\"skew=\",skew(np.log(df[\"Age\"])),\" and \", shapiro(np.log(df[\"Age\"])))"
   ]
  },
  {
   "cell_type": "code",
   "execution_count": 1624,
   "id": "d8c75338",
   "metadata": {},
   "outputs": [
    {
     "data": {
      "image/png": "[encoded data removed]",
      "text/plain": [
       "<Figure size 432x288 with 1 Axes>"
      ]
     },
     "metadata": {
      "needs_background": "light"
     },
     "output_type": "display_data"
    }
   ],
   "source": [
    "# Quantile-Quantile plot for 1sample\n",
    "qqplot(df[\"Age\"], dist=norm, line=\"r\")\n",
    "plt.show()"
   ]
  },
  {
   "cell_type": "code",
   "execution_count": 1625,
   "id": "0a05dbdb",
   "metadata": {},
   "outputs": [
    {
     "data": {
      "image/png": "[encoded data removed]",
      "text/plain": [
       "<Figure size 432x288 with 1 Axes>"
      ]
     },
     "metadata": {
      "needs_background": "light"
     },
     "output_type": "display_data"
    }
   ],
   "source": [
    "# Quantile-Quantile plot for 1sample\n",
    "qqplot(np.log(df[\"Age\"]), dist=norm, line=\"r\")\n",
    "plt.show()"
   ]
  },
  {
   "cell_type": "markdown",
   "id": "82ba32df",
   "metadata": {},
   "source": [
    "### column: Income"
   ]
  },
  {
   "cell_type": "code",
   "execution_count": 1626,
   "id": "544f9ef1",
   "metadata": {},
   "outputs": [
    {
     "data": {
      "text/plain": [
       "<AxesSubplot:>"
      ]
     },
     "execution_count": 1626,
     "metadata": {},
     "output_type": "execute_result"
    },
    {
     "data": {
      "image/png": "[encoded data removed]",
      "text/plain": [
       "<Figure size 1080x360 with 2 Axes>"
      ]
     },
     "metadata": {
      "needs_background": "light"
     },
     "output_type": "display_data"
    }
   ],
   "source": [
    "plt.figure(figsize=(15,5))\n",
    "plt.subplot(1,2,1)\n",
    "df[\"Income\"].plot(kind=\"kde\")\n",
    "plt.subplot(1,2,2)\n",
    "df[\"Income\"].plot(kind=\"box\")"
   ]
  },
  {
   "cell_type": "code",
   "execution_count": 1627,
   "id": "8e59699f",
   "metadata": {},
   "outputs": [
    {
     "name": "stdout",
     "output_type": "stream",
     "text": [
      "skew= 0.776498901513912  and  ShapiroResult(statistic=0.9593228101730347, pvalue=2.631266010444414e-25)\n"
     ]
    }
   ],
   "source": [
    "print(\"skew=\",skew(df[\"Income\"]),\" and \",shapiro(df[\"Income\"]))"
   ]
  },
  {
   "cell_type": "code",
   "execution_count": 1628,
   "id": "991f0f7a",
   "metadata": {},
   "outputs": [
    {
     "data": {
      "text/plain": [
       "<AxesSubplot:>"
      ]
     },
     "execution_count": 1628,
     "metadata": {},
     "output_type": "execute_result"
    },
    {
     "data": {
      "image/png": "[encoded data removed]",
      "text/plain": [
       "<Figure size 1080x360 with 2 Axes>"
      ]
     },
     "metadata": {
      "needs_background": "light"
     },
     "output_type": "display_data"
    }
   ],
   "source": [
    "# plot after log transform\n",
    "plt.figure(figsize=(15,5))\n",
    "plt.subplot(1,2,1)\n",
    "np.log(df[\"Income\"]).plot(kind=\"kde\")\n",
    "plt.subplot(1,2,2)\n",
    "np.log(df[\"Income\"]).plot(kind=\"box\")"
   ]
  },
  {
   "cell_type": "code",
   "execution_count": 1629,
   "id": "26d2551a",
   "metadata": {},
   "outputs": [
    {
     "name": "stdout",
     "output_type": "stream",
     "text": [
      "skew= -0.4644665694021273  and  ShapiroResult(statistic=0.9832392930984497, pvalue=3.8641571585336257e-16)\n"
     ]
    }
   ],
   "source": [
    "print(\"skew=\",skew(np.log(df[\"Income\"])),\" and \",shapiro(np.log(df[\"Income\"])))"
   ]
  },
  {
   "cell_type": "code",
   "execution_count": 1630,
   "id": "29066dd4",
   "metadata": {},
   "outputs": [
    {
     "data": {
      "text/plain": [
       "17045.5"
      ]
     },
     "execution_count": 1630,
     "metadata": {},
     "output_type": "execute_result"
    }
   ],
   "source": [
    "df[\"Income\"].quantile(0.025)"
   ]
  },
  {
   "cell_type": "code",
   "execution_count": 1631,
   "id": "68a7f1f7",
   "metadata": {},
   "outputs": [
    {
     "data": {
      "text/plain": [
       "55276.0"
      ]
     },
     "execution_count": 1631,
     "metadata": {},
     "output_type": "execute_result"
    }
   ],
   "source": [
    "df[\"Income\"].quantile(0.5)"
   ]
  },
  {
   "cell_type": "code",
   "execution_count": 1632,
   "id": "22522cb2",
   "metadata": {},
   "outputs": [
    {
     "data": {
      "text/plain": [
       "127286.5"
      ]
     },
     "execution_count": 1632,
     "metadata": {},
     "output_type": "execute_result"
    }
   ],
   "source": [
    "df[\"Income\"].quantile(0.975)"
   ]
  },
  {
   "cell_type": "code",
   "execution_count": 1633,
   "id": "6b91cf18",
   "metadata": {},
   "outputs": [
    {
     "data": {
      "text/plain": [
       "<AxesSubplot:>"
      ]
     },
     "execution_count": 1633,
     "metadata": {},
     "output_type": "execute_result"
    },
    {
     "data": {
      "image/png": "[encoded data removed]",
      "text/plain": [
       "<Figure size 1080x360 with 2 Axes>"
      ]
     },
     "metadata": {
      "needs_background": "light"
     },
     "output_type": "display_data"
    }
   ],
   "source": [
    "# plot after removing outliers\n",
    "plt.figure(figsize=(15,5))\n",
    "plt.subplot(1,2,1)\n",
    "df[(df[\"Income\"]>=df[\"Income\"].quantile(0.025))&(df[\"Income\"]<=df[\"Income\"].quantile(0.975))][\"Income\"].plot(kind=\"kde\")\n",
    "plt.subplot(1,2,2)\n",
    "df[(df[\"Income\"]>=df[\"Income\"].quantile(0.025))&(df[\"Income\"]<=df[\"Income\"].quantile(0.975))][\"Income\"].plot(kind=\"box\")"
   ]
  },
  {
   "cell_type": "code",
   "execution_count": 1634,
   "id": "3c7907fd",
   "metadata": {},
   "outputs": [
    {
     "data": {
      "text/plain": [
       "0.5518097126585549"
      ]
     },
     "execution_count": 1634,
     "metadata": {},
     "output_type": "execute_result"
    }
   ],
   "source": [
    "skew(df[(df[\"Income\"]>=df[\"Income\"].quantile(0.025))&(df[\"Income\"]<=df[\"Income\"].quantile(0.975))][\"Income\"])"
   ]
  },
  {
   "cell_type": "code",
   "execution_count": 1635,
   "id": "5e2ff17a",
   "metadata": {},
   "outputs": [
    {
     "data": {
      "text/plain": [
       "ShapiroResult(statistic=0.9669366478919983, pvalue=2.2399113442527352e-22)"
      ]
     },
     "execution_count": 1635,
     "metadata": {},
     "output_type": "execute_result"
    }
   ],
   "source": [
    "shapiro(df[(df[\"Income\"]>=df[\"Income\"].quantile(0.025))&(df[\"Income\"]<=df[\"Income\"].quantile(0.975))][\"Income\"])"
   ]
  },
  {
   "cell_type": "code",
   "execution_count": 1636,
   "id": "12ed4f85",
   "metadata": {},
   "outputs": [
    {
     "data": {
      "text/plain": [
       "<AxesSubplot:>"
      ]
     },
     "execution_count": 1636,
     "metadata": {},
     "output_type": "execute_result"
    },
    {
     "data": {
      "image/png": "[encoded data removed]",
      "text/plain": [
       "<Figure size 1080x360 with 2 Axes>"
      ]
     },
     "metadata": {
      "needs_background": "light"
     },
     "output_type": "display_data"
    }
   ],
   "source": [
    "# plot after remiving outliers and taking log transform\n",
    "plt.figure(figsize=(15,5))\n",
    "plt.subplot(1,2,1)\n",
    "np.log(df[(df[\"Income\"]>=df[\"Income\"].quantile(0.025))&(df[\"Income\"]<=df[\"Income\"].quantile(0.975))][\"Income\"]).plot(kind=\"kde\")\n",
    "plt.subplot(1,2,2)\n",
    "np.log(df[(df[\"Income\"]>=df[\"Income\"].quantile(0.025))&(df[\"Income\"]<=df[\"Income\"].quantile(0.975))][\"Income\"]).plot(kind=\"box\")"
   ]
  },
  {
   "cell_type": "code",
   "execution_count": 1637,
   "id": "9fee2416",
   "metadata": {},
   "outputs": [
    {
     "data": {
      "text/plain": [
       "-0.36305525478609213"
      ]
     },
     "execution_count": 1637,
     "metadata": {},
     "output_type": "execute_result"
    }
   ],
   "source": [
    "skew(np.log(df[(df[\"Income\"]>=df[\"Income\"].quantile(0.025))&(df[\"Income\"]<=df[\"Income\"].quantile(0.975))][\"Income\"]))"
   ]
  },
  {
   "cell_type": "code",
   "execution_count": 1638,
   "id": "05fb22e5",
   "metadata": {},
   "outputs": [
    {
     "data": {
      "text/plain": [
       "ShapiroResult(statistic=0.9806327819824219, pvalue=5.5245460818505795e-17)"
      ]
     },
     "execution_count": 1638,
     "metadata": {},
     "output_type": "execute_result"
    }
   ],
   "source": [
    "shapiro(np.log(df[(df[\"Income\"]>=df[\"Income\"].quantile(0.025))&(df[\"Income\"]<=df[\"Income\"].quantile(0.975))][\"Income\"]))"
   ]
  },
  {
   "cell_type": "markdown",
   "id": "2a1801fb",
   "metadata": {},
   "source": [
    "### column: Total Business Value"
   ]
  },
  {
   "cell_type": "code",
   "execution_count": 1639,
   "id": "f05d761d",
   "metadata": {},
   "outputs": [
    {
     "data": {
      "text/plain": [
       "<AxesSubplot:>"
      ]
     },
     "execution_count": 1639,
     "metadata": {},
     "output_type": "execute_result"
    },
    {
     "data": {
      "image/png": "[encoded data removed]",
      "text/plain": [
       "<Figure size 1080x360 with 2 Axes>"
      ]
     },
     "metadata": {
      "needs_background": "light"
     },
     "output_type": "display_data"
    }
   ],
   "source": [
    "plt.figure(figsize=(15,5))\n",
    "plt.subplot(1,2,1)\n",
    "df[\"Total Business Value\"].plot(kind=\"kde\")\n",
    "plt.subplot(1,2,2)\n",
    "df[\"Total Business Value\"].plot(kind=\"box\")"
   ]
  },
  {
   "cell_type": "code",
   "execution_count": 1640,
   "id": "1b7afc60",
   "metadata": {},
   "outputs": [
    {
     "data": {
      "text/plain": [
       "2.6714150672103325"
      ]
     },
     "execution_count": 1640,
     "metadata": {},
     "output_type": "execute_result"
    }
   ],
   "source": [
    "skew(df[\"Total Business Value\"])"
   ]
  },
  {
   "cell_type": "code",
   "execution_count": 1641,
   "id": "d8d99a12",
   "metadata": {},
   "outputs": [
    {
     "data": {
      "text/plain": [
       "ShapiroResult(statistic=0.7061681151390076, pvalue=0.0)"
      ]
     },
     "execution_count": 1641,
     "metadata": {},
     "output_type": "execute_result"
    }
   ],
   "source": [
    "shapiro(df[\"Total Business Value\"])"
   ]
  },
  {
   "cell_type": "code",
   "execution_count": 1642,
   "id": "733cc6fc",
   "metadata": {},
   "outputs": [
    {
     "data": {
      "text/plain": [
       "<AxesSubplot:>"
      ]
     },
     "execution_count": 1642,
     "metadata": {},
     "output_type": "execute_result"
    },
    {
     "data": {
      "image/png": "[encoded data removed]",
      "text/plain": [
       "<Figure size 1080x360 with 2 Axes>"
      ]
     },
     "metadata": {
      "needs_background": "light"
     },
     "output_type": "display_data"
    }
   ],
   "source": [
    "plt.figure(figsize=(15,5))\n",
    "plt.subplot(1,2,1)\n",
    "np.log(250000+df[\"Total Business Value\"]).plot(kind=\"kde\")\n",
    "plt.subplot(1,2,2)\n",
    "np.log(250000+df[\"Total Business Value\"]).plot(kind=\"box\")"
   ]
  },
  {
   "cell_type": "markdown",
   "id": "e85df553",
   "metadata": {},
   "source": [
    "### column: City"
   ]
  },
  {
   "cell_type": "code",
   "execution_count": 1643,
   "id": "6889776a",
   "metadata": {},
   "outputs": [
    {
     "data": {
      "text/plain": [
       "<AxesSubplot:>"
      ]
     },
     "execution_count": 1643,
     "metadata": {},
     "output_type": "execute_result"
    },
    {
     "data": {
      "image/png": "[encoded data removed]",
      "text/plain": [
       "<Figure size 1080x216 with 1 Axes>"
      ]
     },
     "metadata": {
      "needs_background": "light"
     },
     "output_type": "display_data"
    }
   ],
   "source": [
    "plt.figure(figsize=(15,3))\n",
    "df[\"City\"].value_counts().plot(kind=\"bar\")"
   ]
  },
  {
   "cell_type": "code",
   "execution_count": 1644,
   "id": "3eec266f",
   "metadata": {},
   "outputs": [
    {
     "data": {
      "text/plain": [
       "Text(0.5, 1.0, 'Quarterly Rating')"
      ]
     },
     "execution_count": 1644,
     "metadata": {},
     "output_type": "execute_result"
    },
    {
     "data": {
      "image/png": "[encoded data removed]",
      "text/plain": [
       "<Figure size 1080x576 with 5 Axes>"
      ]
     },
     "metadata": {
      "needs_background": "light"
     },
     "output_type": "display_data"
    }
   ],
   "source": [
    "plt.figure(figsize=(15,8))\n",
    "plt.subplot(2,3,1)\n",
    "df[\"Gender\"].value_counts().plot(kind=\"barh\")\n",
    "plt.title(\"Gender\")\n",
    "plt.subplot(2,3,2)\n",
    "df[\"Education_Level\"].value_counts().plot(kind=\"barh\")\n",
    "plt.title(\"Education_Level\")\n",
    "plt.subplot(2,3,3)\n",
    "df[\"Joining Designation\"].value_counts().plot(kind=\"barh\")\n",
    "plt.title(\"Joining Designation\")\n",
    "plt.subplot(2,3,4)\n",
    "df[\"Grade\"].value_counts().plot(kind=\"barh\")\n",
    "plt.title(\"Grade\")\n",
    "plt.subplot(2,3,5)\n",
    "df[\"Quarterly Rating\"].value_counts().plot(kind=\"barh\")\n",
    "plt.title(\"Quarterly Rating\")"
   ]
  },
  {
   "cell_type": "markdown",
   "id": "24712f2a",
   "metadata": {},
   "source": [
    "# (E) Feature Engineering"
   ]
  },
  {
   "cell_type": "code",
   "execution_count": 1645,
   "id": "73441396",
   "metadata": {},
   "outputs": [
    {
     "data": {
      "text/plain": [
       "(2381, 11)"
      ]
     },
     "execution_count": 1645,
     "metadata": {},
     "output_type": "execute_result"
    }
   ],
   "source": [
    "df.shape"
   ]
  },
  {
   "cell_type": "code",
   "execution_count": 1646,
   "id": "5518e39b",
   "metadata": {},
   "outputs": [
    {
     "data": {
      "text/html": [
       "<div>\n",
       "<style scoped>\n",
       "    .dataframe tbody tr th:only-of-type {\n",
       "        vertical-align: middle;\n",
       "    }\n",
       "\n",
       "    .dataframe tbody tr th {\n",
       "        vertical-align: top;\n",
       "    }\n",
       "\n",
       "    .dataframe thead th {\n",
       "        text-align: right;\n",
       "    }\n",
       "</style>\n",
       "<table border=\"1\" class=\"dataframe\">\n",
       "  <thead>\n",
       "    <tr style=\"text-align: right;\">\n",
       "      <th></th>\n",
       "      <th>Driver_ID</th>\n",
       "      <th>Age</th>\n",
       "      <th>Gender</th>\n",
       "      <th>City</th>\n",
       "      <th>Education_Level</th>\n",
       "      <th>Joining Designation</th>\n",
       "      <th>Grade</th>\n",
       "      <th>Quarterly Rating</th>\n",
       "      <th>Income</th>\n",
       "      <th>Total Business Value</th>\n",
       "      <th>churn</th>\n",
       "    </tr>\n",
       "  </thead>\n",
       "  <tbody>\n",
       "    <tr>\n",
       "      <th>0</th>\n",
       "      <td>1</td>\n",
       "      <td>28</td>\n",
       "      <td>0</td>\n",
       "      <td>C23</td>\n",
       "      <td>2</td>\n",
       "      <td>1</td>\n",
       "      <td>1</td>\n",
       "      <td>2.0</td>\n",
       "      <td>57387</td>\n",
       "      <td>571860.0</td>\n",
       "      <td>1</td>\n",
       "    </tr>\n",
       "    <tr>\n",
       "      <th>1</th>\n",
       "      <td>2</td>\n",
       "      <td>31</td>\n",
       "      <td>0</td>\n",
       "      <td>C7</td>\n",
       "      <td>2</td>\n",
       "      <td>2</td>\n",
       "      <td>2</td>\n",
       "      <td>1.0</td>\n",
       "      <td>67016</td>\n",
       "      <td>0.0</td>\n",
       "      <td>0</td>\n",
       "    </tr>\n",
       "    <tr>\n",
       "      <th>2</th>\n",
       "      <td>4</td>\n",
       "      <td>43</td>\n",
       "      <td>0</td>\n",
       "      <td>C13</td>\n",
       "      <td>2</td>\n",
       "      <td>2</td>\n",
       "      <td>2</td>\n",
       "      <td>1.0</td>\n",
       "      <td>65603</td>\n",
       "      <td>70000.0</td>\n",
       "      <td>1</td>\n",
       "    </tr>\n",
       "    <tr>\n",
       "      <th>3</th>\n",
       "      <td>5</td>\n",
       "      <td>29</td>\n",
       "      <td>0</td>\n",
       "      <td>C9</td>\n",
       "      <td>0</td>\n",
       "      <td>1</td>\n",
       "      <td>1</td>\n",
       "      <td>1.0</td>\n",
       "      <td>46368</td>\n",
       "      <td>40120.0</td>\n",
       "      <td>1</td>\n",
       "    </tr>\n",
       "    <tr>\n",
       "      <th>4</th>\n",
       "      <td>6</td>\n",
       "      <td>31</td>\n",
       "      <td>1</td>\n",
       "      <td>C11</td>\n",
       "      <td>1</td>\n",
       "      <td>3</td>\n",
       "      <td>3</td>\n",
       "      <td>2.0</td>\n",
       "      <td>78728</td>\n",
       "      <td>253000.0</td>\n",
       "      <td>0</td>\n",
       "    </tr>\n",
       "  </tbody>\n",
       "</table>\n",
       "</div>"
      ],
      "text/plain": [
       "   Driver_ID  Age  Gender City  Education_Level  Joining Designation  Grade  \\\n",
       "0          1   28       0  C23                2                    1      1   \n",
       "1          2   31       0   C7                2                    2      2   \n",
       "2          4   43       0  C13                2                    2      2   \n",
       "3          5   29       0   C9                0                    1      1   \n",
       "4          6   31       1  C11                1                    3      3   \n",
       "\n",
       "   Quarterly Rating  Income  Total Business Value  churn  \n",
       "0               2.0   57387              571860.0      1  \n",
       "1               1.0   67016                   0.0      0  \n",
       "2               1.0   65603               70000.0      1  \n",
       "3               1.0   46368               40120.0      1  \n",
       "4               2.0   78728              253000.0      0  "
      ]
     },
     "execution_count": 1646,
     "metadata": {},
     "output_type": "execute_result"
    }
   ],
   "source": [
    "df.head()"
   ]
  },
  {
   "cell_type": "code",
   "execution_count": 1647,
   "id": "31d7f6dd",
   "metadata": {},
   "outputs": [],
   "source": [
    "df[\"Age\"] = np.log(df[\"Age\"])"
   ]
  },
  {
   "cell_type": "code",
   "execution_count": 1648,
   "id": "7b5e2c55",
   "metadata": {},
   "outputs": [],
   "source": [
    "df[\"Income\"]=np.log(df[\"Income\"])"
   ]
  },
  {
   "cell_type": "code",
   "execution_count": 1649,
   "id": "74fc15b2",
   "metadata": {},
   "outputs": [],
   "source": [
    "df[\"Total Business Value\"] = np.log(250000+df[\"Total Business Value\"])"
   ]
  },
  {
   "cell_type": "markdown",
   "id": "333ed492",
   "metadata": {},
   "source": [
    "# (E) Removing outliers"
   ]
  },
  {
   "cell_type": "code",
   "execution_count": 1650,
   "id": "965b4e2d",
   "metadata": {},
   "outputs": [
    {
     "data": {
      "text/html": [
       "<div>\n",
       "<style scoped>\n",
       "    .dataframe tbody tr th:only-of-type {\n",
       "        vertical-align: middle;\n",
       "    }\n",
       "\n",
       "    .dataframe tbody tr th {\n",
       "        vertical-align: top;\n",
       "    }\n",
       "\n",
       "    .dataframe thead th {\n",
       "        text-align: right;\n",
       "    }\n",
       "</style>\n",
       "<table border=\"1\" class=\"dataframe\">\n",
       "  <thead>\n",
       "    <tr style=\"text-align: right;\">\n",
       "      <th></th>\n",
       "      <th>Driver_ID</th>\n",
       "      <th>Age</th>\n",
       "      <th>Gender</th>\n",
       "      <th>City</th>\n",
       "      <th>Education_Level</th>\n",
       "      <th>Joining Designation</th>\n",
       "      <th>Grade</th>\n",
       "      <th>Quarterly Rating</th>\n",
       "      <th>Income</th>\n",
       "      <th>Total Business Value</th>\n",
       "      <th>churn</th>\n",
       "    </tr>\n",
       "  </thead>\n",
       "  <tbody>\n",
       "    <tr>\n",
       "      <th>0</th>\n",
       "      <td>1</td>\n",
       "      <td>3.332205</td>\n",
       "      <td>0</td>\n",
       "      <td>C23</td>\n",
       "      <td>2</td>\n",
       "      <td>1</td>\n",
       "      <td>1</td>\n",
       "      <td>2.0</td>\n",
       "      <td>10.957573</td>\n",
       "      <td>13.619325</td>\n",
       "      <td>1</td>\n",
       "    </tr>\n",
       "    <tr>\n",
       "      <th>1</th>\n",
       "      <td>2</td>\n",
       "      <td>3.433987</td>\n",
       "      <td>0</td>\n",
       "      <td>C7</td>\n",
       "      <td>2</td>\n",
       "      <td>2</td>\n",
       "      <td>2</td>\n",
       "      <td>1.0</td>\n",
       "      <td>11.112687</td>\n",
       "      <td>12.429216</td>\n",
       "      <td>0</td>\n",
       "    </tr>\n",
       "    <tr>\n",
       "      <th>2</th>\n",
       "      <td>4</td>\n",
       "      <td>3.761200</td>\n",
       "      <td>0</td>\n",
       "      <td>C13</td>\n",
       "      <td>2</td>\n",
       "      <td>2</td>\n",
       "      <td>2</td>\n",
       "      <td>1.0</td>\n",
       "      <td>11.091377</td>\n",
       "      <td>12.676076</td>\n",
       "      <td>1</td>\n",
       "    </tr>\n",
       "    <tr>\n",
       "      <th>3</th>\n",
       "      <td>5</td>\n",
       "      <td>3.367296</td>\n",
       "      <td>0</td>\n",
       "      <td>C9</td>\n",
       "      <td>0</td>\n",
       "      <td>1</td>\n",
       "      <td>1</td>\n",
       "      <td>1.0</td>\n",
       "      <td>10.744365</td>\n",
       "      <td>12.578050</td>\n",
       "      <td>1</td>\n",
       "    </tr>\n",
       "    <tr>\n",
       "      <th>4</th>\n",
       "      <td>6</td>\n",
       "      <td>3.433987</td>\n",
       "      <td>1</td>\n",
       "      <td>C11</td>\n",
       "      <td>1</td>\n",
       "      <td>3</td>\n",
       "      <td>3</td>\n",
       "      <td>2.0</td>\n",
       "      <td>11.273754</td>\n",
       "      <td>13.128345</td>\n",
       "      <td>0</td>\n",
       "    </tr>\n",
       "  </tbody>\n",
       "</table>\n",
       "</div>"
      ],
      "text/plain": [
       "   Driver_ID       Age  Gender City  Education_Level  Joining Designation  \\\n",
       "0          1  3.332205       0  C23                2                    1   \n",
       "1          2  3.433987       0   C7                2                    2   \n",
       "2          4  3.761200       0  C13                2                    2   \n",
       "3          5  3.367296       0   C9                0                    1   \n",
       "4          6  3.433987       1  C11                1                    3   \n",
       "\n",
       "   Grade  Quarterly Rating     Income  Total Business Value  churn  \n",
       "0      1               2.0  10.957573             13.619325      1  \n",
       "1      2               1.0  11.112687             12.429216      0  \n",
       "2      2               1.0  11.091377             12.676076      1  \n",
       "3      1               1.0  10.744365             12.578050      1  \n",
       "4      3               2.0  11.273754             13.128345      0  "
      ]
     },
     "execution_count": 1650,
     "metadata": {},
     "output_type": "execute_result"
    }
   ],
   "source": [
    "df.head()"
   ]
  },
  {
   "cell_type": "code",
   "execution_count": 1651,
   "id": "e5aac600",
   "metadata": {},
   "outputs": [],
   "source": [
    "mask1 = (df[\"Income\"]>=df[\"Income\"].quantile(0.025))&(df[\"Income\"]<=df[\"Income\"].quantile(0.975))"
   ]
  },
  {
   "cell_type": "code",
   "execution_count": 1652,
   "id": "a4a03186",
   "metadata": {},
   "outputs": [],
   "source": [
    "mask2 = (df[\"Total Business Value\"]>=df[\"Total Business Value\"].quantile(0.025))&(df[\"Total Business Value\"]<=df[\"Total Business Value\"].quantile(0.975))"
   ]
  },
  {
   "cell_type": "code",
   "execution_count": 1653,
   "id": "7dd6a2ab",
   "metadata": {},
   "outputs": [],
   "source": [
    "df = df[mask1 & mask2]"
   ]
  },
  {
   "cell_type": "code",
   "execution_count": 1654,
   "id": "86fa876e",
   "metadata": {},
   "outputs": [],
   "source": [
    "df = df.drop(columns=[\"Driver_ID\"], inplace=False).reset_index(drop=True)"
   ]
  },
  {
   "cell_type": "code",
   "execution_count": 1655,
   "id": "90f591e1",
   "metadata": {},
   "outputs": [
    {
     "data": {
      "text/html": [
       "<div>\n",
       "<style scoped>\n",
       "    .dataframe tbody tr th:only-of-type {\n",
       "        vertical-align: middle;\n",
       "    }\n",
       "\n",
       "    .dataframe tbody tr th {\n",
       "        vertical-align: top;\n",
       "    }\n",
       "\n",
       "    .dataframe thead th {\n",
       "        text-align: right;\n",
       "    }\n",
       "</style>\n",
       "<table border=\"1\" class=\"dataframe\">\n",
       "  <thead>\n",
       "    <tr style=\"text-align: right;\">\n",
       "      <th></th>\n",
       "      <th>Age</th>\n",
       "      <th>Gender</th>\n",
       "      <th>City</th>\n",
       "      <th>Education_Level</th>\n",
       "      <th>Joining Designation</th>\n",
       "      <th>Grade</th>\n",
       "      <th>Quarterly Rating</th>\n",
       "      <th>Income</th>\n",
       "      <th>Total Business Value</th>\n",
       "      <th>churn</th>\n",
       "    </tr>\n",
       "  </thead>\n",
       "  <tbody>\n",
       "    <tr>\n",
       "      <th>0</th>\n",
       "      <td>3.332205</td>\n",
       "      <td>0</td>\n",
       "      <td>C23</td>\n",
       "      <td>2</td>\n",
       "      <td>1</td>\n",
       "      <td>1</td>\n",
       "      <td>2.0</td>\n",
       "      <td>10.957573</td>\n",
       "      <td>13.619325</td>\n",
       "      <td>1</td>\n",
       "    </tr>\n",
       "    <tr>\n",
       "      <th>1</th>\n",
       "      <td>3.433987</td>\n",
       "      <td>0</td>\n",
       "      <td>C7</td>\n",
       "      <td>2</td>\n",
       "      <td>2</td>\n",
       "      <td>2</td>\n",
       "      <td>1.0</td>\n",
       "      <td>11.112687</td>\n",
       "      <td>12.429216</td>\n",
       "      <td>0</td>\n",
       "    </tr>\n",
       "    <tr>\n",
       "      <th>2</th>\n",
       "      <td>3.761200</td>\n",
       "      <td>0</td>\n",
       "      <td>C13</td>\n",
       "      <td>2</td>\n",
       "      <td>2</td>\n",
       "      <td>2</td>\n",
       "      <td>1.0</td>\n",
       "      <td>11.091377</td>\n",
       "      <td>12.676076</td>\n",
       "      <td>1</td>\n",
       "    </tr>\n",
       "    <tr>\n",
       "      <th>3</th>\n",
       "      <td>3.367296</td>\n",
       "      <td>0</td>\n",
       "      <td>C9</td>\n",
       "      <td>0</td>\n",
       "      <td>1</td>\n",
       "      <td>1</td>\n",
       "      <td>1.0</td>\n",
       "      <td>10.744365</td>\n",
       "      <td>12.578050</td>\n",
       "      <td>1</td>\n",
       "    </tr>\n",
       "    <tr>\n",
       "      <th>4</th>\n",
       "      <td>3.433987</td>\n",
       "      <td>1</td>\n",
       "      <td>C11</td>\n",
       "      <td>1</td>\n",
       "      <td>3</td>\n",
       "      <td>3</td>\n",
       "      <td>2.0</td>\n",
       "      <td>11.273754</td>\n",
       "      <td>13.128345</td>\n",
       "      <td>0</td>\n",
       "    </tr>\n",
       "  </tbody>\n",
       "</table>\n",
       "</div>"
      ],
      "text/plain": [
       "        Age  Gender City  Education_Level  Joining Designation  Grade  \\\n",
       "0  3.332205       0  C23                2                    1      1   \n",
       "1  3.433987       0   C7                2                    2      2   \n",
       "2  3.761200       0  C13                2                    2      2   \n",
       "3  3.367296       0   C9                0                    1      1   \n",
       "4  3.433987       1  C11                1                    3      3   \n",
       "\n",
       "   Quarterly Rating     Income  Total Business Value  churn  \n",
       "0               2.0  10.957573             13.619325      1  \n",
       "1               1.0  11.112687             12.429216      0  \n",
       "2               1.0  11.091377             12.676076      1  \n",
       "3               1.0  10.744365             12.578050      1  \n",
       "4               2.0  11.273754             13.128345      0  "
      ]
     },
     "execution_count": 1655,
     "metadata": {},
     "output_type": "execute_result"
    }
   ],
   "source": [
    "df.head()"
   ]
  },
  {
   "cell_type": "code",
   "execution_count": 1656,
   "id": "cbbc9137",
   "metadata": {},
   "outputs": [
    {
     "data": {
      "text/html": [
       "<div>\n",
       "<style scoped>\n",
       "    .dataframe tbody tr th:only-of-type {\n",
       "        vertical-align: middle;\n",
       "    }\n",
       "\n",
       "    .dataframe tbody tr th {\n",
       "        vertical-align: top;\n",
       "    }\n",
       "\n",
       "    .dataframe thead th {\n",
       "        text-align: right;\n",
       "    }\n",
       "</style>\n",
       "<table border=\"1\" class=\"dataframe\">\n",
       "  <thead>\n",
       "    <tr style=\"text-align: right;\">\n",
       "      <th></th>\n",
       "      <th>Age</th>\n",
       "      <th>Income</th>\n",
       "      <th>Total Business Value</th>\n",
       "    </tr>\n",
       "  </thead>\n",
       "  <tbody>\n",
       "    <tr>\n",
       "      <th>Age</th>\n",
       "      <td>1.000000</td>\n",
       "      <td>0.169215</td>\n",
       "      <td>0.250455</td>\n",
       "    </tr>\n",
       "    <tr>\n",
       "      <th>Income</th>\n",
       "      <td>0.169215</td>\n",
       "      <td>1.000000</td>\n",
       "      <td>0.211051</td>\n",
       "    </tr>\n",
       "    <tr>\n",
       "      <th>Total Business Value</th>\n",
       "      <td>0.250455</td>\n",
       "      <td>0.211051</td>\n",
       "      <td>1.000000</td>\n",
       "    </tr>\n",
       "  </tbody>\n",
       "</table>\n",
       "</div>"
      ],
      "text/plain": [
       "                           Age    Income  Total Business Value\n",
       "Age                   1.000000  0.169215              0.250455\n",
       "Income                0.169215  1.000000              0.211051\n",
       "Total Business Value  0.250455  0.211051              1.000000"
      ]
     },
     "execution_count": 1656,
     "metadata": {},
     "output_type": "execute_result"
    }
   ],
   "source": [
    "df.loc[:,[\"Age\",\"Income\",\"Total Business Value\"]].corr()"
   ]
  },
  {
   "cell_type": "code",
   "execution_count": 1657,
   "id": "63bc319e",
   "metadata": {},
   "outputs": [],
   "source": [
    "corr_matrix = df.loc[:,[\"Age\",\"Income\",\"Total Business Value\"]].corr()"
   ]
  },
  {
   "cell_type": "code",
   "execution_count": 1658,
   "id": "74b1617e",
   "metadata": {},
   "outputs": [
    {
     "data": {
      "text/plain": [
       "<AxesSubplot:>"
      ]
     },
     "execution_count": 1658,
     "metadata": {},
     "output_type": "execute_result"
    },
    {
     "data": {
      "image/png": "[encoded data removed]",
      "text/plain": [
       "<Figure size 576x288 with 2 Axes>"
      ]
     },
     "metadata": {
      "needs_background": "light"
     },
     "output_type": "display_data"
    }
   ],
   "source": [
    "plt.figure(figsize=(8,4))\n",
    "sns.heatmap(corr_matrix, annot=True, cmap=\"Blues\")"
   ]
  },
  {
   "cell_type": "markdown",
   "id": "612cb4b1",
   "metadata": {},
   "source": [
    "# (G) Model building"
   ]
  },
  {
   "cell_type": "code",
   "execution_count": 1659,
   "id": "4df86ea0",
   "metadata": {},
   "outputs": [
    {
     "data": {
      "text/plain": [
       "(2203, 10)"
      ]
     },
     "execution_count": 1659,
     "metadata": {},
     "output_type": "execute_result"
    }
   ],
   "source": [
    "df.shape"
   ]
  },
  {
   "cell_type": "code",
   "execution_count": 1660,
   "id": "b10a48c8",
   "metadata": {},
   "outputs": [],
   "source": [
    "X = df.drop(columns=[\"churn\"], inplace=False)\n",
    "y = df[\"churn\"].values"
   ]
  },
  {
   "cell_type": "code",
   "execution_count": 1661,
   "id": "1e64b7f7",
   "metadata": {},
   "outputs": [
    {
     "data": {
      "text/plain": [
       "array([1, 0, 1, ..., 1, 1, 0], dtype=int64)"
      ]
     },
     "execution_count": 1661,
     "metadata": {},
     "output_type": "execute_result"
    }
   ],
   "source": [
    "y"
   ]
  },
  {
   "cell_type": "markdown",
   "id": "48b8d3e5",
   "metadata": {},
   "source": [
    "### train_test_split"
   ]
  },
  {
   "cell_type": "code",
   "execution_count": 1662,
   "id": "9f0c1050",
   "metadata": {},
   "outputs": [],
   "source": [
    "from sklearn.model_selection import train_test_split"
   ]
  },
  {
   "cell_type": "code",
   "execution_count": 1663,
   "id": "f7c5967f",
   "metadata": {},
   "outputs": [
    {
     "data": {
      "text/plain": [
       "<function sklearn.model_selection._split.train_test_split(*arrays, test_size=None, train_size=None, random_state=None, shuffle=True, stratify=None)>"
      ]
     },
     "execution_count": 1663,
     "metadata": {},
     "output_type": "execute_result"
    }
   ],
   "source": [
    "train_test_split"
   ]
  },
  {
   "cell_type": "code",
   "execution_count": 1664,
   "id": "e3796dd9",
   "metadata": {},
   "outputs": [],
   "source": [
    "X_train, X_test, y_train, y_test = train_test_split(X,y,test_size=0.2,random_state=40, stratify=y)"
   ]
  },
  {
   "cell_type": "code",
   "execution_count": 1665,
   "id": "d46f9498",
   "metadata": {},
   "outputs": [
    {
     "data": {
      "text/html": [
       "<div>\n",
       "<style scoped>\n",
       "    .dataframe tbody tr th:only-of-type {\n",
       "        vertical-align: middle;\n",
       "    }\n",
       "\n",
       "    .dataframe tbody tr th {\n",
       "        vertical-align: top;\n",
       "    }\n",
       "\n",
       "    .dataframe thead th {\n",
       "        text-align: right;\n",
       "    }\n",
       "</style>\n",
       "<table border=\"1\" class=\"dataframe\">\n",
       "  <thead>\n",
       "    <tr style=\"text-align: right;\">\n",
       "      <th></th>\n",
       "      <th>Age</th>\n",
       "      <th>Gender</th>\n",
       "      <th>City</th>\n",
       "      <th>Education_Level</th>\n",
       "      <th>Joining Designation</th>\n",
       "      <th>Grade</th>\n",
       "      <th>Quarterly Rating</th>\n",
       "      <th>Income</th>\n",
       "      <th>Total Business Value</th>\n",
       "    </tr>\n",
       "  </thead>\n",
       "  <tbody>\n",
       "    <tr>\n",
       "      <th>2</th>\n",
       "      <td>3.761200</td>\n",
       "      <td>0</td>\n",
       "      <td>C13</td>\n",
       "      <td>2</td>\n",
       "      <td>2</td>\n",
       "      <td>2</td>\n",
       "      <td>1.0</td>\n",
       "      <td>11.091377</td>\n",
       "      <td>12.676076</td>\n",
       "    </tr>\n",
       "    <tr>\n",
       "      <th>2041</th>\n",
       "      <td>3.555348</td>\n",
       "      <td>0</td>\n",
       "      <td>C7</td>\n",
       "      <td>2</td>\n",
       "      <td>2</td>\n",
       "      <td>2</td>\n",
       "      <td>2.0</td>\n",
       "      <td>10.894923</td>\n",
       "      <td>13.196428</td>\n",
       "    </tr>\n",
       "    <tr>\n",
       "      <th>189</th>\n",
       "      <td>3.258097</td>\n",
       "      <td>0</td>\n",
       "      <td>C4</td>\n",
       "      <td>2</td>\n",
       "      <td>3</td>\n",
       "      <td>3</td>\n",
       "      <td>1.0</td>\n",
       "      <td>11.005893</td>\n",
       "      <td>12.756013</td>\n",
       "    </tr>\n",
       "    <tr>\n",
       "      <th>1213</th>\n",
       "      <td>3.295837</td>\n",
       "      <td>0</td>\n",
       "      <td>C15</td>\n",
       "      <td>2</td>\n",
       "      <td>1</td>\n",
       "      <td>1</td>\n",
       "      <td>1.0</td>\n",
       "      <td>10.589887</td>\n",
       "      <td>12.429216</td>\n",
       "    </tr>\n",
       "    <tr>\n",
       "      <th>1940</th>\n",
       "      <td>3.218876</td>\n",
       "      <td>0</td>\n",
       "      <td>C28</td>\n",
       "      <td>1</td>\n",
       "      <td>1</td>\n",
       "      <td>4</td>\n",
       "      <td>1.0</td>\n",
       "      <td>11.509831</td>\n",
       "      <td>14.203697</td>\n",
       "    </tr>\n",
       "    <tr>\n",
       "      <th>...</th>\n",
       "      <td>...</td>\n",
       "      <td>...</td>\n",
       "      <td>...</td>\n",
       "      <td>...</td>\n",
       "      <td>...</td>\n",
       "      <td>...</td>\n",
       "      <td>...</td>\n",
       "      <td>...</td>\n",
       "      <td>...</td>\n",
       "    </tr>\n",
       "    <tr>\n",
       "      <th>585</th>\n",
       "      <td>3.295837</td>\n",
       "      <td>0</td>\n",
       "      <td>C22</td>\n",
       "      <td>0</td>\n",
       "      <td>3</td>\n",
       "      <td>3</td>\n",
       "      <td>1.0</td>\n",
       "      <td>11.566561</td>\n",
       "      <td>12.429216</td>\n",
       "    </tr>\n",
       "    <tr>\n",
       "      <th>1246</th>\n",
       "      <td>3.737670</td>\n",
       "      <td>0</td>\n",
       "      <td>C13</td>\n",
       "      <td>2</td>\n",
       "      <td>2</td>\n",
       "      <td>2</td>\n",
       "      <td>2.0</td>\n",
       "      <td>10.913669</td>\n",
       "      <td>13.517028</td>\n",
       "    </tr>\n",
       "    <tr>\n",
       "      <th>1001</th>\n",
       "      <td>3.610918</td>\n",
       "      <td>0</td>\n",
       "      <td>C22</td>\n",
       "      <td>1</td>\n",
       "      <td>1</td>\n",
       "      <td>1</td>\n",
       "      <td>1.0</td>\n",
       "      <td>10.663943</td>\n",
       "      <td>12.746775</td>\n",
       "    </tr>\n",
       "    <tr>\n",
       "      <th>852</th>\n",
       "      <td>3.258097</td>\n",
       "      <td>1</td>\n",
       "      <td>C28</td>\n",
       "      <td>1</td>\n",
       "      <td>1</td>\n",
       "      <td>1</td>\n",
       "      <td>1.0</td>\n",
       "      <td>11.009026</td>\n",
       "      <td>12.429216</td>\n",
       "    </tr>\n",
       "    <tr>\n",
       "      <th>1214</th>\n",
       "      <td>3.465736</td>\n",
       "      <td>0</td>\n",
       "      <td>C5</td>\n",
       "      <td>2</td>\n",
       "      <td>1</td>\n",
       "      <td>2</td>\n",
       "      <td>3.0</td>\n",
       "      <td>10.713284</td>\n",
       "      <td>13.906637</td>\n",
       "    </tr>\n",
       "  </tbody>\n",
       "</table>\n",
       "<p>1762 rows × 9 columns</p>\n",
       "</div>"
      ],
      "text/plain": [
       "           Age  Gender City  Education_Level  Joining Designation  Grade  \\\n",
       "2     3.761200       0  C13                2                    2      2   \n",
       "2041  3.555348       0   C7                2                    2      2   \n",
       "189   3.258097       0   C4                2                    3      3   \n",
       "1213  3.295837       0  C15                2                    1      1   \n",
       "1940  3.218876       0  C28                1                    1      4   \n",
       "...        ...     ...  ...              ...                  ...    ...   \n",
       "585   3.295837       0  C22                0                    3      3   \n",
       "1246  3.737670       0  C13                2                    2      2   \n",
       "1001  3.610918       0  C22                1                    1      1   \n",
       "852   3.258097       1  C28                1                    1      1   \n",
       "1214  3.465736       0   C5                2                    1      2   \n",
       "\n",
       "      Quarterly Rating     Income  Total Business Value  \n",
       "2                  1.0  11.091377             12.676076  \n",
       "2041               2.0  10.894923             13.196428  \n",
       "189                1.0  11.005893             12.756013  \n",
       "1213               1.0  10.589887             12.429216  \n",
       "1940               1.0  11.509831             14.203697  \n",
       "...                ...        ...                   ...  \n",
       "585                1.0  11.566561             12.429216  \n",
       "1246               2.0  10.913669             13.517028  \n",
       "1001               1.0  10.663943             12.746775  \n",
       "852                1.0  11.009026             12.429216  \n",
       "1214               3.0  10.713284             13.906637  \n",
       "\n",
       "[1762 rows x 9 columns]"
      ]
     },
     "execution_count": 1665,
     "metadata": {},
     "output_type": "execute_result"
    }
   ],
   "source": [
    "X_train"
   ]
  },
  {
   "cell_type": "code",
   "execution_count": 1666,
   "id": "eb21c0e2",
   "metadata": {},
   "outputs": [
    {
     "data": {
      "text/plain": [
       "array([1, 0, 0, 1, 1, 0, 0, 1, 0, 1], dtype=int64)"
      ]
     },
     "execution_count": 1666,
     "metadata": {},
     "output_type": "execute_result"
    }
   ],
   "source": [
    "y_train[:10]"
   ]
  },
  {
   "cell_type": "markdown",
   "id": "58f072e3",
   "metadata": {},
   "source": [
    "### `oversampling training data` "
   ]
  },
  {
   "cell_type": "markdown",
   "id": "b9a44a1b",
   "metadata": {},
   "source": [
    "Always split into test and train sets BEFORE trying oversampling techniques! Oversampling before splitting the data can allow the exact same observations to be present in both the test and train sets."
   ]
  },
  {
   "cell_type": "code",
   "execution_count": 1667,
   "id": "69bd8378",
   "metadata": {},
   "outputs": [],
   "source": [
    "tdf = X_train"
   ]
  },
  {
   "cell_type": "code",
   "execution_count": 1668,
   "id": "e825ae3c",
   "metadata": {},
   "outputs": [],
   "source": [
    "tdf[\"churn\"]=y_train"
   ]
  },
  {
   "cell_type": "code",
   "execution_count": 1669,
   "id": "dc4c42e9",
   "metadata": {},
   "outputs": [
    {
     "data": {
      "text/plain": [
       "1    1205\n",
       "0     557\n",
       "Name: churn, dtype: int64"
      ]
     },
     "execution_count": 1669,
     "metadata": {},
     "output_type": "execute_result"
    }
   ],
   "source": [
    "tdf[\"churn\"].value_counts()"
   ]
  },
  {
   "cell_type": "code",
   "execution_count": 1670,
   "id": "896d5b33",
   "metadata": {},
   "outputs": [
    {
     "data": {
      "text/html": [
       "<div>\n",
       "<style scoped>\n",
       "    .dataframe tbody tr th:only-of-type {\n",
       "        vertical-align: middle;\n",
       "    }\n",
       "\n",
       "    .dataframe tbody tr th {\n",
       "        vertical-align: top;\n",
       "    }\n",
       "\n",
       "    .dataframe thead th {\n",
       "        text-align: right;\n",
       "    }\n",
       "</style>\n",
       "<table border=\"1\" class=\"dataframe\">\n",
       "  <thead>\n",
       "    <tr style=\"text-align: right;\">\n",
       "      <th></th>\n",
       "      <th>Age</th>\n",
       "      <th>Gender</th>\n",
       "      <th>City</th>\n",
       "      <th>Education_Level</th>\n",
       "      <th>Joining Designation</th>\n",
       "      <th>Grade</th>\n",
       "      <th>Quarterly Rating</th>\n",
       "      <th>Income</th>\n",
       "      <th>Total Business Value</th>\n",
       "      <th>churn</th>\n",
       "    </tr>\n",
       "  </thead>\n",
       "  <tbody>\n",
       "    <tr>\n",
       "      <th>2</th>\n",
       "      <td>3.761200</td>\n",
       "      <td>0</td>\n",
       "      <td>C13</td>\n",
       "      <td>2</td>\n",
       "      <td>2</td>\n",
       "      <td>2</td>\n",
       "      <td>1.0</td>\n",
       "      <td>11.091377</td>\n",
       "      <td>12.676076</td>\n",
       "      <td>1</td>\n",
       "    </tr>\n",
       "    <tr>\n",
       "      <th>2041</th>\n",
       "      <td>3.555348</td>\n",
       "      <td>0</td>\n",
       "      <td>C7</td>\n",
       "      <td>2</td>\n",
       "      <td>2</td>\n",
       "      <td>2</td>\n",
       "      <td>2.0</td>\n",
       "      <td>10.894923</td>\n",
       "      <td>13.196428</td>\n",
       "      <td>0</td>\n",
       "    </tr>\n",
       "    <tr>\n",
       "      <th>189</th>\n",
       "      <td>3.258097</td>\n",
       "      <td>0</td>\n",
       "      <td>C4</td>\n",
       "      <td>2</td>\n",
       "      <td>3</td>\n",
       "      <td>3</td>\n",
       "      <td>1.0</td>\n",
       "      <td>11.005893</td>\n",
       "      <td>12.756013</td>\n",
       "      <td>0</td>\n",
       "    </tr>\n",
       "    <tr>\n",
       "      <th>1213</th>\n",
       "      <td>3.295837</td>\n",
       "      <td>0</td>\n",
       "      <td>C15</td>\n",
       "      <td>2</td>\n",
       "      <td>1</td>\n",
       "      <td>1</td>\n",
       "      <td>1.0</td>\n",
       "      <td>10.589887</td>\n",
       "      <td>12.429216</td>\n",
       "      <td>1</td>\n",
       "    </tr>\n",
       "    <tr>\n",
       "      <th>1940</th>\n",
       "      <td>3.218876</td>\n",
       "      <td>0</td>\n",
       "      <td>C28</td>\n",
       "      <td>1</td>\n",
       "      <td>1</td>\n",
       "      <td>4</td>\n",
       "      <td>1.0</td>\n",
       "      <td>11.509831</td>\n",
       "      <td>14.203697</td>\n",
       "      <td>1</td>\n",
       "    </tr>\n",
       "  </tbody>\n",
       "</table>\n",
       "</div>"
      ],
      "text/plain": [
       "           Age  Gender City  Education_Level  Joining Designation  Grade  \\\n",
       "2     3.761200       0  C13                2                    2      2   \n",
       "2041  3.555348       0   C7                2                    2      2   \n",
       "189   3.258097       0   C4                2                    3      3   \n",
       "1213  3.295837       0  C15                2                    1      1   \n",
       "1940  3.218876       0  C28                1                    1      4   \n",
       "\n",
       "      Quarterly Rating     Income  Total Business Value  churn  \n",
       "2                  1.0  11.091377             12.676076      1  \n",
       "2041               2.0  10.894923             13.196428      0  \n",
       "189                1.0  11.005893             12.756013      0  \n",
       "1213               1.0  10.589887             12.429216      1  \n",
       "1940               1.0  11.509831             14.203697      1  "
      ]
     },
     "execution_count": 1670,
     "metadata": {},
     "output_type": "execute_result"
    }
   ],
   "source": [
    "tdf.head()"
   ]
  },
  {
   "cell_type": "code",
   "execution_count": 1671,
   "id": "be0775ac",
   "metadata": {},
   "outputs": [],
   "source": [
    "tdf_oversample = pd.concat([tdf,tdf[tdf[\"churn\"]==0].sample(n=1205-557, replace=True)],axis=0).reset_index(drop=True,inplace=False)"
   ]
  },
  {
   "cell_type": "code",
   "execution_count": 1672,
   "id": "b640a9c2",
   "metadata": {},
   "outputs": [
    {
     "data": {
      "text/plain": [
       "1    1205\n",
       "0    1205\n",
       "Name: churn, dtype: int64"
      ]
     },
     "execution_count": 1672,
     "metadata": {},
     "output_type": "execute_result"
    }
   ],
   "source": [
    "tdf_oversample[\"churn\"].value_counts()"
   ]
  },
  {
   "cell_type": "code",
   "execution_count": 1673,
   "id": "af068467",
   "metadata": {},
   "outputs": [],
   "source": [
    "X_train = tdf_oversample.drop(columns=[\"churn\"], inplace=False)\n",
    "y_train = tdf_oversample[\"churn\"].values"
   ]
  },
  {
   "cell_type": "code",
   "execution_count": 1674,
   "id": "a0b1d7bc",
   "metadata": {},
   "outputs": [
    {
     "data": {
      "text/html": [
       "<div>\n",
       "<style scoped>\n",
       "    .dataframe tbody tr th:only-of-type {\n",
       "        vertical-align: middle;\n",
       "    }\n",
       "\n",
       "    .dataframe tbody tr th {\n",
       "        vertical-align: top;\n",
       "    }\n",
       "\n",
       "    .dataframe thead th {\n",
       "        text-align: right;\n",
       "    }\n",
       "</style>\n",
       "<table border=\"1\" class=\"dataframe\">\n",
       "  <thead>\n",
       "    <tr style=\"text-align: right;\">\n",
       "      <th></th>\n",
       "      <th>Age</th>\n",
       "      <th>Gender</th>\n",
       "      <th>City</th>\n",
       "      <th>Education_Level</th>\n",
       "      <th>Joining Designation</th>\n",
       "      <th>Grade</th>\n",
       "      <th>Quarterly Rating</th>\n",
       "      <th>Income</th>\n",
       "      <th>Total Business Value</th>\n",
       "    </tr>\n",
       "  </thead>\n",
       "  <tbody>\n",
       "    <tr>\n",
       "      <th>0</th>\n",
       "      <td>3.761200</td>\n",
       "      <td>0</td>\n",
       "      <td>C13</td>\n",
       "      <td>2</td>\n",
       "      <td>2</td>\n",
       "      <td>2</td>\n",
       "      <td>1.0</td>\n",
       "      <td>11.091377</td>\n",
       "      <td>12.676076</td>\n",
       "    </tr>\n",
       "    <tr>\n",
       "      <th>1</th>\n",
       "      <td>3.555348</td>\n",
       "      <td>0</td>\n",
       "      <td>C7</td>\n",
       "      <td>2</td>\n",
       "      <td>2</td>\n",
       "      <td>2</td>\n",
       "      <td>2.0</td>\n",
       "      <td>10.894923</td>\n",
       "      <td>13.196428</td>\n",
       "    </tr>\n",
       "    <tr>\n",
       "      <th>2</th>\n",
       "      <td>3.258097</td>\n",
       "      <td>0</td>\n",
       "      <td>C4</td>\n",
       "      <td>2</td>\n",
       "      <td>3</td>\n",
       "      <td>3</td>\n",
       "      <td>1.0</td>\n",
       "      <td>11.005893</td>\n",
       "      <td>12.756013</td>\n",
       "    </tr>\n",
       "    <tr>\n",
       "      <th>3</th>\n",
       "      <td>3.295837</td>\n",
       "      <td>0</td>\n",
       "      <td>C15</td>\n",
       "      <td>2</td>\n",
       "      <td>1</td>\n",
       "      <td>1</td>\n",
       "      <td>1.0</td>\n",
       "      <td>10.589887</td>\n",
       "      <td>12.429216</td>\n",
       "    </tr>\n",
       "    <tr>\n",
       "      <th>4</th>\n",
       "      <td>3.218876</td>\n",
       "      <td>0</td>\n",
       "      <td>C28</td>\n",
       "      <td>1</td>\n",
       "      <td>1</td>\n",
       "      <td>4</td>\n",
       "      <td>1.0</td>\n",
       "      <td>11.509831</td>\n",
       "      <td>14.203697</td>\n",
       "    </tr>\n",
       "    <tr>\n",
       "      <th>...</th>\n",
       "      <td>...</td>\n",
       "      <td>...</td>\n",
       "      <td>...</td>\n",
       "      <td>...</td>\n",
       "      <td>...</td>\n",
       "      <td>...</td>\n",
       "      <td>...</td>\n",
       "      <td>...</td>\n",
       "      <td>...</td>\n",
       "    </tr>\n",
       "    <tr>\n",
       "      <th>2405</th>\n",
       "      <td>3.737670</td>\n",
       "      <td>0</td>\n",
       "      <td>C25</td>\n",
       "      <td>2</td>\n",
       "      <td>1</td>\n",
       "      <td>1</td>\n",
       "      <td>3.0</td>\n",
       "      <td>10.871251</td>\n",
       "      <td>13.749867</td>\n",
       "    </tr>\n",
       "    <tr>\n",
       "      <th>2406</th>\n",
       "      <td>3.663562</td>\n",
       "      <td>0</td>\n",
       "      <td>C18</td>\n",
       "      <td>2</td>\n",
       "      <td>3</td>\n",
       "      <td>3</td>\n",
       "      <td>1.0</td>\n",
       "      <td>11.295876</td>\n",
       "      <td>13.022366</td>\n",
       "    </tr>\n",
       "    <tr>\n",
       "      <th>2407</th>\n",
       "      <td>3.178054</td>\n",
       "      <td>1</td>\n",
       "      <td>C25</td>\n",
       "      <td>2</td>\n",
       "      <td>1</td>\n",
       "      <td>1</td>\n",
       "      <td>1.0</td>\n",
       "      <td>10.714618</td>\n",
       "      <td>12.429216</td>\n",
       "    </tr>\n",
       "    <tr>\n",
       "      <th>2408</th>\n",
       "      <td>3.332205</td>\n",
       "      <td>1</td>\n",
       "      <td>C29</td>\n",
       "      <td>0</td>\n",
       "      <td>1</td>\n",
       "      <td>1</td>\n",
       "      <td>1.0</td>\n",
       "      <td>11.138247</td>\n",
       "      <td>12.429216</td>\n",
       "    </tr>\n",
       "    <tr>\n",
       "      <th>2409</th>\n",
       "      <td>3.401197</td>\n",
       "      <td>1</td>\n",
       "      <td>C10</td>\n",
       "      <td>2</td>\n",
       "      <td>3</td>\n",
       "      <td>3</td>\n",
       "      <td>2.0</td>\n",
       "      <td>11.719460</td>\n",
       "      <td>13.458962</td>\n",
       "    </tr>\n",
       "  </tbody>\n",
       "</table>\n",
       "<p>2410 rows × 9 columns</p>\n",
       "</div>"
      ],
      "text/plain": [
       "           Age  Gender City  Education_Level  Joining Designation  Grade  \\\n",
       "0     3.761200       0  C13                2                    2      2   \n",
       "1     3.555348       0   C7                2                    2      2   \n",
       "2     3.258097       0   C4                2                    3      3   \n",
       "3     3.295837       0  C15                2                    1      1   \n",
       "4     3.218876       0  C28                1                    1      4   \n",
       "...        ...     ...  ...              ...                  ...    ...   \n",
       "2405  3.737670       0  C25                2                    1      1   \n",
       "2406  3.663562       0  C18                2                    3      3   \n",
       "2407  3.178054       1  C25                2                    1      1   \n",
       "2408  3.332205       1  C29                0                    1      1   \n",
       "2409  3.401197       1  C10                2                    3      3   \n",
       "\n",
       "      Quarterly Rating     Income  Total Business Value  \n",
       "0                  1.0  11.091377             12.676076  \n",
       "1                  2.0  10.894923             13.196428  \n",
       "2                  1.0  11.005893             12.756013  \n",
       "3                  1.0  10.589887             12.429216  \n",
       "4                  1.0  11.509831             14.203697  \n",
       "...                ...        ...                   ...  \n",
       "2405               3.0  10.871251             13.749867  \n",
       "2406               1.0  11.295876             13.022366  \n",
       "2407               1.0  10.714618             12.429216  \n",
       "2408               1.0  11.138247             12.429216  \n",
       "2409               2.0  11.719460             13.458962  \n",
       "\n",
       "[2410 rows x 9 columns]"
      ]
     },
     "execution_count": 1674,
     "metadata": {},
     "output_type": "execute_result"
    }
   ],
   "source": [
    "X_train"
   ]
  },
  {
   "cell_type": "code",
   "execution_count": 1675,
   "id": "44035d64",
   "metadata": {},
   "outputs": [
    {
     "data": {
      "text/plain": [
       "array([1, 0, 0, ..., 0, 0, 0], dtype=int64)"
      ]
     },
     "execution_count": 1675,
     "metadata": {},
     "output_type": "execute_result"
    }
   ],
   "source": [
    "y_train"
   ]
  },
  {
   "cell_type": "markdown",
   "id": "01719618",
   "metadata": {},
   "source": [
    "### Encoding"
   ]
  },
  {
   "cell_type": "code",
   "execution_count": 1,
   "id": "be10b911",
   "metadata": {},
   "outputs": [],
   "source": [
    "from sklearn.impute import SimpleImputer\n",
    "from sklearn.impute import KNNImputer"
   ]
  },
  {
   "cell_type": "code",
   "execution_count": 1677,
   "id": "2dc47658",
   "metadata": {},
   "outputs": [],
   "source": [
    "from sklearn.preprocessing import LabelEncoder\n",
    "from sklearn.preprocessing import OrdinalEncoder\n",
    "from sklearn.preprocessing import OneHotEncoder"
   ]
  },
  {
   "cell_type": "code",
   "execution_count": 1678,
   "id": "b79fe1fa",
   "metadata": {},
   "outputs": [],
   "source": [
    "from sklearn.preprocessing import StandardScaler\n",
    "from sklearn.preprocessing import MinMaxScaler"
   ]
  },
  {
   "cell_type": "code",
   "execution_count": 1679,
   "id": "ebc59ade",
   "metadata": {},
   "outputs": [],
   "source": [
    "from sklearn.compose import ColumnTransformer\n",
    "from sklearn.pipeline import Pipeline, make_pipeline"
   ]
  },
  {
   "cell_type": "code",
   "execution_count": 1680,
   "id": "0cbf2a0a",
   "metadata": {},
   "outputs": [
    {
     "data": {
      "text/plain": [
       "Index(['Age', 'Gender', 'City', 'Education_Level', 'Joining Designation',\n",
       "       'Grade', 'Quarterly Rating', 'Income', 'Total Business Value', 'churn'],\n",
       "      dtype='object')"
      ]
     },
     "execution_count": 1680,
     "metadata": {},
     "output_type": "execute_result"
    }
   ],
   "source": [
    "df.columns"
   ]
  },
  {
   "cell_type": "markdown",
   "id": "9b0af9bc",
   "metadata": {},
   "source": [
    "#### transformer: one-hot-encoder"
   ]
  },
  {
   "cell_type": "code",
   "execution_count": 1681,
   "id": "c934d5b8",
   "metadata": {},
   "outputs": [],
   "source": [
    "ohe_col = [\"City\",\"Education_Level\",\"Joining Designation\",\"Grade\",\"Quarterly Rating\"]"
   ]
  },
  {
   "cell_type": "code",
   "execution_count": 1682,
   "id": "ae4de35e",
   "metadata": {},
   "outputs": [],
   "source": [
    "ohe_tf = ColumnTransformer(transformers=[\n",
    "(\"ohe\",OneHotEncoder(drop=\"first\",sparse=False,handle_unknown=\"ignore\"),ohe_col)\n",
    "], remainder=\"passthrough\" )"
   ]
  },
  {
   "cell_type": "code",
   "execution_count": 1683,
   "id": "99744cdc",
   "metadata": {},
   "outputs": [
    {
     "data": {
      "text/html": [
       "<div>\n",
       "<style scoped>\n",
       "    .dataframe tbody tr th:only-of-type {\n",
       "        vertical-align: middle;\n",
       "    }\n",
       "\n",
       "    .dataframe tbody tr th {\n",
       "        vertical-align: top;\n",
       "    }\n",
       "\n",
       "    .dataframe thead th {\n",
       "        text-align: right;\n",
       "    }\n",
       "</style>\n",
       "<table border=\"1\" class=\"dataframe\">\n",
       "  <thead>\n",
       "    <tr style=\"text-align: right;\">\n",
       "      <th></th>\n",
       "      <th>0</th>\n",
       "      <th>1</th>\n",
       "      <th>2</th>\n",
       "      <th>3</th>\n",
       "      <th>4</th>\n",
       "      <th>5</th>\n",
       "      <th>6</th>\n",
       "      <th>7</th>\n",
       "      <th>8</th>\n",
       "      <th>9</th>\n",
       "      <th>...</th>\n",
       "      <th>38</th>\n",
       "      <th>39</th>\n",
       "      <th>40</th>\n",
       "      <th>41</th>\n",
       "      <th>42</th>\n",
       "      <th>43</th>\n",
       "      <th>44</th>\n",
       "      <th>45</th>\n",
       "      <th>46</th>\n",
       "      <th>47</th>\n",
       "    </tr>\n",
       "  </thead>\n",
       "  <tbody>\n",
       "    <tr>\n",
       "      <th>0</th>\n",
       "      <td>0.0</td>\n",
       "      <td>0.0</td>\n",
       "      <td>0.0</td>\n",
       "      <td>1.0</td>\n",
       "      <td>0.0</td>\n",
       "      <td>0.0</td>\n",
       "      <td>0.0</td>\n",
       "      <td>0.0</td>\n",
       "      <td>0.0</td>\n",
       "      <td>0.0</td>\n",
       "      <td>...</td>\n",
       "      <td>0.0</td>\n",
       "      <td>0.0</td>\n",
       "      <td>0.0</td>\n",
       "      <td>0.0</td>\n",
       "      <td>0.0</td>\n",
       "      <td>0.0</td>\n",
       "      <td>3.761200</td>\n",
       "      <td>0.0</td>\n",
       "      <td>11.091377</td>\n",
       "      <td>12.676076</td>\n",
       "    </tr>\n",
       "    <tr>\n",
       "      <th>1</th>\n",
       "      <td>0.0</td>\n",
       "      <td>0.0</td>\n",
       "      <td>0.0</td>\n",
       "      <td>0.0</td>\n",
       "      <td>0.0</td>\n",
       "      <td>0.0</td>\n",
       "      <td>0.0</td>\n",
       "      <td>0.0</td>\n",
       "      <td>0.0</td>\n",
       "      <td>0.0</td>\n",
       "      <td>...</td>\n",
       "      <td>0.0</td>\n",
       "      <td>1.0</td>\n",
       "      <td>0.0</td>\n",
       "      <td>0.0</td>\n",
       "      <td>0.0</td>\n",
       "      <td>0.0</td>\n",
       "      <td>3.555348</td>\n",
       "      <td>0.0</td>\n",
       "      <td>10.894923</td>\n",
       "      <td>13.196428</td>\n",
       "    </tr>\n",
       "    <tr>\n",
       "      <th>2</th>\n",
       "      <td>0.0</td>\n",
       "      <td>0.0</td>\n",
       "      <td>0.0</td>\n",
       "      <td>0.0</td>\n",
       "      <td>0.0</td>\n",
       "      <td>0.0</td>\n",
       "      <td>0.0</td>\n",
       "      <td>0.0</td>\n",
       "      <td>0.0</td>\n",
       "      <td>0.0</td>\n",
       "      <td>...</td>\n",
       "      <td>0.0</td>\n",
       "      <td>0.0</td>\n",
       "      <td>0.0</td>\n",
       "      <td>0.0</td>\n",
       "      <td>0.0</td>\n",
       "      <td>0.0</td>\n",
       "      <td>3.258097</td>\n",
       "      <td>0.0</td>\n",
       "      <td>11.005893</td>\n",
       "      <td>12.756013</td>\n",
       "    </tr>\n",
       "  </tbody>\n",
       "</table>\n",
       "<p>3 rows × 48 columns</p>\n",
       "</div>"
      ],
      "text/plain": [
       "    0    1    2    3    4    5    6    7    8    9   ...   38   39   40   41  \\\n",
       "0  0.0  0.0  0.0  1.0  0.0  0.0  0.0  0.0  0.0  0.0  ...  0.0  0.0  0.0  0.0   \n",
       "1  0.0  0.0  0.0  0.0  0.0  0.0  0.0  0.0  0.0  0.0  ...  0.0  1.0  0.0  0.0   \n",
       "2  0.0  0.0  0.0  0.0  0.0  0.0  0.0  0.0  0.0  0.0  ...  0.0  0.0  0.0  0.0   \n",
       "\n",
       "    42   43        44   45         46         47  \n",
       "0  0.0  0.0  3.761200  0.0  11.091377  12.676076  \n",
       "1  0.0  0.0  3.555348  0.0  10.894923  13.196428  \n",
       "2  0.0  0.0  3.258097  0.0  11.005893  12.756013  \n",
       "\n",
       "[3 rows x 48 columns]"
      ]
     },
     "execution_count": 1683,
     "metadata": {},
     "output_type": "execute_result"
    }
   ],
   "source": [
    "pd.DataFrame(ohe_tf.fit_transform(X_train))[:3]"
   ]
  },
  {
   "cell_type": "markdown",
   "id": "39a011b5",
   "metadata": {},
   "source": [
    "#### transformer: StandrdScaler"
   ]
  },
  {
   "cell_type": "code",
   "execution_count": 1684,
   "id": "3c253c19",
   "metadata": {},
   "outputs": [],
   "source": [
    "# scaling\n",
    "scaler_tf = ColumnTransformer([(\"scale\",StandardScaler(),[44,46,47])],\n",
    "                         remainder=\"passthrough\")"
   ]
  },
  {
   "cell_type": "code",
   "execution_count": 1685,
   "id": "6b6a30d4",
   "metadata": {},
   "outputs": [
    {
     "data": {
      "text/html": [
       "<div>\n",
       "<style scoped>\n",
       "    .dataframe tbody tr th:only-of-type {\n",
       "        vertical-align: middle;\n",
       "    }\n",
       "\n",
       "    .dataframe tbody tr th {\n",
       "        vertical-align: top;\n",
       "    }\n",
       "\n",
       "    .dataframe thead th {\n",
       "        text-align: right;\n",
       "    }\n",
       "</style>\n",
       "<table border=\"1\" class=\"dataframe\">\n",
       "  <thead>\n",
       "    <tr style=\"text-align: right;\">\n",
       "      <th></th>\n",
       "      <th>0</th>\n",
       "      <th>1</th>\n",
       "      <th>2</th>\n",
       "      <th>3</th>\n",
       "      <th>4</th>\n",
       "      <th>5</th>\n",
       "      <th>6</th>\n",
       "      <th>7</th>\n",
       "      <th>8</th>\n",
       "      <th>9</th>\n",
       "      <th>...</th>\n",
       "      <th>38</th>\n",
       "      <th>39</th>\n",
       "      <th>40</th>\n",
       "      <th>41</th>\n",
       "      <th>42</th>\n",
       "      <th>43</th>\n",
       "      <th>44</th>\n",
       "      <th>45</th>\n",
       "      <th>46</th>\n",
       "      <th>47</th>\n",
       "    </tr>\n",
       "  </thead>\n",
       "  <tbody>\n",
       "    <tr>\n",
       "      <th>0</th>\n",
       "      <td>1.477400</td>\n",
       "      <td>0.433435</td>\n",
       "      <td>-0.644782</td>\n",
       "      <td>0.0</td>\n",
       "      <td>0.0</td>\n",
       "      <td>0.0</td>\n",
       "      <td>1.0</td>\n",
       "      <td>0.0</td>\n",
       "      <td>0.0</td>\n",
       "      <td>0.0</td>\n",
       "      <td>...</td>\n",
       "      <td>0.0</td>\n",
       "      <td>0.0</td>\n",
       "      <td>0.0</td>\n",
       "      <td>0.0</td>\n",
       "      <td>0.0</td>\n",
       "      <td>0.0</td>\n",
       "      <td>0.0</td>\n",
       "      <td>0.0</td>\n",
       "      <td>0.0</td>\n",
       "      <td>0.0</td>\n",
       "    </tr>\n",
       "    <tr>\n",
       "      <th>1</th>\n",
       "      <td>0.307336</td>\n",
       "      <td>-0.004987</td>\n",
       "      <td>0.250833</td>\n",
       "      <td>0.0</td>\n",
       "      <td>0.0</td>\n",
       "      <td>0.0</td>\n",
       "      <td>0.0</td>\n",
       "      <td>0.0</td>\n",
       "      <td>0.0</td>\n",
       "      <td>0.0</td>\n",
       "      <td>...</td>\n",
       "      <td>0.0</td>\n",
       "      <td>0.0</td>\n",
       "      <td>0.0</td>\n",
       "      <td>0.0</td>\n",
       "      <td>1.0</td>\n",
       "      <td>0.0</td>\n",
       "      <td>0.0</td>\n",
       "      <td>0.0</td>\n",
       "      <td>0.0</td>\n",
       "      <td>0.0</td>\n",
       "    </tr>\n",
       "    <tr>\n",
       "      <th>2</th>\n",
       "      <td>-1.382243</td>\n",
       "      <td>0.242662</td>\n",
       "      <td>-0.507197</td>\n",
       "      <td>0.0</td>\n",
       "      <td>0.0</td>\n",
       "      <td>0.0</td>\n",
       "      <td>0.0</td>\n",
       "      <td>0.0</td>\n",
       "      <td>0.0</td>\n",
       "      <td>0.0</td>\n",
       "      <td>...</td>\n",
       "      <td>1.0</td>\n",
       "      <td>0.0</td>\n",
       "      <td>0.0</td>\n",
       "      <td>0.0</td>\n",
       "      <td>0.0</td>\n",
       "      <td>0.0</td>\n",
       "      <td>0.0</td>\n",
       "      <td>0.0</td>\n",
       "      <td>0.0</td>\n",
       "      <td>0.0</td>\n",
       "    </tr>\n",
       "  </tbody>\n",
       "</table>\n",
       "<p>3 rows × 48 columns</p>\n",
       "</div>"
      ],
      "text/plain": [
       "         0         1         2    3    4    5    6    7    8    9   ...   38  \\\n",
       "0  1.477400  0.433435 -0.644782  0.0  0.0  0.0  1.0  0.0  0.0  0.0  ...  0.0   \n",
       "1  0.307336 -0.004987  0.250833  0.0  0.0  0.0  0.0  0.0  0.0  0.0  ...  0.0   \n",
       "2 -1.382243  0.242662 -0.507197  0.0  0.0  0.0  0.0  0.0  0.0  0.0  ...  1.0   \n",
       "\n",
       "    39   40   41   42   43   44   45   46   47  \n",
       "0  0.0  0.0  0.0  0.0  0.0  0.0  0.0  0.0  0.0  \n",
       "1  0.0  0.0  0.0  1.0  0.0  0.0  0.0  0.0  0.0  \n",
       "2  0.0  0.0  0.0  0.0  0.0  0.0  0.0  0.0  0.0  \n",
       "\n",
       "[3 rows x 48 columns]"
      ]
     },
     "execution_count": 1685,
     "metadata": {},
     "output_type": "execute_result"
    }
   ],
   "source": [
    "pd.DataFrame(scaler_tf.fit_transform(ohe_tf.fit_transform(X_train)))[:3]"
   ]
  },
  {
   "cell_type": "markdown",
   "id": "6aa926e1",
   "metadata": {},
   "source": [
    "### preprocess"
   ]
  },
  {
   "cell_type": "code",
   "execution_count": 1686,
   "id": "157c431a",
   "metadata": {},
   "outputs": [],
   "source": [
    "# display pipeline\n",
    "from sklearn import set_config\n",
    "set_config(display=\"diagram\")"
   ]
  },
  {
   "cell_type": "code",
   "execution_count": 1687,
   "id": "68d616d6",
   "metadata": {},
   "outputs": [],
   "source": [
    "preprocess = Pipeline([(\"ohe_tf\",ohe_tf),(\"scaler_tf\",scaler_tf)])"
   ]
  },
  {
   "cell_type": "code",
   "execution_count": 1688,
   "id": "c043e033",
   "metadata": {},
   "outputs": [
    {
     "data": {
      "text/html": [
       "<style>#sk-f3541241-85f8-4b3a-b372-b11a39c05187 {color: black;background-color: white;}#sk-f3541241-85f8-4b3a-b372-b11a39c05187 pre{padding: 0;}#sk-f3541241-85f8-4b3a-b372-b11a39c05187 div.sk-toggleable {background-color: white;}#sk-f3541241-85f8-4b3a-b372-b11a39c05187 label.sk-toggleable__label {cursor: pointer;display: block;width: 100%;margin-bottom: 0;padding: 0.3em;box-sizing: border-box;text-align: center;}#sk-f3541241-85f8-4b3a-b372-b11a39c05187 label.sk-toggleable__label-arrow:before {content: \"▸\";float: left;margin-right: 0.25em;color: #696969;}#sk-f3541241-85f8-4b3a-b372-b11a39c05187 label.sk-toggleable__label-arrow:hover:before {color: black;}#sk-f3541241-85f8-4b3a-b372-b11a39c05187 div.sk-estimator:hover label.sk-toggleable__label-arrow:before {color: black;}#sk-f3541241-85f8-4b3a-b372-b11a39c05187 div.sk-toggleable__content {max-height: 0;max-width: 0;overflow: hidden;text-align: left;background-color: #f0f8ff;}#sk-f3541241-85f8-4b3a-b372-b11a39c05187 div.sk-toggleable__content pre {margin: 0.2em;color: black;border-radius: 0.25em;background-color: #f0f8ff;}#sk-f3541241-85f8-4b3a-b372-b11a39c05187 input.sk-toggleable__control:checked~div.sk-toggleable__content {max-height: 200px;max-width: 100%;overflow: auto;}#sk-f3541241-85f8-4b3a-b372-b11a39c05187 input.sk-toggleable__control:checked~label.sk-toggleable__label-arrow:before {content: \"▾\";}#sk-f3541241-85f8-4b3a-b372-b11a39c05187 div.sk-estimator input.sk-toggleable__control:checked~label.sk-toggleable__label {background-color: #d4ebff;}#sk-f3541241-85f8-4b3a-b372-b11a39c05187 div.sk-label input.sk-toggleable__control:checked~label.sk-toggleable__label {background-color: #d4ebff;}#sk-f3541241-85f8-4b3a-b372-b11a39c05187 input.sk-hidden--visually {border: 0;clip: rect(1px 1px 1px 1px);clip: rect(1px, 1px, 1px, 1px);height: 1px;margin: -1px;overflow: hidden;padding: 0;position: absolute;width: 1px;}#sk-f3541241-85f8-4b3a-b372-b11a39c05187 div.sk-estimator {font-family: monospace;background-color: #f0f8ff;border: 1px dotted black;border-radius: 0.25em;box-sizing: border-box;margin-bottom: 0.5em;}#sk-f3541241-85f8-4b3a-b372-b11a39c05187 div.sk-estimator:hover {background-color: #d4ebff;}#sk-f3541241-85f8-4b3a-b372-b11a39c05187 div.sk-parallel-item::after {content: \"\";width: 100%;border-bottom: 1px solid gray;flex-grow: 1;}#sk-f3541241-85f8-4b3a-b372-b11a39c05187 div.sk-label:hover label.sk-toggleable__label {background-color: #d4ebff;}#sk-f3541241-85f8-4b3a-b372-b11a39c05187 div.sk-serial::before {content: \"\";position: absolute;border-left: 1px solid gray;box-sizing: border-box;top: 2em;bottom: 0;left: 50%;}#sk-f3541241-85f8-4b3a-b372-b11a39c05187 div.sk-serial {display: flex;flex-direction: column;align-items: center;background-color: white;padding-right: 0.2em;padding-left: 0.2em;}#sk-f3541241-85f8-4b3a-b372-b11a39c05187 div.sk-item {z-index: 1;}#sk-f3541241-85f8-4b3a-b372-b11a39c05187 div.sk-parallel {display: flex;align-items: stretch;justify-content: center;background-color: white;}#sk-f3541241-85f8-4b3a-b372-b11a39c05187 div.sk-parallel::before {content: \"\";position: absolute;border-left: 1px solid gray;box-sizing: border-box;top: 2em;bottom: 0;left: 50%;}#sk-f3541241-85f8-4b3a-b372-b11a39c05187 div.sk-parallel-item {display: flex;flex-direction: column;position: relative;background-color: white;}#sk-f3541241-85f8-4b3a-b372-b11a39c05187 div.sk-parallel-item:first-child::after {align-self: flex-end;width: 50%;}#sk-f3541241-85f8-4b3a-b372-b11a39c05187 div.sk-parallel-item:last-child::after {align-self: flex-start;width: 50%;}#sk-f3541241-85f8-4b3a-b372-b11a39c05187 div.sk-parallel-item:only-child::after {width: 0;}#sk-f3541241-85f8-4b3a-b372-b11a39c05187 div.sk-dashed-wrapped {border: 1px dashed gray;margin: 0 0.4em 0.5em 0.4em;box-sizing: border-box;padding-bottom: 0.4em;background-color: white;position: relative;}#sk-f3541241-85f8-4b3a-b372-b11a39c05187 div.sk-label label {font-family: monospace;font-weight: bold;background-color: white;display: inline-block;line-height: 1.2em;}#sk-f3541241-85f8-4b3a-b372-b11a39c05187 div.sk-label-container {position: relative;z-index: 2;text-align: center;}#sk-f3541241-85f8-4b3a-b372-b11a39c05187 div.sk-container {/* jupyter's `normalize.less` sets `[hidden] { display: none; }` but bootstrap.min.css set `[hidden] { display: none !important; }` so we also need the `!important` here to be able to override the default hidden behavior on the sphinx rendered scikit-learn.org. See: https://github.com/scikit-learn/scikit-learn/issues/21755 */display: inline-block !important;position: relative;}#sk-f3541241-85f8-4b3a-b372-b11a39c05187 div.sk-text-repr-fallback {display: none;}</style><div id=\"sk-f3541241-85f8-4b3a-b372-b11a39c05187\" class=\"sk-top-container\"><div class=\"sk-text-repr-fallback\"><pre>Pipeline(steps=[(&#x27;ohe_tf&#x27;,\n",
       "                 ColumnTransformer(remainder=&#x27;passthrough&#x27;,\n",
       "                                   transformers=[(&#x27;ohe&#x27;,\n",
       "                                                  OneHotEncoder(drop=&#x27;first&#x27;,\n",
       "                                                                handle_unknown=&#x27;ignore&#x27;,\n",
       "                                                                sparse=False),\n",
       "                                                  [&#x27;City&#x27;, &#x27;Education_Level&#x27;,\n",
       "                                                   &#x27;Joining Designation&#x27;,\n",
       "                                                   &#x27;Grade&#x27;,\n",
       "                                                   &#x27;Quarterly Rating&#x27;])])),\n",
       "                (&#x27;scaler_tf&#x27;,\n",
       "                 ColumnTransformer(remainder=&#x27;passthrough&#x27;,\n",
       "                                   transformers=[(&#x27;scale&#x27;, StandardScaler(),\n",
       "                                                  [44, 46, 47])]))])</pre><b>Please rerun this cell to show the HTML repr or trust the notebook.</b></div><div class=\"sk-container\" hidden><div class=\"sk-item sk-dashed-wrapped\"><div class=\"sk-label-container\"><div class=\"sk-label sk-toggleable\"><input class=\"sk-toggleable__control sk-hidden--visually\" id=\"325e7140-828b-41cb-9d24-63036183344c\" type=\"checkbox\" ><label for=\"325e7140-828b-41cb-9d24-63036183344c\" class=\"sk-toggleable__label sk-toggleable__label-arrow\">Pipeline</label><div class=\"sk-toggleable__content\"><pre>Pipeline(steps=[(&#x27;ohe_tf&#x27;,\n",
       "                 ColumnTransformer(remainder=&#x27;passthrough&#x27;,\n",
       "                                   transformers=[(&#x27;ohe&#x27;,\n",
       "                                                  OneHotEncoder(drop=&#x27;first&#x27;,\n",
       "                                                                handle_unknown=&#x27;ignore&#x27;,\n",
       "                                                                sparse=False),\n",
       "                                                  [&#x27;City&#x27;, &#x27;Education_Level&#x27;,\n",
       "                                                   &#x27;Joining Designation&#x27;,\n",
       "                                                   &#x27;Grade&#x27;,\n",
       "                                                   &#x27;Quarterly Rating&#x27;])])),\n",
       "                (&#x27;scaler_tf&#x27;,\n",
       "                 ColumnTransformer(remainder=&#x27;passthrough&#x27;,\n",
       "                                   transformers=[(&#x27;scale&#x27;, StandardScaler(),\n",
       "                                                  [44, 46, 47])]))])</pre></div></div></div><div class=\"sk-serial\"><div class=\"sk-item sk-dashed-wrapped\"><div class=\"sk-label-container\"><div class=\"sk-label sk-toggleable\"><input class=\"sk-toggleable__control sk-hidden--visually\" id=\"0f8c8d51-49ac-45a8-9b3c-e3e9e1c28d27\" type=\"checkbox\" ><label for=\"0f8c8d51-49ac-45a8-9b3c-e3e9e1c28d27\" class=\"sk-toggleable__label sk-toggleable__label-arrow\">ohe_tf: ColumnTransformer</label><div class=\"sk-toggleable__content\"><pre>ColumnTransformer(remainder=&#x27;passthrough&#x27;,\n",
       "                  transformers=[(&#x27;ohe&#x27;,\n",
       "                                 OneHotEncoder(drop=&#x27;first&#x27;,\n",
       "                                               handle_unknown=&#x27;ignore&#x27;,\n",
       "                                               sparse=False),\n",
       "                                 [&#x27;City&#x27;, &#x27;Education_Level&#x27;,\n",
       "                                  &#x27;Joining Designation&#x27;, &#x27;Grade&#x27;,\n",
       "                                  &#x27;Quarterly Rating&#x27;])])</pre></div></div></div><div class=\"sk-parallel\"><div class=\"sk-parallel-item\"><div class=\"sk-item\"><div class=\"sk-label-container\"><div class=\"sk-label sk-toggleable\"><input class=\"sk-toggleable__control sk-hidden--visually\" id=\"fcf325aa-7d85-423d-ada5-e78d610a3b48\" type=\"checkbox\" ><label for=\"fcf325aa-7d85-423d-ada5-e78d610a3b48\" class=\"sk-toggleable__label sk-toggleable__label-arrow\">ohe</label><div class=\"sk-toggleable__content\"><pre>[&#x27;City&#x27;, &#x27;Education_Level&#x27;, &#x27;Joining Designation&#x27;, &#x27;Grade&#x27;, &#x27;Quarterly Rating&#x27;]</pre></div></div></div><div class=\"sk-serial\"><div class=\"sk-item\"><div class=\"sk-estimator sk-toggleable\"><input class=\"sk-toggleable__control sk-hidden--visually\" id=\"11c68a68-3e8e-40cd-8fe4-bd4016b8d0a4\" type=\"checkbox\" ><label for=\"11c68a68-3e8e-40cd-8fe4-bd4016b8d0a4\" class=\"sk-toggleable__label sk-toggleable__label-arrow\">OneHotEncoder</label><div class=\"sk-toggleable__content\"><pre>OneHotEncoder(drop=&#x27;first&#x27;, handle_unknown=&#x27;ignore&#x27;, sparse=False)</pre></div></div></div></div></div></div><div class=\"sk-parallel-item\"><div class=\"sk-item\"><div class=\"sk-label-container\"><div class=\"sk-label sk-toggleable\"><input class=\"sk-toggleable__control sk-hidden--visually\" id=\"7c2d2281-3cfd-478f-9a04-d7ca8eb9da22\" type=\"checkbox\" ><label for=\"7c2d2281-3cfd-478f-9a04-d7ca8eb9da22\" class=\"sk-toggleable__label sk-toggleable__label-arrow\">remainder</label><div class=\"sk-toggleable__content\"><pre>[&#x27;Age&#x27;, &#x27;Gender&#x27;, &#x27;Income&#x27;, &#x27;Total Business Value&#x27;]</pre></div></div></div><div class=\"sk-serial\"><div class=\"sk-item\"><div class=\"sk-estimator sk-toggleable\"><input class=\"sk-toggleable__control sk-hidden--visually\" id=\"dde702e3-b298-4bbb-961f-868e00455bd1\" type=\"checkbox\" ><label for=\"dde702e3-b298-4bbb-961f-868e00455bd1\" class=\"sk-toggleable__label sk-toggleable__label-arrow\">passthrough</label><div class=\"sk-toggleable__content\"><pre>passthrough</pre></div></div></div></div></div></div></div></div><div class=\"sk-item sk-dashed-wrapped\"><div class=\"sk-label-container\"><div class=\"sk-label sk-toggleable\"><input class=\"sk-toggleable__control sk-hidden--visually\" id=\"207b3b2e-5e16-4b8a-981d-1fd896c43e30\" type=\"checkbox\" ><label for=\"207b3b2e-5e16-4b8a-981d-1fd896c43e30\" class=\"sk-toggleable__label sk-toggleable__label-arrow\">scaler_tf: ColumnTransformer</label><div class=\"sk-toggleable__content\"><pre>ColumnTransformer(remainder=&#x27;passthrough&#x27;,\n",
       "                  transformers=[(&#x27;scale&#x27;, StandardScaler(), [44, 46, 47])])</pre></div></div></div><div class=\"sk-parallel\"><div class=\"sk-parallel-item\"><div class=\"sk-item\"><div class=\"sk-label-container\"><div class=\"sk-label sk-toggleable\"><input class=\"sk-toggleable__control sk-hidden--visually\" id=\"20a28ae3-36a0-4af3-93ed-f8a1cec1ff1d\" type=\"checkbox\" ><label for=\"20a28ae3-36a0-4af3-93ed-f8a1cec1ff1d\" class=\"sk-toggleable__label sk-toggleable__label-arrow\">scale</label><div class=\"sk-toggleable__content\"><pre>[44, 46, 47]</pre></div></div></div><div class=\"sk-serial\"><div class=\"sk-item\"><div class=\"sk-estimator sk-toggleable\"><input class=\"sk-toggleable__control sk-hidden--visually\" id=\"d084cbc1-5cc7-4cff-aa40-6efe5703dced\" type=\"checkbox\" ><label for=\"d084cbc1-5cc7-4cff-aa40-6efe5703dced\" class=\"sk-toggleable__label sk-toggleable__label-arrow\">StandardScaler</label><div class=\"sk-toggleable__content\"><pre>StandardScaler()</pre></div></div></div></div></div></div><div class=\"sk-parallel-item\"><div class=\"sk-item\"><div class=\"sk-label-container\"><div class=\"sk-label sk-toggleable\"><input class=\"sk-toggleable__control sk-hidden--visually\" id=\"aa020420-859f-4a3f-b592-06667b740018\" type=\"checkbox\" ><label for=\"aa020420-859f-4a3f-b592-06667b740018\" class=\"sk-toggleable__label sk-toggleable__label-arrow\">remainder</label><div class=\"sk-toggleable__content\"><pre>[0, 1, 2, 3, 4, 5, 6, 7, 8, 9, 10, 11, 12, 13, 14, 15, 16, 17, 18, 19, 20, 21, 22, 23, 24, 25, 26, 27, 28, 29, 30, 31, 32, 33, 34, 35, 36, 37, 38, 39, 40, 41, 42, 43, 45]</pre></div></div></div><div class=\"sk-serial\"><div class=\"sk-item\"><div class=\"sk-estimator sk-toggleable\"><input class=\"sk-toggleable__control sk-hidden--visually\" id=\"c6b10bda-6a86-4006-b3c3-cf548ea292f4\" type=\"checkbox\" ><label for=\"c6b10bda-6a86-4006-b3c3-cf548ea292f4\" class=\"sk-toggleable__label sk-toggleable__label-arrow\">passthrough</label><div class=\"sk-toggleable__content\"><pre>passthrough</pre></div></div></div></div></div></div></div></div></div></div></div></div>"
      ],
      "text/plain": [
       "Pipeline(steps=[('ohe_tf',\n",
       "                 ColumnTransformer(remainder='passthrough',\n",
       "                                   transformers=[('ohe',\n",
       "                                                  OneHotEncoder(drop='first',\n",
       "                                                                handle_unknown='ignore',\n",
       "                                                                sparse=False),\n",
       "                                                  ['City', 'Education_Level',\n",
       "                                                   'Joining Designation',\n",
       "                                                   'Grade',\n",
       "                                                   'Quarterly Rating'])])),\n",
       "                ('scaler_tf',\n",
       "                 ColumnTransformer(remainder='passthrough',\n",
       "                                   transformers=[('scale', StandardScaler(),\n",
       "                                                  [44, 46, 47])]))])"
      ]
     },
     "execution_count": 1688,
     "metadata": {},
     "output_type": "execute_result"
    }
   ],
   "source": [
    "preprocess.fit(X_train)"
   ]
  },
  {
   "cell_type": "code",
   "execution_count": 1689,
   "id": "a3b356a5",
   "metadata": {},
   "outputs": [
    {
     "data": {
      "text/html": [
       "<div>\n",
       "<style scoped>\n",
       "    .dataframe tbody tr th:only-of-type {\n",
       "        vertical-align: middle;\n",
       "    }\n",
       "\n",
       "    .dataframe tbody tr th {\n",
       "        vertical-align: top;\n",
       "    }\n",
       "\n",
       "    .dataframe thead th {\n",
       "        text-align: right;\n",
       "    }\n",
       "</style>\n",
       "<table border=\"1\" class=\"dataframe\">\n",
       "  <thead>\n",
       "    <tr style=\"text-align: right;\">\n",
       "      <th></th>\n",
       "      <th>0</th>\n",
       "      <th>1</th>\n",
       "      <th>2</th>\n",
       "      <th>3</th>\n",
       "      <th>4</th>\n",
       "      <th>5</th>\n",
       "      <th>6</th>\n",
       "      <th>7</th>\n",
       "      <th>8</th>\n",
       "      <th>9</th>\n",
       "      <th>...</th>\n",
       "      <th>38</th>\n",
       "      <th>39</th>\n",
       "      <th>40</th>\n",
       "      <th>41</th>\n",
       "      <th>42</th>\n",
       "      <th>43</th>\n",
       "      <th>44</th>\n",
       "      <th>45</th>\n",
       "      <th>46</th>\n",
       "      <th>47</th>\n",
       "    </tr>\n",
       "  </thead>\n",
       "  <tbody>\n",
       "    <tr>\n",
       "      <th>0</th>\n",
       "      <td>1.477400</td>\n",
       "      <td>0.433435</td>\n",
       "      <td>-0.644782</td>\n",
       "      <td>0.0</td>\n",
       "      <td>0.0</td>\n",
       "      <td>0.0</td>\n",
       "      <td>1.0</td>\n",
       "      <td>0.0</td>\n",
       "      <td>0.0</td>\n",
       "      <td>0.0</td>\n",
       "      <td>...</td>\n",
       "      <td>0.0</td>\n",
       "      <td>0.0</td>\n",
       "      <td>0.0</td>\n",
       "      <td>0.0</td>\n",
       "      <td>0.0</td>\n",
       "      <td>0.0</td>\n",
       "      <td>0.0</td>\n",
       "      <td>0.0</td>\n",
       "      <td>0.0</td>\n",
       "      <td>0.0</td>\n",
       "    </tr>\n",
       "    <tr>\n",
       "      <th>1</th>\n",
       "      <td>0.307336</td>\n",
       "      <td>-0.004987</td>\n",
       "      <td>0.250833</td>\n",
       "      <td>0.0</td>\n",
       "      <td>0.0</td>\n",
       "      <td>0.0</td>\n",
       "      <td>0.0</td>\n",
       "      <td>0.0</td>\n",
       "      <td>0.0</td>\n",
       "      <td>0.0</td>\n",
       "      <td>...</td>\n",
       "      <td>0.0</td>\n",
       "      <td>0.0</td>\n",
       "      <td>0.0</td>\n",
       "      <td>0.0</td>\n",
       "      <td>1.0</td>\n",
       "      <td>0.0</td>\n",
       "      <td>0.0</td>\n",
       "      <td>0.0</td>\n",
       "      <td>0.0</td>\n",
       "      <td>0.0</td>\n",
       "    </tr>\n",
       "    <tr>\n",
       "      <th>2</th>\n",
       "      <td>-1.382243</td>\n",
       "      <td>0.242662</td>\n",
       "      <td>-0.507197</td>\n",
       "      <td>0.0</td>\n",
       "      <td>0.0</td>\n",
       "      <td>0.0</td>\n",
       "      <td>0.0</td>\n",
       "      <td>0.0</td>\n",
       "      <td>0.0</td>\n",
       "      <td>0.0</td>\n",
       "      <td>...</td>\n",
       "      <td>1.0</td>\n",
       "      <td>0.0</td>\n",
       "      <td>0.0</td>\n",
       "      <td>0.0</td>\n",
       "      <td>0.0</td>\n",
       "      <td>0.0</td>\n",
       "      <td>0.0</td>\n",
       "      <td>0.0</td>\n",
       "      <td>0.0</td>\n",
       "      <td>0.0</td>\n",
       "    </tr>\n",
       "  </tbody>\n",
       "</table>\n",
       "<p>3 rows × 48 columns</p>\n",
       "</div>"
      ],
      "text/plain": [
       "         0         1         2    3    4    5    6    7    8    9   ...   38  \\\n",
       "0  1.477400  0.433435 -0.644782  0.0  0.0  0.0  1.0  0.0  0.0  0.0  ...  0.0   \n",
       "1  0.307336 -0.004987  0.250833  0.0  0.0  0.0  0.0  0.0  0.0  0.0  ...  0.0   \n",
       "2 -1.382243  0.242662 -0.507197  0.0  0.0  0.0  0.0  0.0  0.0  0.0  ...  1.0   \n",
       "\n",
       "    39   40   41   42   43   44   45   46   47  \n",
       "0  0.0  0.0  0.0  0.0  0.0  0.0  0.0  0.0  0.0  \n",
       "1  0.0  0.0  0.0  1.0  0.0  0.0  0.0  0.0  0.0  \n",
       "2  0.0  0.0  0.0  0.0  0.0  0.0  0.0  0.0  0.0  \n",
       "\n",
       "[3 rows x 48 columns]"
      ]
     },
     "execution_count": 1689,
     "metadata": {},
     "output_type": "execute_result"
    }
   ],
   "source": [
    "pd.DataFrame(preprocess.transform(X_train))[:3]"
   ]
  },
  {
   "cell_type": "markdown",
   "id": "ffbe01c1",
   "metadata": {},
   "source": [
    "## model: `Random Forest Classifier`"
   ]
  },
  {
   "cell_type": "code",
   "execution_count": 1690,
   "id": "e0b851f4",
   "metadata": {},
   "outputs": [],
   "source": [
    "# RandomForest model\n",
    "from sklearn.ensemble import RandomForestClassifier\n",
    "model_RFC = RandomForestClassifier(random_state=7)"
   ]
  },
  {
   "cell_type": "markdown",
   "id": "603dc2cc",
   "metadata": {},
   "source": [
    "### GridSearchCV"
   ]
  },
  {
   "cell_type": "code",
   "execution_count": 1691,
   "id": "93dc035a",
   "metadata": {},
   "outputs": [],
   "source": [
    "from sklearn.model_selection import GridSearchCV"
   ]
  },
  {
   "cell_type": "code",
   "execution_count": 1692,
   "id": "437efec7",
   "metadata": {},
   "outputs": [],
   "source": [
    "params = {\n",
    "    \"max_depth\":[20,21,22,23,24,25,26,27],\n",
    "    \"n_estimators\":[30,40,50,60,70,80,90]\n",
    "}"
   ]
  },
  {
   "cell_type": "code",
   "execution_count": 1693,
   "id": "02cdfabd",
   "metadata": {},
   "outputs": [],
   "source": [
    "grid = GridSearchCV(estimator=model_RFC, param_grid=params, cv=5, scoring=\"f1\")"
   ]
  },
  {
   "cell_type": "code",
   "execution_count": 1694,
   "id": "568cf11c",
   "metadata": {},
   "outputs": [
    {
     "data": {
      "text/html": [
       "<style>#sk-94e58f65-863f-4b92-be6f-e7f40b03a190 {color: black;background-color: white;}#sk-94e58f65-863f-4b92-be6f-e7f40b03a190 pre{padding: 0;}#sk-94e58f65-863f-4b92-be6f-e7f40b03a190 div.sk-toggleable {background-color: white;}#sk-94e58f65-863f-4b92-be6f-e7f40b03a190 label.sk-toggleable__label {cursor: pointer;display: block;width: 100%;margin-bottom: 0;padding: 0.3em;box-sizing: border-box;text-align: center;}#sk-94e58f65-863f-4b92-be6f-e7f40b03a190 label.sk-toggleable__label-arrow:before {content: \"▸\";float: left;margin-right: 0.25em;color: #696969;}#sk-94e58f65-863f-4b92-be6f-e7f40b03a190 label.sk-toggleable__label-arrow:hover:before {color: black;}#sk-94e58f65-863f-4b92-be6f-e7f40b03a190 div.sk-estimator:hover label.sk-toggleable__label-arrow:before {color: black;}#sk-94e58f65-863f-4b92-be6f-e7f40b03a190 div.sk-toggleable__content {max-height: 0;max-width: 0;overflow: hidden;text-align: left;background-color: #f0f8ff;}#sk-94e58f65-863f-4b92-be6f-e7f40b03a190 div.sk-toggleable__content pre {margin: 0.2em;color: black;border-radius: 0.25em;background-color: #f0f8ff;}#sk-94e58f65-863f-4b92-be6f-e7f40b03a190 input.sk-toggleable__control:checked~div.sk-toggleable__content {max-height: 200px;max-width: 100%;overflow: auto;}#sk-94e58f65-863f-4b92-be6f-e7f40b03a190 input.sk-toggleable__control:checked~label.sk-toggleable__label-arrow:before {content: \"▾\";}#sk-94e58f65-863f-4b92-be6f-e7f40b03a190 div.sk-estimator input.sk-toggleable__control:checked~label.sk-toggleable__label {background-color: #d4ebff;}#sk-94e58f65-863f-4b92-be6f-e7f40b03a190 div.sk-label input.sk-toggleable__control:checked~label.sk-toggleable__label {background-color: #d4ebff;}#sk-94e58f65-863f-4b92-be6f-e7f40b03a190 input.sk-hidden--visually {border: 0;clip: rect(1px 1px 1px 1px);clip: rect(1px, 1px, 1px, 1px);height: 1px;margin: -1px;overflow: hidden;padding: 0;position: absolute;width: 1px;}#sk-94e58f65-863f-4b92-be6f-e7f40b03a190 div.sk-estimator {font-family: monospace;background-color: #f0f8ff;border: 1px dotted black;border-radius: 0.25em;box-sizing: border-box;margin-bottom: 0.5em;}#sk-94e58f65-863f-4b92-be6f-e7f40b03a190 div.sk-estimator:hover {background-color: #d4ebff;}#sk-94e58f65-863f-4b92-be6f-e7f40b03a190 div.sk-parallel-item::after {content: \"\";width: 100%;border-bottom: 1px solid gray;flex-grow: 1;}#sk-94e58f65-863f-4b92-be6f-e7f40b03a190 div.sk-label:hover label.sk-toggleable__label {background-color: #d4ebff;}#sk-94e58f65-863f-4b92-be6f-e7f40b03a190 div.sk-serial::before {content: \"\";position: absolute;border-left: 1px solid gray;box-sizing: border-box;top: 2em;bottom: 0;left: 50%;}#sk-94e58f65-863f-4b92-be6f-e7f40b03a190 div.sk-serial {display: flex;flex-direction: column;align-items: center;background-color: white;padding-right: 0.2em;padding-left: 0.2em;}#sk-94e58f65-863f-4b92-be6f-e7f40b03a190 div.sk-item {z-index: 1;}#sk-94e58f65-863f-4b92-be6f-e7f40b03a190 div.sk-parallel {display: flex;align-items: stretch;justify-content: center;background-color: white;}#sk-94e58f65-863f-4b92-be6f-e7f40b03a190 div.sk-parallel::before {content: \"\";position: absolute;border-left: 1px solid gray;box-sizing: border-box;top: 2em;bottom: 0;left: 50%;}#sk-94e58f65-863f-4b92-be6f-e7f40b03a190 div.sk-parallel-item {display: flex;flex-direction: column;position: relative;background-color: white;}#sk-94e58f65-863f-4b92-be6f-e7f40b03a190 div.sk-parallel-item:first-child::after {align-self: flex-end;width: 50%;}#sk-94e58f65-863f-4b92-be6f-e7f40b03a190 div.sk-parallel-item:last-child::after {align-self: flex-start;width: 50%;}#sk-94e58f65-863f-4b92-be6f-e7f40b03a190 div.sk-parallel-item:only-child::after {width: 0;}#sk-94e58f65-863f-4b92-be6f-e7f40b03a190 div.sk-dashed-wrapped {border: 1px dashed gray;margin: 0 0.4em 0.5em 0.4em;box-sizing: border-box;padding-bottom: 0.4em;background-color: white;position: relative;}#sk-94e58f65-863f-4b92-be6f-e7f40b03a190 div.sk-label label {font-family: monospace;font-weight: bold;background-color: white;display: inline-block;line-height: 1.2em;}#sk-94e58f65-863f-4b92-be6f-e7f40b03a190 div.sk-label-container {position: relative;z-index: 2;text-align: center;}#sk-94e58f65-863f-4b92-be6f-e7f40b03a190 div.sk-container {/* jupyter's `normalize.less` sets `[hidden] { display: none; }` but bootstrap.min.css set `[hidden] { display: none !important; }` so we also need the `!important` here to be able to override the default hidden behavior on the sphinx rendered scikit-learn.org. See: https://github.com/scikit-learn/scikit-learn/issues/21755 */display: inline-block !important;position: relative;}#sk-94e58f65-863f-4b92-be6f-e7f40b03a190 div.sk-text-repr-fallback {display: none;}</style><div id=\"sk-94e58f65-863f-4b92-be6f-e7f40b03a190\" class=\"sk-top-container\"><div class=\"sk-text-repr-fallback\"><pre>GridSearchCV(cv=5, estimator=RandomForestClassifier(random_state=7),\n",
       "             param_grid={&#x27;max_depth&#x27;: [20, 21, 22, 23, 24, 25, 26, 27],\n",
       "                         &#x27;n_estimators&#x27;: [30, 40, 50, 60, 70, 80, 90]},\n",
       "             scoring=&#x27;f1&#x27;)</pre><b>Please rerun this cell to show the HTML repr or trust the notebook.</b></div><div class=\"sk-container\" hidden><div class=\"sk-item sk-dashed-wrapped\"><div class=\"sk-label-container\"><div class=\"sk-label sk-toggleable\"><input class=\"sk-toggleable__control sk-hidden--visually\" id=\"551988e9-2d5a-4848-8ae0-842cafec44c6\" type=\"checkbox\" ><label for=\"551988e9-2d5a-4848-8ae0-842cafec44c6\" class=\"sk-toggleable__label sk-toggleable__label-arrow\">GridSearchCV</label><div class=\"sk-toggleable__content\"><pre>GridSearchCV(cv=5, estimator=RandomForestClassifier(random_state=7),\n",
       "             param_grid={&#x27;max_depth&#x27;: [20, 21, 22, 23, 24, 25, 26, 27],\n",
       "                         &#x27;n_estimators&#x27;: [30, 40, 50, 60, 70, 80, 90]},\n",
       "             scoring=&#x27;f1&#x27;)</pre></div></div></div><div class=\"sk-parallel\"><div class=\"sk-parallel-item\"><div class=\"sk-item\"><div class=\"sk-serial\"><div class=\"sk-item\"><div class=\"sk-estimator sk-toggleable\"><input class=\"sk-toggleable__control sk-hidden--visually\" id=\"79d63a58-5439-4bf0-b197-161febed97ae\" type=\"checkbox\" ><label for=\"79d63a58-5439-4bf0-b197-161febed97ae\" class=\"sk-toggleable__label sk-toggleable__label-arrow\">RandomForestClassifier</label><div class=\"sk-toggleable__content\"><pre>RandomForestClassifier(random_state=7)</pre></div></div></div></div></div></div></div></div></div></div>"
      ],
      "text/plain": [
       "GridSearchCV(cv=5, estimator=RandomForestClassifier(random_state=7),\n",
       "             param_grid={'max_depth': [20, 21, 22, 23, 24, 25, 26, 27],\n",
       "                         'n_estimators': [30, 40, 50, 60, 70, 80, 90]},\n",
       "             scoring='f1')"
      ]
     },
     "execution_count": 1694,
     "metadata": {},
     "output_type": "execute_result"
    }
   ],
   "source": [
    "grid.fit(preprocess.transform(X_train), y_train)"
   ]
  },
  {
   "cell_type": "code",
   "execution_count": 1695,
   "id": "742abe1b",
   "metadata": {},
   "outputs": [
    {
     "data": {
      "text/plain": [
       "{'max_depth': 26, 'n_estimators': 50}"
      ]
     },
     "execution_count": 1695,
     "metadata": {},
     "output_type": "execute_result"
    }
   ],
   "source": [
    "grid.best_params_"
   ]
  },
  {
   "cell_type": "code",
   "execution_count": 1696,
   "id": "7104a3c9",
   "metadata": {},
   "outputs": [
    {
     "data": {
      "text/plain": [
       "0.8460630121409285"
      ]
     },
     "execution_count": 1696,
     "metadata": {},
     "output_type": "execute_result"
    }
   ],
   "source": [
    "grid.best_score_"
   ]
  },
  {
   "cell_type": "code",
   "execution_count": 1697,
   "id": "0c625fc7",
   "metadata": {},
   "outputs": [
    {
     "data": {
      "text/plain": [
       "array([[ 73,  67],\n",
       "       [ 59, 242]], dtype=int64)"
      ]
     },
     "execution_count": 1697,
     "metadata": {},
     "output_type": "execute_result"
    }
   ],
   "source": [
    "from sklearn.metrics import confusion_matrix, ConfusionMatrixDisplay\n",
    "confusion_matrix(y_test, grid.predict(preprocess.transform(X_test)))"
   ]
  },
  {
   "cell_type": "code",
   "execution_count": 1698,
   "id": "1014bdc4",
   "metadata": {},
   "outputs": [
    {
     "name": "stdout",
     "output_type": "stream",
     "text": [
      "              precision    recall  f1-score   support\n",
      "\n",
      "           0       0.55      0.52      0.54       140\n",
      "           1       0.78      0.80      0.79       301\n",
      "\n",
      "    accuracy                           0.71       441\n",
      "   macro avg       0.67      0.66      0.67       441\n",
      "weighted avg       0.71      0.71      0.71       441\n",
      "\n"
     ]
    }
   ],
   "source": [
    "from sklearn.metrics import classification_report\n",
    "print(classification_report(y_test, grid.predict(preprocess.transform(X_test))))"
   ]
  },
  {
   "cell_type": "markdown",
   "id": "e17ccf5a",
   "metadata": {},
   "source": [
    "## model: `GBDT`"
   ]
  },
  {
   "cell_type": "code",
   "execution_count": 1709,
   "id": "f45c8ec8",
   "metadata": {},
   "outputs": [],
   "source": [
    "# GBDT model\n",
    "from sklearn.ensemble import GradientBoostingClassifier\n",
    "model_GBDT = GradientBoostingClassifier(random_state=7)"
   ]
  },
  {
   "cell_type": "code",
   "execution_count": 1710,
   "id": "580973de",
   "metadata": {},
   "outputs": [],
   "source": [
    "params = {\n",
    "    \"max_depth\":[14,15,16,17],\n",
    "    \"n_estimators\":[100,110,120,130,140]\n",
    "}"
   ]
  },
  {
   "cell_type": "code",
   "execution_count": 1711,
   "id": "cd358a80",
   "metadata": {},
   "outputs": [],
   "source": [
    "grid = GridSearchCV(estimator=model_GBDT, param_grid=params, cv=5, scoring=\"f1\", n_jobs=3)"
   ]
  },
  {
   "cell_type": "code",
   "execution_count": 1712,
   "id": "67b2260c",
   "metadata": {},
   "outputs": [
    {
     "data": {
      "text/html": [
       "<style>#sk-e55feed9-4ae9-44b4-8c32-7e07de807790 {color: black;background-color: white;}#sk-e55feed9-4ae9-44b4-8c32-7e07de807790 pre{padding: 0;}#sk-e55feed9-4ae9-44b4-8c32-7e07de807790 div.sk-toggleable {background-color: white;}#sk-e55feed9-4ae9-44b4-8c32-7e07de807790 label.sk-toggleable__label {cursor: pointer;display: block;width: 100%;margin-bottom: 0;padding: 0.3em;box-sizing: border-box;text-align: center;}#sk-e55feed9-4ae9-44b4-8c32-7e07de807790 label.sk-toggleable__label-arrow:before {content: \"▸\";float: left;margin-right: 0.25em;color: #696969;}#sk-e55feed9-4ae9-44b4-8c32-7e07de807790 label.sk-toggleable__label-arrow:hover:before {color: black;}#sk-e55feed9-4ae9-44b4-8c32-7e07de807790 div.sk-estimator:hover label.sk-toggleable__label-arrow:before {color: black;}#sk-e55feed9-4ae9-44b4-8c32-7e07de807790 div.sk-toggleable__content {max-height: 0;max-width: 0;overflow: hidden;text-align: left;background-color: #f0f8ff;}#sk-e55feed9-4ae9-44b4-8c32-7e07de807790 div.sk-toggleable__content pre {margin: 0.2em;color: black;border-radius: 0.25em;background-color: #f0f8ff;}#sk-e55feed9-4ae9-44b4-8c32-7e07de807790 input.sk-toggleable__control:checked~div.sk-toggleable__content {max-height: 200px;max-width: 100%;overflow: auto;}#sk-e55feed9-4ae9-44b4-8c32-7e07de807790 input.sk-toggleable__control:checked~label.sk-toggleable__label-arrow:before {content: \"▾\";}#sk-e55feed9-4ae9-44b4-8c32-7e07de807790 div.sk-estimator input.sk-toggleable__control:checked~label.sk-toggleable__label {background-color: #d4ebff;}#sk-e55feed9-4ae9-44b4-8c32-7e07de807790 div.sk-label input.sk-toggleable__control:checked~label.sk-toggleable__label {background-color: #d4ebff;}#sk-e55feed9-4ae9-44b4-8c32-7e07de807790 input.sk-hidden--visually {border: 0;clip: rect(1px 1px 1px 1px);clip: rect(1px, 1px, 1px, 1px);height: 1px;margin: -1px;overflow: hidden;padding: 0;position: absolute;width: 1px;}#sk-e55feed9-4ae9-44b4-8c32-7e07de807790 div.sk-estimator {font-family: monospace;background-color: #f0f8ff;border: 1px dotted black;border-radius: 0.25em;box-sizing: border-box;margin-bottom: 0.5em;}#sk-e55feed9-4ae9-44b4-8c32-7e07de807790 div.sk-estimator:hover {background-color: #d4ebff;}#sk-e55feed9-4ae9-44b4-8c32-7e07de807790 div.sk-parallel-item::after {content: \"\";width: 100%;border-bottom: 1px solid gray;flex-grow: 1;}#sk-e55feed9-4ae9-44b4-8c32-7e07de807790 div.sk-label:hover label.sk-toggleable__label {background-color: #d4ebff;}#sk-e55feed9-4ae9-44b4-8c32-7e07de807790 div.sk-serial::before {content: \"\";position: absolute;border-left: 1px solid gray;box-sizing: border-box;top: 2em;bottom: 0;left: 50%;}#sk-e55feed9-4ae9-44b4-8c32-7e07de807790 div.sk-serial {display: flex;flex-direction: column;align-items: center;background-color: white;padding-right: 0.2em;padding-left: 0.2em;}#sk-e55feed9-4ae9-44b4-8c32-7e07de807790 div.sk-item {z-index: 1;}#sk-e55feed9-4ae9-44b4-8c32-7e07de807790 div.sk-parallel {display: flex;align-items: stretch;justify-content: center;background-color: white;}#sk-e55feed9-4ae9-44b4-8c32-7e07de807790 div.sk-parallel::before {content: \"\";position: absolute;border-left: 1px solid gray;box-sizing: border-box;top: 2em;bottom: 0;left: 50%;}#sk-e55feed9-4ae9-44b4-8c32-7e07de807790 div.sk-parallel-item {display: flex;flex-direction: column;position: relative;background-color: white;}#sk-e55feed9-4ae9-44b4-8c32-7e07de807790 div.sk-parallel-item:first-child::after {align-self: flex-end;width: 50%;}#sk-e55feed9-4ae9-44b4-8c32-7e07de807790 div.sk-parallel-item:last-child::after {align-self: flex-start;width: 50%;}#sk-e55feed9-4ae9-44b4-8c32-7e07de807790 div.sk-parallel-item:only-child::after {width: 0;}#sk-e55feed9-4ae9-44b4-8c32-7e07de807790 div.sk-dashed-wrapped {border: 1px dashed gray;margin: 0 0.4em 0.5em 0.4em;box-sizing: border-box;padding-bottom: 0.4em;background-color: white;position: relative;}#sk-e55feed9-4ae9-44b4-8c32-7e07de807790 div.sk-label label {font-family: monospace;font-weight: bold;background-color: white;display: inline-block;line-height: 1.2em;}#sk-e55feed9-4ae9-44b4-8c32-7e07de807790 div.sk-label-container {position: relative;z-index: 2;text-align: center;}#sk-e55feed9-4ae9-44b4-8c32-7e07de807790 div.sk-container {/* jupyter's `normalize.less` sets `[hidden] { display: none; }` but bootstrap.min.css set `[hidden] { display: none !important; }` so we also need the `!important` here to be able to override the default hidden behavior on the sphinx rendered scikit-learn.org. See: https://github.com/scikit-learn/scikit-learn/issues/21755 */display: inline-block !important;position: relative;}#sk-e55feed9-4ae9-44b4-8c32-7e07de807790 div.sk-text-repr-fallback {display: none;}</style><div id=\"sk-e55feed9-4ae9-44b4-8c32-7e07de807790\" class=\"sk-top-container\"><div class=\"sk-text-repr-fallback\"><pre>GridSearchCV(cv=5, estimator=GradientBoostingClassifier(random_state=7),\n",
       "             n_jobs=3,\n",
       "             param_grid={&#x27;max_depth&#x27;: [14, 15, 16, 17],\n",
       "                         &#x27;n_estimators&#x27;: [100, 110, 120, 130, 140]},\n",
       "             scoring=&#x27;f1&#x27;)</pre><b>Please rerun this cell to show the HTML repr or trust the notebook.</b></div><div class=\"sk-container\" hidden><div class=\"sk-item sk-dashed-wrapped\"><div class=\"sk-label-container\"><div class=\"sk-label sk-toggleable\"><input class=\"sk-toggleable__control sk-hidden--visually\" id=\"fa795ffc-bbfe-4bc2-8892-c3792f4590cd\" type=\"checkbox\" ><label for=\"fa795ffc-bbfe-4bc2-8892-c3792f4590cd\" class=\"sk-toggleable__label sk-toggleable__label-arrow\">GridSearchCV</label><div class=\"sk-toggleable__content\"><pre>GridSearchCV(cv=5, estimator=GradientBoostingClassifier(random_state=7),\n",
       "             n_jobs=3,\n",
       "             param_grid={&#x27;max_depth&#x27;: [14, 15, 16, 17],\n",
       "                         &#x27;n_estimators&#x27;: [100, 110, 120, 130, 140]},\n",
       "             scoring=&#x27;f1&#x27;)</pre></div></div></div><div class=\"sk-parallel\"><div class=\"sk-parallel-item\"><div class=\"sk-item\"><div class=\"sk-serial\"><div class=\"sk-item\"><div class=\"sk-estimator sk-toggleable\"><input class=\"sk-toggleable__control sk-hidden--visually\" id=\"47276766-146a-4c09-8b5c-66d1dc3d0746\" type=\"checkbox\" ><label for=\"47276766-146a-4c09-8b5c-66d1dc3d0746\" class=\"sk-toggleable__label sk-toggleable__label-arrow\">GradientBoostingClassifier</label><div class=\"sk-toggleable__content\"><pre>GradientBoostingClassifier(random_state=7)</pre></div></div></div></div></div></div></div></div></div></div>"
      ],
      "text/plain": [
       "GridSearchCV(cv=5, estimator=GradientBoostingClassifier(random_state=7),\n",
       "             n_jobs=3,\n",
       "             param_grid={'max_depth': [14, 15, 16, 17],\n",
       "                         'n_estimators': [100, 110, 120, 130, 140]},\n",
       "             scoring='f1')"
      ]
     },
     "execution_count": 1712,
     "metadata": {},
     "output_type": "execute_result"
    }
   ],
   "source": [
    "grid.fit(preprocess.transform(X_train), y_train)"
   ]
  },
  {
   "cell_type": "code",
   "execution_count": 1713,
   "id": "ac180676",
   "metadata": {},
   "outputs": [
    {
     "data": {
      "text/plain": [
       "{'max_depth': 16, 'n_estimators': 130}"
      ]
     },
     "execution_count": 1713,
     "metadata": {},
     "output_type": "execute_result"
    }
   ],
   "source": [
    "grid.best_params_"
   ]
  },
  {
   "cell_type": "code",
   "execution_count": 1714,
   "id": "1628fb58",
   "metadata": {},
   "outputs": [
    {
     "data": {
      "text/plain": [
       "0.8448479730844081"
      ]
     },
     "execution_count": 1714,
     "metadata": {},
     "output_type": "execute_result"
    }
   ],
   "source": [
    "grid.best_score_"
   ]
  },
  {
   "cell_type": "code",
   "execution_count": 1715,
   "id": "9c665c57",
   "metadata": {},
   "outputs": [
    {
     "data": {
      "text/plain": [
       "array([[ 58,  82],\n",
       "       [ 47, 254]], dtype=int64)"
      ]
     },
     "execution_count": 1715,
     "metadata": {},
     "output_type": "execute_result"
    }
   ],
   "source": [
    "from sklearn.metrics import confusion_matrix, ConfusionMatrixDisplay\n",
    "confusion_matrix(y_test, grid.predict(preprocess.transform(X_test)))"
   ]
  },
  {
   "cell_type": "code",
   "execution_count": 1716,
   "id": "ded9e43f",
   "metadata": {},
   "outputs": [
    {
     "name": "stdout",
     "output_type": "stream",
     "text": [
      "              precision    recall  f1-score   support\n",
      "\n",
      "           0       0.55      0.41      0.47       140\n",
      "           1       0.76      0.84      0.80       301\n",
      "\n",
      "    accuracy                           0.71       441\n",
      "   macro avg       0.65      0.63      0.64       441\n",
      "weighted avg       0.69      0.71      0.69       441\n",
      "\n"
     ]
    }
   ],
   "source": [
    "from sklearn.metrics import classification_report\n",
    "print(classification_report(y_test, grid.predict(preprocess.transform(X_test))))"
   ]
  },
  {
   "cell_type": "markdown",
   "id": "495f52d6",
   "metadata": {},
   "source": [
    "## model: `XGBoost`"
   ]
  },
  {
   "cell_type": "code",
   "execution_count": 1717,
   "id": "c06c6a0c",
   "metadata": {},
   "outputs": [],
   "source": [
    "# !pip install xgboost"
   ]
  },
  {
   "cell_type": "code",
   "execution_count": 1718,
   "id": "0bc542d0",
   "metadata": {},
   "outputs": [],
   "source": [
    "# XGBoost\n",
    "from xgboost import XGBClassifier"
   ]
  },
  {
   "cell_type": "code",
   "execution_count": 1719,
   "id": "b5adf0f5",
   "metadata": {},
   "outputs": [],
   "source": [
    "model_xgb = XGBClassifier()"
   ]
  },
  {
   "cell_type": "code",
   "execution_count": 1720,
   "id": "033733bc",
   "metadata": {},
   "outputs": [],
   "source": [
    "params = {\n",
    "        'learning_rate': [0.5],\n",
    "        'subsample': [1.0],\n",
    "        'colsample_bytree': [1.0],\n",
    "        'max_depth': [9,10,11,12,13,14],\n",
    "        \"n_estimators\":[130,140,150,160,170]\n",
    "        }"
   ]
  },
  {
   "cell_type": "code",
   "execution_count": 1721,
   "id": "ab6f70ee",
   "metadata": {},
   "outputs": [],
   "source": [
    "grid = GridSearchCV(estimator=model_xgb, param_grid=params, cv=5, scoring=\"f1\", n_jobs=3)"
   ]
  },
  {
   "cell_type": "code",
   "execution_count": 1722,
   "id": "bf00f54d",
   "metadata": {},
   "outputs": [
    {
     "data": {
      "text/html": [
       "<style>#sk-5c615434-f79d-4669-bf02-ce9d6a8f0d4c {color: black;background-color: white;}#sk-5c615434-f79d-4669-bf02-ce9d6a8f0d4c pre{padding: 0;}#sk-5c615434-f79d-4669-bf02-ce9d6a8f0d4c div.sk-toggleable {background-color: white;}#sk-5c615434-f79d-4669-bf02-ce9d6a8f0d4c label.sk-toggleable__label {cursor: pointer;display: block;width: 100%;margin-bottom: 0;padding: 0.3em;box-sizing: border-box;text-align: center;}#sk-5c615434-f79d-4669-bf02-ce9d6a8f0d4c label.sk-toggleable__label-arrow:before {content: \"▸\";float: left;margin-right: 0.25em;color: #696969;}#sk-5c615434-f79d-4669-bf02-ce9d6a8f0d4c label.sk-toggleable__label-arrow:hover:before {color: black;}#sk-5c615434-f79d-4669-bf02-ce9d6a8f0d4c div.sk-estimator:hover label.sk-toggleable__label-arrow:before {color: black;}#sk-5c615434-f79d-4669-bf02-ce9d6a8f0d4c div.sk-toggleable__content {max-height: 0;max-width: 0;overflow: hidden;text-align: left;background-color: #f0f8ff;}#sk-5c615434-f79d-4669-bf02-ce9d6a8f0d4c div.sk-toggleable__content pre {margin: 0.2em;color: black;border-radius: 0.25em;background-color: #f0f8ff;}#sk-5c615434-f79d-4669-bf02-ce9d6a8f0d4c input.sk-toggleable__control:checked~div.sk-toggleable__content {max-height: 200px;max-width: 100%;overflow: auto;}#sk-5c615434-f79d-4669-bf02-ce9d6a8f0d4c input.sk-toggleable__control:checked~label.sk-toggleable__label-arrow:before {content: \"▾\";}#sk-5c615434-f79d-4669-bf02-ce9d6a8f0d4c div.sk-estimator input.sk-toggleable__control:checked~label.sk-toggleable__label {background-color: #d4ebff;}#sk-5c615434-f79d-4669-bf02-ce9d6a8f0d4c div.sk-label input.sk-toggleable__control:checked~label.sk-toggleable__label {background-color: #d4ebff;}#sk-5c615434-f79d-4669-bf02-ce9d6a8f0d4c input.sk-hidden--visually {border: 0;clip: rect(1px 1px 1px 1px);clip: rect(1px, 1px, 1px, 1px);height: 1px;margin: -1px;overflow: hidden;padding: 0;position: absolute;width: 1px;}#sk-5c615434-f79d-4669-bf02-ce9d6a8f0d4c div.sk-estimator {font-family: monospace;background-color: #f0f8ff;border: 1px dotted black;border-radius: 0.25em;box-sizing: border-box;margin-bottom: 0.5em;}#sk-5c615434-f79d-4669-bf02-ce9d6a8f0d4c div.sk-estimator:hover {background-color: #d4ebff;}#sk-5c615434-f79d-4669-bf02-ce9d6a8f0d4c div.sk-parallel-item::after {content: \"\";width: 100%;border-bottom: 1px solid gray;flex-grow: 1;}#sk-5c615434-f79d-4669-bf02-ce9d6a8f0d4c div.sk-label:hover label.sk-toggleable__label {background-color: #d4ebff;}#sk-5c615434-f79d-4669-bf02-ce9d6a8f0d4c div.sk-serial::before {content: \"\";position: absolute;border-left: 1px solid gray;box-sizing: border-box;top: 2em;bottom: 0;left: 50%;}#sk-5c615434-f79d-4669-bf02-ce9d6a8f0d4c div.sk-serial {display: flex;flex-direction: column;align-items: center;background-color: white;padding-right: 0.2em;padding-left: 0.2em;}#sk-5c615434-f79d-4669-bf02-ce9d6a8f0d4c div.sk-item {z-index: 1;}#sk-5c615434-f79d-4669-bf02-ce9d6a8f0d4c div.sk-parallel {display: flex;align-items: stretch;justify-content: center;background-color: white;}#sk-5c615434-f79d-4669-bf02-ce9d6a8f0d4c div.sk-parallel::before {content: \"\";position: absolute;border-left: 1px solid gray;box-sizing: border-box;top: 2em;bottom: 0;left: 50%;}#sk-5c615434-f79d-4669-bf02-ce9d6a8f0d4c div.sk-parallel-item {display: flex;flex-direction: column;position: relative;background-color: white;}#sk-5c615434-f79d-4669-bf02-ce9d6a8f0d4c div.sk-parallel-item:first-child::after {align-self: flex-end;width: 50%;}#sk-5c615434-f79d-4669-bf02-ce9d6a8f0d4c div.sk-parallel-item:last-child::after {align-self: flex-start;width: 50%;}#sk-5c615434-f79d-4669-bf02-ce9d6a8f0d4c div.sk-parallel-item:only-child::after {width: 0;}#sk-5c615434-f79d-4669-bf02-ce9d6a8f0d4c div.sk-dashed-wrapped {border: 1px dashed gray;margin: 0 0.4em 0.5em 0.4em;box-sizing: border-box;padding-bottom: 0.4em;background-color: white;position: relative;}#sk-5c615434-f79d-4669-bf02-ce9d6a8f0d4c div.sk-label label {font-family: monospace;font-weight: bold;background-color: white;display: inline-block;line-height: 1.2em;}#sk-5c615434-f79d-4669-bf02-ce9d6a8f0d4c div.sk-label-container {position: relative;z-index: 2;text-align: center;}#sk-5c615434-f79d-4669-bf02-ce9d6a8f0d4c div.sk-container {/* jupyter's `normalize.less` sets `[hidden] { display: none; }` but bootstrap.min.css set `[hidden] { display: none !important; }` so we also need the `!important` here to be able to override the default hidden behavior on the sphinx rendered scikit-learn.org. See: https://github.com/scikit-learn/scikit-learn/issues/21755 */display: inline-block !important;position: relative;}#sk-5c615434-f79d-4669-bf02-ce9d6a8f0d4c div.sk-text-repr-fallback {display: none;}</style><div id=\"sk-5c615434-f79d-4669-bf02-ce9d6a8f0d4c\" class=\"sk-top-container\"><div class=\"sk-text-repr-fallback\"><pre>GridSearchCV(cv=5,\n",
       "             estimator=XGBClassifier(base_score=None, booster=None,\n",
       "                                     callbacks=None, colsample_bylevel=None,\n",
       "                                     colsample_bynode=None,\n",
       "                                     colsample_bytree=None,\n",
       "                                     early_stopping_rounds=None,\n",
       "                                     enable_categorical=False, eval_metric=None,\n",
       "                                     feature_types=None, gamma=None,\n",
       "                                     gpu_id=None, grow_policy=None,\n",
       "                                     importance_type=None,\n",
       "                                     interaction_constraints=None,\n",
       "                                     learning_rate=None,...\n",
       "                                     max_delta_step=None, max_depth=None,\n",
       "                                     max_leaves=None, min_child_weight=None,\n",
       "                                     missing=nan, monotone_constraints=None,\n",
       "                                     n_estimators=100, n_jobs=None,\n",
       "                                     num_parallel_tree=None, predictor=None,\n",
       "                                     random_state=None, ...),\n",
       "             n_jobs=3,\n",
       "             param_grid={&#x27;colsample_bytree&#x27;: [1.0], &#x27;learning_rate&#x27;: [0.5],\n",
       "                         &#x27;max_depth&#x27;: [9, 10, 11, 12, 13, 14],\n",
       "                         &#x27;n_estimators&#x27;: [130, 140, 150, 160, 170],\n",
       "                         &#x27;subsample&#x27;: [1.0]},\n",
       "             scoring=&#x27;f1&#x27;)</pre><b>Please rerun this cell to show the HTML repr or trust the notebook.</b></div><div class=\"sk-container\" hidden><div class=\"sk-item sk-dashed-wrapped\"><div class=\"sk-label-container\"><div class=\"sk-label sk-toggleable\"><input class=\"sk-toggleable__control sk-hidden--visually\" id=\"80c8d448-35bf-4d00-9adc-4e648084fc26\" type=\"checkbox\" ><label for=\"80c8d448-35bf-4d00-9adc-4e648084fc26\" class=\"sk-toggleable__label sk-toggleable__label-arrow\">GridSearchCV</label><div class=\"sk-toggleable__content\"><pre>GridSearchCV(cv=5,\n",
       "             estimator=XGBClassifier(base_score=None, booster=None,\n",
       "                                     callbacks=None, colsample_bylevel=None,\n",
       "                                     colsample_bynode=None,\n",
       "                                     colsample_bytree=None,\n",
       "                                     early_stopping_rounds=None,\n",
       "                                     enable_categorical=False, eval_metric=None,\n",
       "                                     feature_types=None, gamma=None,\n",
       "                                     gpu_id=None, grow_policy=None,\n",
       "                                     importance_type=None,\n",
       "                                     interaction_constraints=None,\n",
       "                                     learning_rate=None,...\n",
       "                                     max_delta_step=None, max_depth=None,\n",
       "                                     max_leaves=None, min_child_weight=None,\n",
       "                                     missing=nan, monotone_constraints=None,\n",
       "                                     n_estimators=100, n_jobs=None,\n",
       "                                     num_parallel_tree=None, predictor=None,\n",
       "                                     random_state=None, ...),\n",
       "             n_jobs=3,\n",
       "             param_grid={&#x27;colsample_bytree&#x27;: [1.0], &#x27;learning_rate&#x27;: [0.5],\n",
       "                         &#x27;max_depth&#x27;: [9, 10, 11, 12, 13, 14],\n",
       "                         &#x27;n_estimators&#x27;: [130, 140, 150, 160, 170],\n",
       "                         &#x27;subsample&#x27;: [1.0]},\n",
       "             scoring=&#x27;f1&#x27;)</pre></div></div></div><div class=\"sk-parallel\"><div class=\"sk-parallel-item\"><div class=\"sk-item\"><div class=\"sk-serial\"><div class=\"sk-item\"><div class=\"sk-estimator sk-toggleable\"><input class=\"sk-toggleable__control sk-hidden--visually\" id=\"706866e3-de81-47d1-b5d6-5f759b7343ce\" type=\"checkbox\" ><label for=\"706866e3-de81-47d1-b5d6-5f759b7343ce\" class=\"sk-toggleable__label sk-toggleable__label-arrow\">XGBClassifier</label><div class=\"sk-toggleable__content\"><pre>XGBClassifier(base_score=None, booster=None, callbacks=None,\n",
       "              colsample_bylevel=None, colsample_bynode=None,\n",
       "              colsample_bytree=None, early_stopping_rounds=None,\n",
       "              enable_categorical=False, eval_metric=None, feature_types=None,\n",
       "              gamma=None, gpu_id=None, grow_policy=None, importance_type=None,\n",
       "              interaction_constraints=None, learning_rate=None, max_bin=None,\n",
       "              max_cat_threshold=None, max_cat_to_onehot=None,\n",
       "              max_delta_step=None, max_depth=None, max_leaves=None,\n",
       "              min_child_weight=None, missing=nan, monotone_constraints=None,\n",
       "              n_estimators=100, n_jobs=None, num_parallel_tree=None,\n",
       "              predictor=None, random_state=None, ...)</pre></div></div></div></div></div></div></div></div></div></div>"
      ],
      "text/plain": [
       "GridSearchCV(cv=5,\n",
       "             estimator=XGBClassifier(base_score=None, booster=None,\n",
       "                                     callbacks=None, colsample_bylevel=None,\n",
       "                                     colsample_bynode=None,\n",
       "                                     colsample_bytree=None,\n",
       "                                     early_stopping_rounds=None,\n",
       "                                     enable_categorical=False, eval_metric=None,\n",
       "                                     feature_types=None, gamma=None,\n",
       "                                     gpu_id=None, grow_policy=None,\n",
       "                                     importance_type=None,\n",
       "                                     interaction_constraints=None,\n",
       "                                     learning_rate=None,...\n",
       "                                     max_delta_step=None, max_depth=None,\n",
       "                                     max_leaves=None, min_child_weight=None,\n",
       "                                     missing=nan, monotone_constraints=None,\n",
       "                                     n_estimators=100, n_jobs=None,\n",
       "                                     num_parallel_tree=None, predictor=None,\n",
       "                                     random_state=None, ...),\n",
       "             n_jobs=3,\n",
       "             param_grid={'colsample_bytree': [1.0], 'learning_rate': [0.5],\n",
       "                         'max_depth': [9, 10, 11, 12, 13, 14],\n",
       "                         'n_estimators': [130, 140, 150, 160, 170],\n",
       "                         'subsample': [1.0]},\n",
       "             scoring='f1')"
      ]
     },
     "execution_count": 1722,
     "metadata": {},
     "output_type": "execute_result"
    }
   ],
   "source": [
    "grid.fit(preprocess.transform(X_train), y_train)"
   ]
  },
  {
   "cell_type": "code",
   "execution_count": 1723,
   "id": "e8b78fcf",
   "metadata": {},
   "outputs": [
    {
     "data": {
      "text/plain": [
       "{'colsample_bytree': 1.0,\n",
       " 'learning_rate': 0.5,\n",
       " 'max_depth': 11,\n",
       " 'n_estimators': 140,\n",
       " 'subsample': 1.0}"
      ]
     },
     "execution_count": 1723,
     "metadata": {},
     "output_type": "execute_result"
    }
   ],
   "source": [
    "grid.best_params_"
   ]
  },
  {
   "cell_type": "code",
   "execution_count": 1724,
   "id": "c365fca0",
   "metadata": {},
   "outputs": [
    {
     "data": {
      "text/plain": [
       "0.8302533254430633"
      ]
     },
     "execution_count": 1724,
     "metadata": {},
     "output_type": "execute_result"
    }
   ],
   "source": [
    "grid.best_score_"
   ]
  },
  {
   "cell_type": "code",
   "execution_count": 1725,
   "id": "b8df2d44",
   "metadata": {},
   "outputs": [
    {
     "data": {
      "text/plain": [
       "array([[ 62,  78],\n",
       "       [ 67, 234]], dtype=int64)"
      ]
     },
     "execution_count": 1725,
     "metadata": {},
     "output_type": "execute_result"
    }
   ],
   "source": [
    "from sklearn.metrics import confusion_matrix, ConfusionMatrixDisplay\n",
    "confusion_matrix(y_test, grid.predict(preprocess.transform(X_test)))"
   ]
  },
  {
   "cell_type": "code",
   "execution_count": 1726,
   "id": "08d655e3",
   "metadata": {},
   "outputs": [
    {
     "name": "stdout",
     "output_type": "stream",
     "text": [
      "              precision    recall  f1-score   support\n",
      "\n",
      "           0       0.48      0.44      0.46       140\n",
      "           1       0.75      0.78      0.76       301\n",
      "\n",
      "    accuracy                           0.67       441\n",
      "   macro avg       0.62      0.61      0.61       441\n",
      "weighted avg       0.66      0.67      0.67       441\n",
      "\n"
     ]
    }
   ],
   "source": [
    "from sklearn.metrics import classification_report\n",
    "print(classification_report(y_test, grid.predict(preprocess.transform(X_test))))"
   ]
  },
  {
   "cell_type": "markdown",
   "id": "297e0120",
   "metadata": {},
   "source": [
    "## model: `LightGBM`"
   ]
  },
  {
   "cell_type": "code",
   "execution_count": 1727,
   "id": "14f8d92d",
   "metadata": {},
   "outputs": [],
   "source": [
    "# !pip install lightgbm"
   ]
  },
  {
   "cell_type": "code",
   "execution_count": 1728,
   "id": "1ecf769d",
   "metadata": {},
   "outputs": [],
   "source": [
    "from lightgbm import LGBMClassifier"
   ]
  },
  {
   "cell_type": "code",
   "execution_count": 1729,
   "id": "67bfa885",
   "metadata": {},
   "outputs": [],
   "source": [
    "model_lgbm = LGBMClassifier()"
   ]
  },
  {
   "cell_type": "code",
   "execution_count": 1730,
   "id": "4656e026",
   "metadata": {},
   "outputs": [],
   "source": [
    "params = {\n",
    "    'learning_rate': [0.1, 0.5, 0.8],\n",
    "    'boosting_type' : ['gbdt'],\n",
    "    'objective' : ['binary'],\n",
    "    'max_depth' : [10,11,12],\n",
    "    'colsample_bytree' : [0.4,0.5,0.7],\n",
    "    'subsample' : [0.1,0.2,0.3],\n",
    "    'random_state' : [501]\n",
    "    }"
   ]
  },
  {
   "cell_type": "code",
   "execution_count": 1731,
   "id": "cef74efb",
   "metadata": {},
   "outputs": [],
   "source": [
    "grid = GridSearchCV(estimator=model_lgbm, param_grid=params, cv=5, scoring=\"f1\", n_jobs=3)"
   ]
  },
  {
   "cell_type": "code",
   "execution_count": 1732,
   "id": "6342bb48",
   "metadata": {},
   "outputs": [
    {
     "data": {
      "text/html": [
       "<style>#sk-44117cbb-f7bd-438e-8f4b-e14d8a156f23 {color: black;background-color: white;}#sk-44117cbb-f7bd-438e-8f4b-e14d8a156f23 pre{padding: 0;}#sk-44117cbb-f7bd-438e-8f4b-e14d8a156f23 div.sk-toggleable {background-color: white;}#sk-44117cbb-f7bd-438e-8f4b-e14d8a156f23 label.sk-toggleable__label {cursor: pointer;display: block;width: 100%;margin-bottom: 0;padding: 0.3em;box-sizing: border-box;text-align: center;}#sk-44117cbb-f7bd-438e-8f4b-e14d8a156f23 label.sk-toggleable__label-arrow:before {content: \"▸\";float: left;margin-right: 0.25em;color: #696969;}#sk-44117cbb-f7bd-438e-8f4b-e14d8a156f23 label.sk-toggleable__label-arrow:hover:before {color: black;}#sk-44117cbb-f7bd-438e-8f4b-e14d8a156f23 div.sk-estimator:hover label.sk-toggleable__label-arrow:before {color: black;}#sk-44117cbb-f7bd-438e-8f4b-e14d8a156f23 div.sk-toggleable__content {max-height: 0;max-width: 0;overflow: hidden;text-align: left;background-color: #f0f8ff;}#sk-44117cbb-f7bd-438e-8f4b-e14d8a156f23 div.sk-toggleable__content pre {margin: 0.2em;color: black;border-radius: 0.25em;background-color: #f0f8ff;}#sk-44117cbb-f7bd-438e-8f4b-e14d8a156f23 input.sk-toggleable__control:checked~div.sk-toggleable__content {max-height: 200px;max-width: 100%;overflow: auto;}#sk-44117cbb-f7bd-438e-8f4b-e14d8a156f23 input.sk-toggleable__control:checked~label.sk-toggleable__label-arrow:before {content: \"▾\";}#sk-44117cbb-f7bd-438e-8f4b-e14d8a156f23 div.sk-estimator input.sk-toggleable__control:checked~label.sk-toggleable__label {background-color: #d4ebff;}#sk-44117cbb-f7bd-438e-8f4b-e14d8a156f23 div.sk-label input.sk-toggleable__control:checked~label.sk-toggleable__label {background-color: #d4ebff;}#sk-44117cbb-f7bd-438e-8f4b-e14d8a156f23 input.sk-hidden--visually {border: 0;clip: rect(1px 1px 1px 1px);clip: rect(1px, 1px, 1px, 1px);height: 1px;margin: -1px;overflow: hidden;padding: 0;position: absolute;width: 1px;}#sk-44117cbb-f7bd-438e-8f4b-e14d8a156f23 div.sk-estimator {font-family: monospace;background-color: #f0f8ff;border: 1px dotted black;border-radius: 0.25em;box-sizing: border-box;margin-bottom: 0.5em;}#sk-44117cbb-f7bd-438e-8f4b-e14d8a156f23 div.sk-estimator:hover {background-color: #d4ebff;}#sk-44117cbb-f7bd-438e-8f4b-e14d8a156f23 div.sk-parallel-item::after {content: \"\";width: 100%;border-bottom: 1px solid gray;flex-grow: 1;}#sk-44117cbb-f7bd-438e-8f4b-e14d8a156f23 div.sk-label:hover label.sk-toggleable__label {background-color: #d4ebff;}#sk-44117cbb-f7bd-438e-8f4b-e14d8a156f23 div.sk-serial::before {content: \"\";position: absolute;border-left: 1px solid gray;box-sizing: border-box;top: 2em;bottom: 0;left: 50%;}#sk-44117cbb-f7bd-438e-8f4b-e14d8a156f23 div.sk-serial {display: flex;flex-direction: column;align-items: center;background-color: white;padding-right: 0.2em;padding-left: 0.2em;}#sk-44117cbb-f7bd-438e-8f4b-e14d8a156f23 div.sk-item {z-index: 1;}#sk-44117cbb-f7bd-438e-8f4b-e14d8a156f23 div.sk-parallel {display: flex;align-items: stretch;justify-content: center;background-color: white;}#sk-44117cbb-f7bd-438e-8f4b-e14d8a156f23 div.sk-parallel::before {content: \"\";position: absolute;border-left: 1px solid gray;box-sizing: border-box;top: 2em;bottom: 0;left: 50%;}#sk-44117cbb-f7bd-438e-8f4b-e14d8a156f23 div.sk-parallel-item {display: flex;flex-direction: column;position: relative;background-color: white;}#sk-44117cbb-f7bd-438e-8f4b-e14d8a156f23 div.sk-parallel-item:first-child::after {align-self: flex-end;width: 50%;}#sk-44117cbb-f7bd-438e-8f4b-e14d8a156f23 div.sk-parallel-item:last-child::after {align-self: flex-start;width: 50%;}#sk-44117cbb-f7bd-438e-8f4b-e14d8a156f23 div.sk-parallel-item:only-child::after {width: 0;}#sk-44117cbb-f7bd-438e-8f4b-e14d8a156f23 div.sk-dashed-wrapped {border: 1px dashed gray;margin: 0 0.4em 0.5em 0.4em;box-sizing: border-box;padding-bottom: 0.4em;background-color: white;position: relative;}#sk-44117cbb-f7bd-438e-8f4b-e14d8a156f23 div.sk-label label {font-family: monospace;font-weight: bold;background-color: white;display: inline-block;line-height: 1.2em;}#sk-44117cbb-f7bd-438e-8f4b-e14d8a156f23 div.sk-label-container {position: relative;z-index: 2;text-align: center;}#sk-44117cbb-f7bd-438e-8f4b-e14d8a156f23 div.sk-container {/* jupyter's `normalize.less` sets `[hidden] { display: none; }` but bootstrap.min.css set `[hidden] { display: none !important; }` so we also need the `!important` here to be able to override the default hidden behavior on the sphinx rendered scikit-learn.org. See: https://github.com/scikit-learn/scikit-learn/issues/21755 */display: inline-block !important;position: relative;}#sk-44117cbb-f7bd-438e-8f4b-e14d8a156f23 div.sk-text-repr-fallback {display: none;}</style><div id=\"sk-44117cbb-f7bd-438e-8f4b-e14d8a156f23\" class=\"sk-top-container\"><div class=\"sk-text-repr-fallback\"><pre>GridSearchCV(cv=5, estimator=LGBMClassifier(), n_jobs=3,\n",
       "             param_grid={&#x27;boosting_type&#x27;: [&#x27;gbdt&#x27;],\n",
       "                         &#x27;colsample_bytree&#x27;: [0.4, 0.5, 0.7],\n",
       "                         &#x27;learning_rate&#x27;: [0.1, 0.5, 0.8],\n",
       "                         &#x27;max_depth&#x27;: [10, 11, 12], &#x27;objective&#x27;: [&#x27;binary&#x27;],\n",
       "                         &#x27;random_state&#x27;: [501], &#x27;subsample&#x27;: [0.1, 0.2, 0.3]},\n",
       "             scoring=&#x27;f1&#x27;)</pre><b>Please rerun this cell to show the HTML repr or trust the notebook.</b></div><div class=\"sk-container\" hidden><div class=\"sk-item sk-dashed-wrapped\"><div class=\"sk-label-container\"><div class=\"sk-label sk-toggleable\"><input class=\"sk-toggleable__control sk-hidden--visually\" id=\"e4ffaf19-8b5a-4677-9d18-560bb746e92c\" type=\"checkbox\" ><label for=\"e4ffaf19-8b5a-4677-9d18-560bb746e92c\" class=\"sk-toggleable__label sk-toggleable__label-arrow\">GridSearchCV</label><div class=\"sk-toggleable__content\"><pre>GridSearchCV(cv=5, estimator=LGBMClassifier(), n_jobs=3,\n",
       "             param_grid={&#x27;boosting_type&#x27;: [&#x27;gbdt&#x27;],\n",
       "                         &#x27;colsample_bytree&#x27;: [0.4, 0.5, 0.7],\n",
       "                         &#x27;learning_rate&#x27;: [0.1, 0.5, 0.8],\n",
       "                         &#x27;max_depth&#x27;: [10, 11, 12], &#x27;objective&#x27;: [&#x27;binary&#x27;],\n",
       "                         &#x27;random_state&#x27;: [501], &#x27;subsample&#x27;: [0.1, 0.2, 0.3]},\n",
       "             scoring=&#x27;f1&#x27;)</pre></div></div></div><div class=\"sk-parallel\"><div class=\"sk-parallel-item\"><div class=\"sk-item\"><div class=\"sk-serial\"><div class=\"sk-item\"><div class=\"sk-estimator sk-toggleable\"><input class=\"sk-toggleable__control sk-hidden--visually\" id=\"e0c93c38-16df-4ca1-acc8-4e40799822d2\" type=\"checkbox\" ><label for=\"e0c93c38-16df-4ca1-acc8-4e40799822d2\" class=\"sk-toggleable__label sk-toggleable__label-arrow\">LGBMClassifier</label><div class=\"sk-toggleable__content\"><pre>LGBMClassifier()</pre></div></div></div></div></div></div></div></div></div></div>"
      ],
      "text/plain": [
       "GridSearchCV(cv=5, estimator=LGBMClassifier(), n_jobs=3,\n",
       "             param_grid={'boosting_type': ['gbdt'],\n",
       "                         'colsample_bytree': [0.4, 0.5, 0.7],\n",
       "                         'learning_rate': [0.1, 0.5, 0.8],\n",
       "                         'max_depth': [10, 11, 12], 'objective': ['binary'],\n",
       "                         'random_state': [501], 'subsample': [0.1, 0.2, 0.3]},\n",
       "             scoring='f1')"
      ]
     },
     "execution_count": 1732,
     "metadata": {},
     "output_type": "execute_result"
    }
   ],
   "source": [
    "grid.fit(preprocess.transform(X_train), y_train)"
   ]
  },
  {
   "cell_type": "code",
   "execution_count": 1733,
   "id": "7983dc70",
   "metadata": {},
   "outputs": [
    {
     "data": {
      "text/plain": [
       "{'boosting_type': 'gbdt',\n",
       " 'colsample_bytree': 0.7,\n",
       " 'learning_rate': 0.5,\n",
       " 'max_depth': 10,\n",
       " 'objective': 'binary',\n",
       " 'random_state': 501,\n",
       " 'subsample': 0.1}"
      ]
     },
     "execution_count": 1733,
     "metadata": {},
     "output_type": "execute_result"
    }
   ],
   "source": [
    "grid.best_params_"
   ]
  },
  {
   "cell_type": "code",
   "execution_count": 1734,
   "id": "8df3b4db",
   "metadata": {},
   "outputs": [
    {
     "data": {
      "text/plain": [
       "0.8152791690779034"
      ]
     },
     "execution_count": 1734,
     "metadata": {},
     "output_type": "execute_result"
    }
   ],
   "source": [
    "grid.best_score_"
   ]
  },
  {
   "cell_type": "code",
   "execution_count": 1735,
   "id": "eb50af06",
   "metadata": {},
   "outputs": [
    {
     "data": {
      "text/plain": [
       "array([[ 73,  67],\n",
       "       [ 70, 231]], dtype=int64)"
      ]
     },
     "execution_count": 1735,
     "metadata": {},
     "output_type": "execute_result"
    }
   ],
   "source": [
    "from sklearn.metrics import confusion_matrix, ConfusionMatrixDisplay\n",
    "confusion_matrix(y_test, grid.predict(preprocess.transform(X_test)))"
   ]
  },
  {
   "cell_type": "code",
   "execution_count": 1736,
   "id": "f91f1f2e",
   "metadata": {},
   "outputs": [
    {
     "name": "stdout",
     "output_type": "stream",
     "text": [
      "              precision    recall  f1-score   support\n",
      "\n",
      "           0       0.51      0.52      0.52       140\n",
      "           1       0.78      0.77      0.77       301\n",
      "\n",
      "    accuracy                           0.69       441\n",
      "   macro avg       0.64      0.64      0.64       441\n",
      "weighted avg       0.69      0.69      0.69       441\n",
      "\n"
     ]
    }
   ],
   "source": [
    "from sklearn.metrics import classification_report\n",
    "print(classification_report(y_test, grid.predict(preprocess.transform(X_test))))"
   ]
  },
  {
   "cell_type": "markdown",
   "id": "94ff176e",
   "metadata": {},
   "source": [
    "## model: AdaBoost"
   ]
  },
  {
   "cell_type": "code",
   "execution_count": 1737,
   "id": "ee84591b",
   "metadata": {},
   "outputs": [],
   "source": [
    "from sklearn.ensemble import AdaBoostClassifier"
   ]
  },
  {
   "cell_type": "code",
   "execution_count": 1738,
   "id": "eab957a5",
   "metadata": {},
   "outputs": [],
   "source": [
    "model_adb = AdaBoostClassifier()"
   ]
  },
  {
   "cell_type": "code",
   "execution_count": 1739,
   "id": "2018d39e",
   "metadata": {},
   "outputs": [],
   "source": [
    "params = {\n",
    "    \"n_estimators\":[130,140,150,160,170]\n",
    "    }"
   ]
  },
  {
   "cell_type": "code",
   "execution_count": 1740,
   "id": "e9f72cac",
   "metadata": {},
   "outputs": [],
   "source": [
    "grid = GridSearchCV(estimator=model_adb, param_grid=params, cv=5, scoring=\"f1\", n_jobs=3)"
   ]
  },
  {
   "cell_type": "code",
   "execution_count": 1741,
   "id": "23520752",
   "metadata": {},
   "outputs": [
    {
     "data": {
      "text/html": [
       "<style>#sk-9efb0f85-5629-4193-a4a1-01ef18d80295 {color: black;background-color: white;}#sk-9efb0f85-5629-4193-a4a1-01ef18d80295 pre{padding: 0;}#sk-9efb0f85-5629-4193-a4a1-01ef18d80295 div.sk-toggleable {background-color: white;}#sk-9efb0f85-5629-4193-a4a1-01ef18d80295 label.sk-toggleable__label {cursor: pointer;display: block;width: 100%;margin-bottom: 0;padding: 0.3em;box-sizing: border-box;text-align: center;}#sk-9efb0f85-5629-4193-a4a1-01ef18d80295 label.sk-toggleable__label-arrow:before {content: \"▸\";float: left;margin-right: 0.25em;color: #696969;}#sk-9efb0f85-5629-4193-a4a1-01ef18d80295 label.sk-toggleable__label-arrow:hover:before {color: black;}#sk-9efb0f85-5629-4193-a4a1-01ef18d80295 div.sk-estimator:hover label.sk-toggleable__label-arrow:before {color: black;}#sk-9efb0f85-5629-4193-a4a1-01ef18d80295 div.sk-toggleable__content {max-height: 0;max-width: 0;overflow: hidden;text-align: left;background-color: #f0f8ff;}#sk-9efb0f85-5629-4193-a4a1-01ef18d80295 div.sk-toggleable__content pre {margin: 0.2em;color: black;border-radius: 0.25em;background-color: #f0f8ff;}#sk-9efb0f85-5629-4193-a4a1-01ef18d80295 input.sk-toggleable__control:checked~div.sk-toggleable__content {max-height: 200px;max-width: 100%;overflow: auto;}#sk-9efb0f85-5629-4193-a4a1-01ef18d80295 input.sk-toggleable__control:checked~label.sk-toggleable__label-arrow:before {content: \"▾\";}#sk-9efb0f85-5629-4193-a4a1-01ef18d80295 div.sk-estimator input.sk-toggleable__control:checked~label.sk-toggleable__label {background-color: #d4ebff;}#sk-9efb0f85-5629-4193-a4a1-01ef18d80295 div.sk-label input.sk-toggleable__control:checked~label.sk-toggleable__label {background-color: #d4ebff;}#sk-9efb0f85-5629-4193-a4a1-01ef18d80295 input.sk-hidden--visually {border: 0;clip: rect(1px 1px 1px 1px);clip: rect(1px, 1px, 1px, 1px);height: 1px;margin: -1px;overflow: hidden;padding: 0;position: absolute;width: 1px;}#sk-9efb0f85-5629-4193-a4a1-01ef18d80295 div.sk-estimator {font-family: monospace;background-color: #f0f8ff;border: 1px dotted black;border-radius: 0.25em;box-sizing: border-box;margin-bottom: 0.5em;}#sk-9efb0f85-5629-4193-a4a1-01ef18d80295 div.sk-estimator:hover {background-color: #d4ebff;}#sk-9efb0f85-5629-4193-a4a1-01ef18d80295 div.sk-parallel-item::after {content: \"\";width: 100%;border-bottom: 1px solid gray;flex-grow: 1;}#sk-9efb0f85-5629-4193-a4a1-01ef18d80295 div.sk-label:hover label.sk-toggleable__label {background-color: #d4ebff;}#sk-9efb0f85-5629-4193-a4a1-01ef18d80295 div.sk-serial::before {content: \"\";position: absolute;border-left: 1px solid gray;box-sizing: border-box;top: 2em;bottom: 0;left: 50%;}#sk-9efb0f85-5629-4193-a4a1-01ef18d80295 div.sk-serial {display: flex;flex-direction: column;align-items: center;background-color: white;padding-right: 0.2em;padding-left: 0.2em;}#sk-9efb0f85-5629-4193-a4a1-01ef18d80295 div.sk-item {z-index: 1;}#sk-9efb0f85-5629-4193-a4a1-01ef18d80295 div.sk-parallel {display: flex;align-items: stretch;justify-content: center;background-color: white;}#sk-9efb0f85-5629-4193-a4a1-01ef18d80295 div.sk-parallel::before {content: \"\";position: absolute;border-left: 1px solid gray;box-sizing: border-box;top: 2em;bottom: 0;left: 50%;}#sk-9efb0f85-5629-4193-a4a1-01ef18d80295 div.sk-parallel-item {display: flex;flex-direction: column;position: relative;background-color: white;}#sk-9efb0f85-5629-4193-a4a1-01ef18d80295 div.sk-parallel-item:first-child::after {align-self: flex-end;width: 50%;}#sk-9efb0f85-5629-4193-a4a1-01ef18d80295 div.sk-parallel-item:last-child::after {align-self: flex-start;width: 50%;}#sk-9efb0f85-5629-4193-a4a1-01ef18d80295 div.sk-parallel-item:only-child::after {width: 0;}#sk-9efb0f85-5629-4193-a4a1-01ef18d80295 div.sk-dashed-wrapped {border: 1px dashed gray;margin: 0 0.4em 0.5em 0.4em;box-sizing: border-box;padding-bottom: 0.4em;background-color: white;position: relative;}#sk-9efb0f85-5629-4193-a4a1-01ef18d80295 div.sk-label label {font-family: monospace;font-weight: bold;background-color: white;display: inline-block;line-height: 1.2em;}#sk-9efb0f85-5629-4193-a4a1-01ef18d80295 div.sk-label-container {position: relative;z-index: 2;text-align: center;}#sk-9efb0f85-5629-4193-a4a1-01ef18d80295 div.sk-container {/* jupyter's `normalize.less` sets `[hidden] { display: none; }` but bootstrap.min.css set `[hidden] { display: none !important; }` so we also need the `!important` here to be able to override the default hidden behavior on the sphinx rendered scikit-learn.org. See: https://github.com/scikit-learn/scikit-learn/issues/21755 */display: inline-block !important;position: relative;}#sk-9efb0f85-5629-4193-a4a1-01ef18d80295 div.sk-text-repr-fallback {display: none;}</style><div id=\"sk-9efb0f85-5629-4193-a4a1-01ef18d80295\" class=\"sk-top-container\"><div class=\"sk-text-repr-fallback\"><pre>GridSearchCV(cv=5, estimator=AdaBoostClassifier(), n_jobs=3,\n",
       "             param_grid={&#x27;n_estimators&#x27;: [130, 140, 150, 160, 170]},\n",
       "             scoring=&#x27;f1&#x27;)</pre><b>Please rerun this cell to show the HTML repr or trust the notebook.</b></div><div class=\"sk-container\" hidden><div class=\"sk-item sk-dashed-wrapped\"><div class=\"sk-label-container\"><div class=\"sk-label sk-toggleable\"><input class=\"sk-toggleable__control sk-hidden--visually\" id=\"b73b47b8-85fa-4691-8fbb-d5a08088ca7e\" type=\"checkbox\" ><label for=\"b73b47b8-85fa-4691-8fbb-d5a08088ca7e\" class=\"sk-toggleable__label sk-toggleable__label-arrow\">GridSearchCV</label><div class=\"sk-toggleable__content\"><pre>GridSearchCV(cv=5, estimator=AdaBoostClassifier(), n_jobs=3,\n",
       "             param_grid={&#x27;n_estimators&#x27;: [130, 140, 150, 160, 170]},\n",
       "             scoring=&#x27;f1&#x27;)</pre></div></div></div><div class=\"sk-parallel\"><div class=\"sk-parallel-item\"><div class=\"sk-item\"><div class=\"sk-serial\"><div class=\"sk-item\"><div class=\"sk-estimator sk-toggleable\"><input class=\"sk-toggleable__control sk-hidden--visually\" id=\"f39a625f-d760-441f-b675-261b31a1b662\" type=\"checkbox\" ><label for=\"f39a625f-d760-441f-b675-261b31a1b662\" class=\"sk-toggleable__label sk-toggleable__label-arrow\">AdaBoostClassifier</label><div class=\"sk-toggleable__content\"><pre>AdaBoostClassifier()</pre></div></div></div></div></div></div></div></div></div></div>"
      ],
      "text/plain": [
       "GridSearchCV(cv=5, estimator=AdaBoostClassifier(), n_jobs=3,\n",
       "             param_grid={'n_estimators': [130, 140, 150, 160, 170]},\n",
       "             scoring='f1')"
      ]
     },
     "execution_count": 1741,
     "metadata": {},
     "output_type": "execute_result"
    }
   ],
   "source": [
    "grid.fit(preprocess.transform(X_train), y_train)"
   ]
  },
  {
   "cell_type": "code",
   "execution_count": 1742,
   "id": "9380aecc",
   "metadata": {},
   "outputs": [
    {
     "data": {
      "text/plain": [
       "{'n_estimators': 150}"
      ]
     },
     "execution_count": 1742,
     "metadata": {},
     "output_type": "execute_result"
    }
   ],
   "source": [
    "grid.best_params_"
   ]
  },
  {
   "cell_type": "code",
   "execution_count": 1743,
   "id": "2b6ac11b",
   "metadata": {},
   "outputs": [
    {
     "data": {
      "text/plain": [
       "0.690215801756676"
      ]
     },
     "execution_count": 1743,
     "metadata": {},
     "output_type": "execute_result"
    }
   ],
   "source": [
    "grid.best_score_"
   ]
  },
  {
   "cell_type": "code",
   "execution_count": 1744,
   "id": "a535745c",
   "metadata": {},
   "outputs": [
    {
     "data": {
      "text/plain": [
       "array([[ 86,  54],\n",
       "       [ 82, 219]], dtype=int64)"
      ]
     },
     "execution_count": 1744,
     "metadata": {},
     "output_type": "execute_result"
    }
   ],
   "source": [
    "from sklearn.metrics import confusion_matrix, ConfusionMatrixDisplay\n",
    "confusion_matrix(y_test, grid.predict(preprocess.transform(X_test)))"
   ]
  },
  {
   "cell_type": "code",
   "execution_count": 1745,
   "id": "a1b4e1ea",
   "metadata": {},
   "outputs": [
    {
     "name": "stdout",
     "output_type": "stream",
     "text": [
      "              precision    recall  f1-score   support\n",
      "\n",
      "           0       0.51      0.61      0.56       140\n",
      "           1       0.80      0.73      0.76       301\n",
      "\n",
      "    accuracy                           0.69       441\n",
      "   macro avg       0.66      0.67      0.66       441\n",
      "weighted avg       0.71      0.69      0.70       441\n",
      "\n"
     ]
    }
   ],
   "source": [
    "from sklearn.metrics import classification_report\n",
    "print(classification_report(y_test, grid.predict(preprocess.transform(X_test))))"
   ]
  },
  {
   "cell_type": "markdown",
   "id": "64fb9236",
   "metadata": {},
   "source": [
    "## model: LogisticRegression"
   ]
  },
  {
   "cell_type": "code",
   "execution_count": 1746,
   "id": "ab58a21f",
   "metadata": {},
   "outputs": [],
   "source": [
    "from sklearn.linear_model import LogisticRegression"
   ]
  },
  {
   "cell_type": "code",
   "execution_count": 1747,
   "id": "076ac353",
   "metadata": {},
   "outputs": [],
   "source": [
    "model_logRegg = LogisticRegression(max_iter=1000)"
   ]
  },
  {
   "cell_type": "code",
   "execution_count": 1748,
   "id": "3c932f33",
   "metadata": {},
   "outputs": [],
   "source": [
    "params = {\n",
    "    \"class_weight\":[{0:0.3,1:1},{0:0.4,1:1},{0:0.5,1:1},{0:0.6,1:1},{0:0.7,1:1},{0:0.8,1:1},{0:0.9,1:1},{0:1,1:1},{0:1.1,1:1}]\n",
    "    }"
   ]
  },
  {
   "cell_type": "code",
   "execution_count": 1749,
   "id": "bb2cc210",
   "metadata": {},
   "outputs": [],
   "source": [
    "grid = GridSearchCV(estimator=model_logRegg, param_grid=params, cv=5, scoring=\"f1\")"
   ]
  },
  {
   "cell_type": "code",
   "execution_count": 1750,
   "id": "b08ec14f",
   "metadata": {},
   "outputs": [
    {
     "data": {
      "text/html": [
       "<style>#sk-f53dd7c4-b8d2-4cd7-bd44-0f788c168cc0 {color: black;background-color: white;}#sk-f53dd7c4-b8d2-4cd7-bd44-0f788c168cc0 pre{padding: 0;}#sk-f53dd7c4-b8d2-4cd7-bd44-0f788c168cc0 div.sk-toggleable {background-color: white;}#sk-f53dd7c4-b8d2-4cd7-bd44-0f788c168cc0 label.sk-toggleable__label {cursor: pointer;display: block;width: 100%;margin-bottom: 0;padding: 0.3em;box-sizing: border-box;text-align: center;}#sk-f53dd7c4-b8d2-4cd7-bd44-0f788c168cc0 label.sk-toggleable__label-arrow:before {content: \"▸\";float: left;margin-right: 0.25em;color: #696969;}#sk-f53dd7c4-b8d2-4cd7-bd44-0f788c168cc0 label.sk-toggleable__label-arrow:hover:before {color: black;}#sk-f53dd7c4-b8d2-4cd7-bd44-0f788c168cc0 div.sk-estimator:hover label.sk-toggleable__label-arrow:before {color: black;}#sk-f53dd7c4-b8d2-4cd7-bd44-0f788c168cc0 div.sk-toggleable__content {max-height: 0;max-width: 0;overflow: hidden;text-align: left;background-color: #f0f8ff;}#sk-f53dd7c4-b8d2-4cd7-bd44-0f788c168cc0 div.sk-toggleable__content pre {margin: 0.2em;color: black;border-radius: 0.25em;background-color: #f0f8ff;}#sk-f53dd7c4-b8d2-4cd7-bd44-0f788c168cc0 input.sk-toggleable__control:checked~div.sk-toggleable__content {max-height: 200px;max-width: 100%;overflow: auto;}#sk-f53dd7c4-b8d2-4cd7-bd44-0f788c168cc0 input.sk-toggleable__control:checked~label.sk-toggleable__label-arrow:before {content: \"▾\";}#sk-f53dd7c4-b8d2-4cd7-bd44-0f788c168cc0 div.sk-estimator input.sk-toggleable__control:checked~label.sk-toggleable__label {background-color: #d4ebff;}#sk-f53dd7c4-b8d2-4cd7-bd44-0f788c168cc0 div.sk-label input.sk-toggleable__control:checked~label.sk-toggleable__label {background-color: #d4ebff;}#sk-f53dd7c4-b8d2-4cd7-bd44-0f788c168cc0 input.sk-hidden--visually {border: 0;clip: rect(1px 1px 1px 1px);clip: rect(1px, 1px, 1px, 1px);height: 1px;margin: -1px;overflow: hidden;padding: 0;position: absolute;width: 1px;}#sk-f53dd7c4-b8d2-4cd7-bd44-0f788c168cc0 div.sk-estimator {font-family: monospace;background-color: #f0f8ff;border: 1px dotted black;border-radius: 0.25em;box-sizing: border-box;margin-bottom: 0.5em;}#sk-f53dd7c4-b8d2-4cd7-bd44-0f788c168cc0 div.sk-estimator:hover {background-color: #d4ebff;}#sk-f53dd7c4-b8d2-4cd7-bd44-0f788c168cc0 div.sk-parallel-item::after {content: \"\";width: 100%;border-bottom: 1px solid gray;flex-grow: 1;}#sk-f53dd7c4-b8d2-4cd7-bd44-0f788c168cc0 div.sk-label:hover label.sk-toggleable__label {background-color: #d4ebff;}#sk-f53dd7c4-b8d2-4cd7-bd44-0f788c168cc0 div.sk-serial::before {content: \"\";position: absolute;border-left: 1px solid gray;box-sizing: border-box;top: 2em;bottom: 0;left: 50%;}#sk-f53dd7c4-b8d2-4cd7-bd44-0f788c168cc0 div.sk-serial {display: flex;flex-direction: column;align-items: center;background-color: white;padding-right: 0.2em;padding-left: 0.2em;}#sk-f53dd7c4-b8d2-4cd7-bd44-0f788c168cc0 div.sk-item {z-index: 1;}#sk-f53dd7c4-b8d2-4cd7-bd44-0f788c168cc0 div.sk-parallel {display: flex;align-items: stretch;justify-content: center;background-color: white;}#sk-f53dd7c4-b8d2-4cd7-bd44-0f788c168cc0 div.sk-parallel::before {content: \"\";position: absolute;border-left: 1px solid gray;box-sizing: border-box;top: 2em;bottom: 0;left: 50%;}#sk-f53dd7c4-b8d2-4cd7-bd44-0f788c168cc0 div.sk-parallel-item {display: flex;flex-direction: column;position: relative;background-color: white;}#sk-f53dd7c4-b8d2-4cd7-bd44-0f788c168cc0 div.sk-parallel-item:first-child::after {align-self: flex-end;width: 50%;}#sk-f53dd7c4-b8d2-4cd7-bd44-0f788c168cc0 div.sk-parallel-item:last-child::after {align-self: flex-start;width: 50%;}#sk-f53dd7c4-b8d2-4cd7-bd44-0f788c168cc0 div.sk-parallel-item:only-child::after {width: 0;}#sk-f53dd7c4-b8d2-4cd7-bd44-0f788c168cc0 div.sk-dashed-wrapped {border: 1px dashed gray;margin: 0 0.4em 0.5em 0.4em;box-sizing: border-box;padding-bottom: 0.4em;background-color: white;position: relative;}#sk-f53dd7c4-b8d2-4cd7-bd44-0f788c168cc0 div.sk-label label {font-family: monospace;font-weight: bold;background-color: white;display: inline-block;line-height: 1.2em;}#sk-f53dd7c4-b8d2-4cd7-bd44-0f788c168cc0 div.sk-label-container {position: relative;z-index: 2;text-align: center;}#sk-f53dd7c4-b8d2-4cd7-bd44-0f788c168cc0 div.sk-container {/* jupyter's `normalize.less` sets `[hidden] { display: none; }` but bootstrap.min.css set `[hidden] { display: none !important; }` so we also need the `!important` here to be able to override the default hidden behavior on the sphinx rendered scikit-learn.org. See: https://github.com/scikit-learn/scikit-learn/issues/21755 */display: inline-block !important;position: relative;}#sk-f53dd7c4-b8d2-4cd7-bd44-0f788c168cc0 div.sk-text-repr-fallback {display: none;}</style><div id=\"sk-f53dd7c4-b8d2-4cd7-bd44-0f788c168cc0\" class=\"sk-top-container\"><div class=\"sk-text-repr-fallback\"><pre>GridSearchCV(cv=5, estimator=LogisticRegression(max_iter=1000),\n",
       "             param_grid={&#x27;class_weight&#x27;: [{0: 0.3, 1: 1}, {0: 0.4, 1: 1},\n",
       "                                          {0: 0.5, 1: 1}, {0: 0.6, 1: 1},\n",
       "                                          {0: 0.7, 1: 1}, {0: 0.8, 1: 1},\n",
       "                                          {0: 0.9, 1: 1}, {0: 1, 1: 1},\n",
       "                                          {0: 1.1, 1: 1}]},\n",
       "             scoring=&#x27;f1&#x27;)</pre><b>Please rerun this cell to show the HTML repr or trust the notebook.</b></div><div class=\"sk-container\" hidden><div class=\"sk-item sk-dashed-wrapped\"><div class=\"sk-label-container\"><div class=\"sk-label sk-toggleable\"><input class=\"sk-toggleable__control sk-hidden--visually\" id=\"aebe709e-2e9b-465a-a6be-dd75a4b95aa8\" type=\"checkbox\" ><label for=\"aebe709e-2e9b-465a-a6be-dd75a4b95aa8\" class=\"sk-toggleable__label sk-toggleable__label-arrow\">GridSearchCV</label><div class=\"sk-toggleable__content\"><pre>GridSearchCV(cv=5, estimator=LogisticRegression(max_iter=1000),\n",
       "             param_grid={&#x27;class_weight&#x27;: [{0: 0.3, 1: 1}, {0: 0.4, 1: 1},\n",
       "                                          {0: 0.5, 1: 1}, {0: 0.6, 1: 1},\n",
       "                                          {0: 0.7, 1: 1}, {0: 0.8, 1: 1},\n",
       "                                          {0: 0.9, 1: 1}, {0: 1, 1: 1},\n",
       "                                          {0: 1.1, 1: 1}]},\n",
       "             scoring=&#x27;f1&#x27;)</pre></div></div></div><div class=\"sk-parallel\"><div class=\"sk-parallel-item\"><div class=\"sk-item\"><div class=\"sk-serial\"><div class=\"sk-item\"><div class=\"sk-estimator sk-toggleable\"><input class=\"sk-toggleable__control sk-hidden--visually\" id=\"936f4e15-14c0-48b8-b297-fd42be1c67c0\" type=\"checkbox\" ><label for=\"936f4e15-14c0-48b8-b297-fd42be1c67c0\" class=\"sk-toggleable__label sk-toggleable__label-arrow\">LogisticRegression</label><div class=\"sk-toggleable__content\"><pre>LogisticRegression(max_iter=1000)</pre></div></div></div></div></div></div></div></div></div></div>"
      ],
      "text/plain": [
       "GridSearchCV(cv=5, estimator=LogisticRegression(max_iter=1000),\n",
       "             param_grid={'class_weight': [{0: 0.3, 1: 1}, {0: 0.4, 1: 1},\n",
       "                                          {0: 0.5, 1: 1}, {0: 0.6, 1: 1},\n",
       "                                          {0: 0.7, 1: 1}, {0: 0.8, 1: 1},\n",
       "                                          {0: 0.9, 1: 1}, {0: 1, 1: 1},\n",
       "                                          {0: 1.1, 1: 1}]},\n",
       "             scoring='f1')"
      ]
     },
     "execution_count": 1750,
     "metadata": {},
     "output_type": "execute_result"
    }
   ],
   "source": [
    "grid.fit(preprocess.transform(X_train), y_train)"
   ]
  },
  {
   "cell_type": "code",
   "execution_count": 1751,
   "id": "ea91c619",
   "metadata": {},
   "outputs": [
    {
     "data": {
      "text/plain": [
       "{'class_weight': {0: 0.5, 1: 1}}"
      ]
     },
     "execution_count": 1751,
     "metadata": {},
     "output_type": "execute_result"
    }
   ],
   "source": [
    "grid.best_params_"
   ]
  },
  {
   "cell_type": "code",
   "execution_count": 1752,
   "id": "d16a3d51",
   "metadata": {},
   "outputs": [
    {
     "data": {
      "text/plain": [
       "0.7133151466602117"
      ]
     },
     "execution_count": 1752,
     "metadata": {},
     "output_type": "execute_result"
    }
   ],
   "source": [
    "grid.best_score_"
   ]
  },
  {
   "cell_type": "code",
   "execution_count": 1753,
   "id": "43b42ff0",
   "metadata": {},
   "outputs": [
    {
     "data": {
      "text/plain": [
       "array([[ 56,  84],\n",
       "       [ 20, 281]], dtype=int64)"
      ]
     },
     "execution_count": 1753,
     "metadata": {},
     "output_type": "execute_result"
    }
   ],
   "source": [
    "from sklearn.metrics import confusion_matrix, ConfusionMatrixDisplay\n",
    "confusion_matrix(y_test, grid.predict(preprocess.transform(X_test)))"
   ]
  },
  {
   "cell_type": "code",
   "execution_count": 1754,
   "id": "8f341715",
   "metadata": {},
   "outputs": [
    {
     "name": "stdout",
     "output_type": "stream",
     "text": [
      "              precision    recall  f1-score   support\n",
      "\n",
      "           0       0.74      0.40      0.52       140\n",
      "           1       0.77      0.93      0.84       301\n",
      "\n",
      "    accuracy                           0.76       441\n",
      "   macro avg       0.75      0.67      0.68       441\n",
      "weighted avg       0.76      0.76      0.74       441\n",
      "\n"
     ]
    }
   ],
   "source": [
    "from sklearn.metrics import classification_report\n",
    "print(classification_report(y_test, grid.predict(preprocess.transform(X_test))))"
   ]
  },
  {
   "cell_type": "markdown",
   "id": "117a8272",
   "metadata": {},
   "source": [
    "## model: SVM"
   ]
  },
  {
   "cell_type": "code",
   "execution_count": 1755,
   "id": "4613994e",
   "metadata": {},
   "outputs": [],
   "source": [
    "from sklearn.svm import SVC"
   ]
  },
  {
   "cell_type": "code",
   "execution_count": 1756,
   "id": "91685d6d",
   "metadata": {},
   "outputs": [],
   "source": [
    "model_svc = SVC(kernel='poly')"
   ]
  },
  {
   "cell_type": "code",
   "execution_count": 1757,
   "id": "ff960b2c",
   "metadata": {},
   "outputs": [],
   "source": [
    "params = {\n",
    "        'C': [0.1],\n",
    "        'gamma':[1],\n",
    "        'degree':[9,10,11,12]\n",
    "        }"
   ]
  },
  {
   "cell_type": "code",
   "execution_count": 1758,
   "id": "82ad5bfb",
   "metadata": {},
   "outputs": [],
   "source": [
    "grid = GridSearchCV(estimator=model_svc, param_grid=params, cv=5, scoring=\"f1\", n_jobs=3)"
   ]
  },
  {
   "cell_type": "code",
   "execution_count": 1759,
   "id": "d77cd856",
   "metadata": {},
   "outputs": [
    {
     "data": {
      "text/html": [
       "<style>#sk-fcc202ba-c225-4e2a-8d91-04c58852cf25 {color: black;background-color: white;}#sk-fcc202ba-c225-4e2a-8d91-04c58852cf25 pre{padding: 0;}#sk-fcc202ba-c225-4e2a-8d91-04c58852cf25 div.sk-toggleable {background-color: white;}#sk-fcc202ba-c225-4e2a-8d91-04c58852cf25 label.sk-toggleable__label {cursor: pointer;display: block;width: 100%;margin-bottom: 0;padding: 0.3em;box-sizing: border-box;text-align: center;}#sk-fcc202ba-c225-4e2a-8d91-04c58852cf25 label.sk-toggleable__label-arrow:before {content: \"▸\";float: left;margin-right: 0.25em;color: #696969;}#sk-fcc202ba-c225-4e2a-8d91-04c58852cf25 label.sk-toggleable__label-arrow:hover:before {color: black;}#sk-fcc202ba-c225-4e2a-8d91-04c58852cf25 div.sk-estimator:hover label.sk-toggleable__label-arrow:before {color: black;}#sk-fcc202ba-c225-4e2a-8d91-04c58852cf25 div.sk-toggleable__content {max-height: 0;max-width: 0;overflow: hidden;text-align: left;background-color: #f0f8ff;}#sk-fcc202ba-c225-4e2a-8d91-04c58852cf25 div.sk-toggleable__content pre {margin: 0.2em;color: black;border-radius: 0.25em;background-color: #f0f8ff;}#sk-fcc202ba-c225-4e2a-8d91-04c58852cf25 input.sk-toggleable__control:checked~div.sk-toggleable__content {max-height: 200px;max-width: 100%;overflow: auto;}#sk-fcc202ba-c225-4e2a-8d91-04c58852cf25 input.sk-toggleable__control:checked~label.sk-toggleable__label-arrow:before {content: \"▾\";}#sk-fcc202ba-c225-4e2a-8d91-04c58852cf25 div.sk-estimator input.sk-toggleable__control:checked~label.sk-toggleable__label {background-color: #d4ebff;}#sk-fcc202ba-c225-4e2a-8d91-04c58852cf25 div.sk-label input.sk-toggleable__control:checked~label.sk-toggleable__label {background-color: #d4ebff;}#sk-fcc202ba-c225-4e2a-8d91-04c58852cf25 input.sk-hidden--visually {border: 0;clip: rect(1px 1px 1px 1px);clip: rect(1px, 1px, 1px, 1px);height: 1px;margin: -1px;overflow: hidden;padding: 0;position: absolute;width: 1px;}#sk-fcc202ba-c225-4e2a-8d91-04c58852cf25 div.sk-estimator {font-family: monospace;background-color: #f0f8ff;border: 1px dotted black;border-radius: 0.25em;box-sizing: border-box;margin-bottom: 0.5em;}#sk-fcc202ba-c225-4e2a-8d91-04c58852cf25 div.sk-estimator:hover {background-color: #d4ebff;}#sk-fcc202ba-c225-4e2a-8d91-04c58852cf25 div.sk-parallel-item::after {content: \"\";width: 100%;border-bottom: 1px solid gray;flex-grow: 1;}#sk-fcc202ba-c225-4e2a-8d91-04c58852cf25 div.sk-label:hover label.sk-toggleable__label {background-color: #d4ebff;}#sk-fcc202ba-c225-4e2a-8d91-04c58852cf25 div.sk-serial::before {content: \"\";position: absolute;border-left: 1px solid gray;box-sizing: border-box;top: 2em;bottom: 0;left: 50%;}#sk-fcc202ba-c225-4e2a-8d91-04c58852cf25 div.sk-serial {display: flex;flex-direction: column;align-items: center;background-color: white;padding-right: 0.2em;padding-left: 0.2em;}#sk-fcc202ba-c225-4e2a-8d91-04c58852cf25 div.sk-item {z-index: 1;}#sk-fcc202ba-c225-4e2a-8d91-04c58852cf25 div.sk-parallel {display: flex;align-items: stretch;justify-content: center;background-color: white;}#sk-fcc202ba-c225-4e2a-8d91-04c58852cf25 div.sk-parallel::before {content: \"\";position: absolute;border-left: 1px solid gray;box-sizing: border-box;top: 2em;bottom: 0;left: 50%;}#sk-fcc202ba-c225-4e2a-8d91-04c58852cf25 div.sk-parallel-item {display: flex;flex-direction: column;position: relative;background-color: white;}#sk-fcc202ba-c225-4e2a-8d91-04c58852cf25 div.sk-parallel-item:first-child::after {align-self: flex-end;width: 50%;}#sk-fcc202ba-c225-4e2a-8d91-04c58852cf25 div.sk-parallel-item:last-child::after {align-self: flex-start;width: 50%;}#sk-fcc202ba-c225-4e2a-8d91-04c58852cf25 div.sk-parallel-item:only-child::after {width: 0;}#sk-fcc202ba-c225-4e2a-8d91-04c58852cf25 div.sk-dashed-wrapped {border: 1px dashed gray;margin: 0 0.4em 0.5em 0.4em;box-sizing: border-box;padding-bottom: 0.4em;background-color: white;position: relative;}#sk-fcc202ba-c225-4e2a-8d91-04c58852cf25 div.sk-label label {font-family: monospace;font-weight: bold;background-color: white;display: inline-block;line-height: 1.2em;}#sk-fcc202ba-c225-4e2a-8d91-04c58852cf25 div.sk-label-container {position: relative;z-index: 2;text-align: center;}#sk-fcc202ba-c225-4e2a-8d91-04c58852cf25 div.sk-container {/* jupyter's `normalize.less` sets `[hidden] { display: none; }` but bootstrap.min.css set `[hidden] { display: none !important; }` so we also need the `!important` here to be able to override the default hidden behavior on the sphinx rendered scikit-learn.org. See: https://github.com/scikit-learn/scikit-learn/issues/21755 */display: inline-block !important;position: relative;}#sk-fcc202ba-c225-4e2a-8d91-04c58852cf25 div.sk-text-repr-fallback {display: none;}</style><div id=\"sk-fcc202ba-c225-4e2a-8d91-04c58852cf25\" class=\"sk-top-container\"><div class=\"sk-text-repr-fallback\"><pre>GridSearchCV(cv=5, estimator=SVC(kernel=&#x27;poly&#x27;), n_jobs=3,\n",
       "             param_grid={&#x27;C&#x27;: [0.1], &#x27;degree&#x27;: [9, 10, 11, 12], &#x27;gamma&#x27;: [1]},\n",
       "             scoring=&#x27;f1&#x27;)</pre><b>Please rerun this cell to show the HTML repr or trust the notebook.</b></div><div class=\"sk-container\" hidden><div class=\"sk-item sk-dashed-wrapped\"><div class=\"sk-label-container\"><div class=\"sk-label sk-toggleable\"><input class=\"sk-toggleable__control sk-hidden--visually\" id=\"a15fdbd7-e542-4351-89bb-fbc9f98a6ec6\" type=\"checkbox\" ><label for=\"a15fdbd7-e542-4351-89bb-fbc9f98a6ec6\" class=\"sk-toggleable__label sk-toggleable__label-arrow\">GridSearchCV</label><div class=\"sk-toggleable__content\"><pre>GridSearchCV(cv=5, estimator=SVC(kernel=&#x27;poly&#x27;), n_jobs=3,\n",
       "             param_grid={&#x27;C&#x27;: [0.1], &#x27;degree&#x27;: [9, 10, 11, 12], &#x27;gamma&#x27;: [1]},\n",
       "             scoring=&#x27;f1&#x27;)</pre></div></div></div><div class=\"sk-parallel\"><div class=\"sk-parallel-item\"><div class=\"sk-item\"><div class=\"sk-serial\"><div class=\"sk-item\"><div class=\"sk-estimator sk-toggleable\"><input class=\"sk-toggleable__control sk-hidden--visually\" id=\"e172ad06-c29f-47d3-bdfb-154727931a51\" type=\"checkbox\" ><label for=\"e172ad06-c29f-47d3-bdfb-154727931a51\" class=\"sk-toggleable__label sk-toggleable__label-arrow\">SVC</label><div class=\"sk-toggleable__content\"><pre>SVC(kernel=&#x27;poly&#x27;)</pre></div></div></div></div></div></div></div></div></div></div>"
      ],
      "text/plain": [
       "GridSearchCV(cv=5, estimator=SVC(kernel='poly'), n_jobs=3,\n",
       "             param_grid={'C': [0.1], 'degree': [9, 10, 11, 12], 'gamma': [1]},\n",
       "             scoring='f1')"
      ]
     },
     "execution_count": 1759,
     "metadata": {},
     "output_type": "execute_result"
    }
   ],
   "source": [
    "grid.fit(preprocess.transform(X_train), y_train)"
   ]
  },
  {
   "cell_type": "code",
   "execution_count": 1760,
   "id": "821227f7",
   "metadata": {},
   "outputs": [
    {
     "data": {
      "text/plain": [
       "{'C': 0.1, 'degree': 10, 'gamma': 1}"
      ]
     },
     "execution_count": 1760,
     "metadata": {},
     "output_type": "execute_result"
    }
   ],
   "source": [
    "grid.best_params_"
   ]
  },
  {
   "cell_type": "code",
   "execution_count": 1761,
   "id": "9e2a53d7",
   "metadata": {},
   "outputs": [
    {
     "data": {
      "text/plain": [
       "0.8191269265263447"
      ]
     },
     "execution_count": 1761,
     "metadata": {},
     "output_type": "execute_result"
    }
   ],
   "source": [
    "grid.best_score_"
   ]
  },
  {
   "cell_type": "code",
   "execution_count": 1762,
   "id": "ea3fedc4",
   "metadata": {},
   "outputs": [
    {
     "data": {
      "text/plain": [
       "array([[ 58,  82],\n",
       "       [ 62, 239]], dtype=int64)"
      ]
     },
     "execution_count": 1762,
     "metadata": {},
     "output_type": "execute_result"
    }
   ],
   "source": [
    "from sklearn.metrics import confusion_matrix, ConfusionMatrixDisplay\n",
    "confusion_matrix(y_test, grid.predict(preprocess.transform(X_test)))"
   ]
  },
  {
   "cell_type": "code",
   "execution_count": 1763,
   "id": "c5552a13",
   "metadata": {},
   "outputs": [
    {
     "name": "stdout",
     "output_type": "stream",
     "text": [
      "              precision    recall  f1-score   support\n",
      "\n",
      "           0       0.48      0.41      0.45       140\n",
      "           1       0.74      0.79      0.77       301\n",
      "\n",
      "    accuracy                           0.67       441\n",
      "   macro avg       0.61      0.60      0.61       441\n",
      "weighted avg       0.66      0.67      0.67       441\n",
      "\n"
     ]
    }
   ],
   "source": [
    "from sklearn.metrics import classification_report\n",
    "print(classification_report(y_test, grid.predict(preprocess.transform(X_test))))"
   ]
  },
  {
   "cell_type": "markdown",
   "id": "42d097d1",
   "metadata": {},
   "source": [
    "# model: `stacking`"
   ]
  },
  {
   "cell_type": "code",
   "execution_count": 1764,
   "id": "250cd759",
   "metadata": {},
   "outputs": [],
   "source": [
    "from mlxtend.classifier import StackingClassifier"
   ]
  },
  {
   "cell_type": "code",
   "execution_count": 1765,
   "id": "4096870d",
   "metadata": {},
   "outputs": [],
   "source": [
    "# RandomForest, GBDT, AdaBoost, LogisticRegg, SVM"
   ]
  },
  {
   "cell_type": "code",
   "execution_count": 1766,
   "id": "1216244f",
   "metadata": {},
   "outputs": [],
   "source": [
    "from sklearn.ensemble import RandomForestClassifier\n",
    "clf1_RFC = RandomForestClassifier(n_estimators=80, max_depth=25)"
   ]
  },
  {
   "cell_type": "code",
   "execution_count": 1767,
   "id": "7ef65727",
   "metadata": {},
   "outputs": [],
   "source": [
    "from sklearn.ensemble import GradientBoostingClassifier\n",
    "clf2_GBDT = GradientBoostingClassifier(n_estimators=120, max_depth=15)"
   ]
  },
  {
   "cell_type": "code",
   "execution_count": 1768,
   "id": "8f389a20",
   "metadata": {},
   "outputs": [],
   "source": [
    "from sklearn.ensemble import AdaBoostClassifier\n",
    "clf3_adb = AdaBoostClassifier(n_estimators=140)"
   ]
  },
  {
   "cell_type": "code",
   "execution_count": 1769,
   "id": "3f9cbe10",
   "metadata": {},
   "outputs": [],
   "source": [
    "from sklearn.linear_model import LogisticRegression\n",
    "clf4_LogRegg = LogisticRegression(class_weight={0:1,1:1})"
   ]
  },
  {
   "cell_type": "code",
   "execution_count": 1770,
   "id": "4d7b8be6",
   "metadata": {},
   "outputs": [],
   "source": [
    "from sklearn.svm import SVC\n",
    "clf5_svc = SVC(kernel='poly', degree=10)"
   ]
  },
  {
   "cell_type": "code",
   "execution_count": 1771,
   "id": "50e36fd3",
   "metadata": {},
   "outputs": [],
   "source": [
    "#Stacking"
   ]
  },
  {
   "cell_type": "code",
   "execution_count": 1772,
   "id": "c0dbad7f",
   "metadata": {},
   "outputs": [],
   "source": [
    "model_stack = StackingClassifier(classifiers=[clf1_RFC, clf2_GBDT, clf3_adb, clf4_LogRegg, clf5_svc],\n",
    "                                 meta_classifier=XGBClassifier(n_estimators=150, max_depth=10))"
   ]
  },
  {
   "cell_type": "code",
   "execution_count": 1773,
   "id": "b25b0246",
   "metadata": {},
   "outputs": [
    {
     "data": {
      "text/html": [
       "<style>#sk-5a17610e-b210-4f30-a29b-35ec8cb39679 {color: black;background-color: white;}#sk-5a17610e-b210-4f30-a29b-35ec8cb39679 pre{padding: 0;}#sk-5a17610e-b210-4f30-a29b-35ec8cb39679 div.sk-toggleable {background-color: white;}#sk-5a17610e-b210-4f30-a29b-35ec8cb39679 label.sk-toggleable__label {cursor: pointer;display: block;width: 100%;margin-bottom: 0;padding: 0.3em;box-sizing: border-box;text-align: center;}#sk-5a17610e-b210-4f30-a29b-35ec8cb39679 label.sk-toggleable__label-arrow:before {content: \"▸\";float: left;margin-right: 0.25em;color: #696969;}#sk-5a17610e-b210-4f30-a29b-35ec8cb39679 label.sk-toggleable__label-arrow:hover:before {color: black;}#sk-5a17610e-b210-4f30-a29b-35ec8cb39679 div.sk-estimator:hover label.sk-toggleable__label-arrow:before {color: black;}#sk-5a17610e-b210-4f30-a29b-35ec8cb39679 div.sk-toggleable__content {max-height: 0;max-width: 0;overflow: hidden;text-align: left;background-color: #f0f8ff;}#sk-5a17610e-b210-4f30-a29b-35ec8cb39679 div.sk-toggleable__content pre {margin: 0.2em;color: black;border-radius: 0.25em;background-color: #f0f8ff;}#sk-5a17610e-b210-4f30-a29b-35ec8cb39679 input.sk-toggleable__control:checked~div.sk-toggleable__content {max-height: 200px;max-width: 100%;overflow: auto;}#sk-5a17610e-b210-4f30-a29b-35ec8cb39679 input.sk-toggleable__control:checked~label.sk-toggleable__label-arrow:before {content: \"▾\";}#sk-5a17610e-b210-4f30-a29b-35ec8cb39679 div.sk-estimator input.sk-toggleable__control:checked~label.sk-toggleable__label {background-color: #d4ebff;}#sk-5a17610e-b210-4f30-a29b-35ec8cb39679 div.sk-label input.sk-toggleable__control:checked~label.sk-toggleable__label {background-color: #d4ebff;}#sk-5a17610e-b210-4f30-a29b-35ec8cb39679 input.sk-hidden--visually {border: 0;clip: rect(1px 1px 1px 1px);clip: rect(1px, 1px, 1px, 1px);height: 1px;margin: -1px;overflow: hidden;padding: 0;position: absolute;width: 1px;}#sk-5a17610e-b210-4f30-a29b-35ec8cb39679 div.sk-estimator {font-family: monospace;background-color: #f0f8ff;border: 1px dotted black;border-radius: 0.25em;box-sizing: border-box;margin-bottom: 0.5em;}#sk-5a17610e-b210-4f30-a29b-35ec8cb39679 div.sk-estimator:hover {background-color: #d4ebff;}#sk-5a17610e-b210-4f30-a29b-35ec8cb39679 div.sk-parallel-item::after {content: \"\";width: 100%;border-bottom: 1px solid gray;flex-grow: 1;}#sk-5a17610e-b210-4f30-a29b-35ec8cb39679 div.sk-label:hover label.sk-toggleable__label {background-color: #d4ebff;}#sk-5a17610e-b210-4f30-a29b-35ec8cb39679 div.sk-serial::before {content: \"\";position: absolute;border-left: 1px solid gray;box-sizing: border-box;top: 2em;bottom: 0;left: 50%;}#sk-5a17610e-b210-4f30-a29b-35ec8cb39679 div.sk-serial {display: flex;flex-direction: column;align-items: center;background-color: white;padding-right: 0.2em;padding-left: 0.2em;}#sk-5a17610e-b210-4f30-a29b-35ec8cb39679 div.sk-item {z-index: 1;}#sk-5a17610e-b210-4f30-a29b-35ec8cb39679 div.sk-parallel {display: flex;align-items: stretch;justify-content: center;background-color: white;}#sk-5a17610e-b210-4f30-a29b-35ec8cb39679 div.sk-parallel::before {content: \"\";position: absolute;border-left: 1px solid gray;box-sizing: border-box;top: 2em;bottom: 0;left: 50%;}#sk-5a17610e-b210-4f30-a29b-35ec8cb39679 div.sk-parallel-item {display: flex;flex-direction: column;position: relative;background-color: white;}#sk-5a17610e-b210-4f30-a29b-35ec8cb39679 div.sk-parallel-item:first-child::after {align-self: flex-end;width: 50%;}#sk-5a17610e-b210-4f30-a29b-35ec8cb39679 div.sk-parallel-item:last-child::after {align-self: flex-start;width: 50%;}#sk-5a17610e-b210-4f30-a29b-35ec8cb39679 div.sk-parallel-item:only-child::after {width: 0;}#sk-5a17610e-b210-4f30-a29b-35ec8cb39679 div.sk-dashed-wrapped {border: 1px dashed gray;margin: 0 0.4em 0.5em 0.4em;box-sizing: border-box;padding-bottom: 0.4em;background-color: white;position: relative;}#sk-5a17610e-b210-4f30-a29b-35ec8cb39679 div.sk-label label {font-family: monospace;font-weight: bold;background-color: white;display: inline-block;line-height: 1.2em;}#sk-5a17610e-b210-4f30-a29b-35ec8cb39679 div.sk-label-container {position: relative;z-index: 2;text-align: center;}#sk-5a17610e-b210-4f30-a29b-35ec8cb39679 div.sk-container {/* jupyter's `normalize.less` sets `[hidden] { display: none; }` but bootstrap.min.css set `[hidden] { display: none !important; }` so we also need the `!important` here to be able to override the default hidden behavior on the sphinx rendered scikit-learn.org. See: https://github.com/scikit-learn/scikit-learn/issues/21755 */display: inline-block !important;position: relative;}#sk-5a17610e-b210-4f30-a29b-35ec8cb39679 div.sk-text-repr-fallback {display: none;}</style><div id=\"sk-5a17610e-b210-4f30-a29b-35ec8cb39679\" class=\"sk-top-container\"><div class=\"sk-text-repr-fallback\"><pre>StackingClassifier(classifiers=[RandomForestClassifier(max_depth=25,\n",
       "                                                       n_estimators=80),\n",
       "                                GradientBoostingClassifier(max_depth=15,\n",
       "                                                           n_estimators=120),\n",
       "                                AdaBoostClassifier(n_estimators=140),\n",
       "                                LogisticRegression(class_weight={0: 1, 1: 1}),\n",
       "                                SVC(degree=10, kernel=&#x27;poly&#x27;)],\n",
       "                   meta_classifier=XGBClassifier(base_score=None, booster=None,\n",
       "                                                 callbacks=None,\n",
       "                                                 colsample_bylevel=None,...\n",
       "                                                 gpu_id=None, grow_policy=None,\n",
       "                                                 importance_type=None,\n",
       "                                                 interaction_constraints=None,\n",
       "                                                 learning_rate=None,\n",
       "                                                 max_bin=None,\n",
       "                                                 max_cat_threshold=None,\n",
       "                                                 max_cat_to_onehot=None,\n",
       "                                                 max_delta_step=None,\n",
       "                                                 max_depth=10, max_leaves=None,\n",
       "                                                 min_child_weight=None,\n",
       "                                                 missing=nan,\n",
       "                                                 monotone_constraints=None,\n",
       "                                                 n_estimators=150, n_jobs=None,\n",
       "                                                 num_parallel_tree=None,\n",
       "                                                 predictor=None,\n",
       "                                                 random_state=None, ...))</pre><b>Please rerun this cell to show the HTML repr or trust the notebook.</b></div><div class=\"sk-container\" hidden><div class=\"sk-item sk-dashed-wrapped\"><div class=\"sk-label-container\"><div class=\"sk-label sk-toggleable\"><input class=\"sk-toggleable__control sk-hidden--visually\" id=\"a742f915-40ce-4374-94aa-6947f1c9d30c\" type=\"checkbox\" ><label for=\"a742f915-40ce-4374-94aa-6947f1c9d30c\" class=\"sk-toggleable__label sk-toggleable__label-arrow\">StackingClassifier</label><div class=\"sk-toggleable__content\"><pre>StackingClassifier(classifiers=[RandomForestClassifier(max_depth=25,\n",
       "                                                       n_estimators=80),\n",
       "                                GradientBoostingClassifier(max_depth=15,\n",
       "                                                           n_estimators=120),\n",
       "                                AdaBoostClassifier(n_estimators=140),\n",
       "                                LogisticRegression(class_weight={0: 1, 1: 1}),\n",
       "                                SVC(degree=10, kernel=&#x27;poly&#x27;)],\n",
       "                   meta_classifier=XGBClassifier(base_score=None, booster=None,\n",
       "                                                 callbacks=None,\n",
       "                                                 colsample_bylevel=None,...\n",
       "                                                 gpu_id=None, grow_policy=None,\n",
       "                                                 importance_type=None,\n",
       "                                                 interaction_constraints=None,\n",
       "                                                 learning_rate=None,\n",
       "                                                 max_bin=None,\n",
       "                                                 max_cat_threshold=None,\n",
       "                                                 max_cat_to_onehot=None,\n",
       "                                                 max_delta_step=None,\n",
       "                                                 max_depth=10, max_leaves=None,\n",
       "                                                 min_child_weight=None,\n",
       "                                                 missing=nan,\n",
       "                                                 monotone_constraints=None,\n",
       "                                                 n_estimators=150, n_jobs=None,\n",
       "                                                 num_parallel_tree=None,\n",
       "                                                 predictor=None,\n",
       "                                                 random_state=None, ...))</pre></div></div></div><div class=\"sk-parallel\"><div class=\"sk-parallel-item\"><div class=\"sk-item\"><div class=\"sk-serial\"><div class=\"sk-item\"><div class=\"sk-estimator sk-toggleable\"><input class=\"sk-toggleable__control sk-hidden--visually\" id=\"eac153eb-f09f-437e-b550-891a4515f78a\" type=\"checkbox\" ><label for=\"eac153eb-f09f-437e-b550-891a4515f78a\" class=\"sk-toggleable__label sk-toggleable__label-arrow\">XGBClassifier</label><div class=\"sk-toggleable__content\"><pre>XGBClassifier(base_score=None, booster=None, callbacks=None,\n",
       "              colsample_bylevel=None, colsample_bynode=None,\n",
       "              colsample_bytree=None, early_stopping_rounds=None,\n",
       "              enable_categorical=False, eval_metric=None, feature_types=None,\n",
       "              gamma=None, gpu_id=None, grow_policy=None, importance_type=None,\n",
       "              interaction_constraints=None, learning_rate=None, max_bin=None,\n",
       "              max_cat_threshold=None, max_cat_to_onehot=None,\n",
       "              max_delta_step=None, max_depth=10, max_leaves=None,\n",
       "              min_child_weight=None, missing=nan, monotone_constraints=None,\n",
       "              n_estimators=150, n_jobs=None, num_parallel_tree=None,\n",
       "              predictor=None, random_state=None, ...)</pre></div></div></div></div></div></div><div class=\"sk-parallel-item\"><div class=\"sk-item\"><div class=\"sk-serial\"><div class=\"sk-item\"><div class=\"sk-estimator sk-toggleable\"><input class=\"sk-toggleable__control sk-hidden--visually\" id=\"f5eef2f1-a31f-4269-a50b-3348cac5569e\" type=\"checkbox\" ><label for=\"f5eef2f1-a31f-4269-a50b-3348cac5569e\" class=\"sk-toggleable__label sk-toggleable__label-arrow\">RandomForestClassifier</label><div class=\"sk-toggleable__content\"><pre>RandomForestClassifier(max_depth=25, n_estimators=80)</pre></div></div></div></div></div></div><div class=\"sk-parallel-item\"><div class=\"sk-item\"><div class=\"sk-serial\"><div class=\"sk-item\"><div class=\"sk-estimator sk-toggleable\"><input class=\"sk-toggleable__control sk-hidden--visually\" id=\"952bc470-f9fc-4623-bf98-fcb3d492a723\" type=\"checkbox\" ><label for=\"952bc470-f9fc-4623-bf98-fcb3d492a723\" class=\"sk-toggleable__label sk-toggleable__label-arrow\">GradientBoostingClassifier</label><div class=\"sk-toggleable__content\"><pre>GradientBoostingClassifier(max_depth=15, n_estimators=120)</pre></div></div></div></div></div></div><div class=\"sk-parallel-item\"><div class=\"sk-item\"><div class=\"sk-serial\"><div class=\"sk-item\"><div class=\"sk-estimator sk-toggleable\"><input class=\"sk-toggleable__control sk-hidden--visually\" id=\"c044606b-2446-4e47-ae0f-cdb3ea8387cd\" type=\"checkbox\" ><label for=\"c044606b-2446-4e47-ae0f-cdb3ea8387cd\" class=\"sk-toggleable__label sk-toggleable__label-arrow\">AdaBoostClassifier</label><div class=\"sk-toggleable__content\"><pre>AdaBoostClassifier(n_estimators=140)</pre></div></div></div></div></div></div><div class=\"sk-parallel-item\"><div class=\"sk-item\"><div class=\"sk-serial\"><div class=\"sk-item\"><div class=\"sk-estimator sk-toggleable\"><input class=\"sk-toggleable__control sk-hidden--visually\" id=\"be0307a0-7d0c-4f47-9f52-2432ce98c72a\" type=\"checkbox\" ><label for=\"be0307a0-7d0c-4f47-9f52-2432ce98c72a\" class=\"sk-toggleable__label sk-toggleable__label-arrow\">LogisticRegression</label><div class=\"sk-toggleable__content\"><pre>LogisticRegression(class_weight={0: 1, 1: 1})</pre></div></div></div></div></div></div><div class=\"sk-parallel-item\"><div class=\"sk-item\"><div class=\"sk-serial\"><div class=\"sk-item\"><div class=\"sk-estimator sk-toggleable\"><input class=\"sk-toggleable__control sk-hidden--visually\" id=\"76908fc9-2c79-4883-8f85-c7f628335d5f\" type=\"checkbox\" ><label for=\"76908fc9-2c79-4883-8f85-c7f628335d5f\" class=\"sk-toggleable__label sk-toggleable__label-arrow\">SVC</label><div class=\"sk-toggleable__content\"><pre>SVC(degree=10, kernel=&#x27;poly&#x27;)</pre></div></div></div></div></div></div></div></div></div></div>"
      ],
      "text/plain": [
       "StackingClassifier(classifiers=[RandomForestClassifier(max_depth=25,\n",
       "                                                       n_estimators=80),\n",
       "                                GradientBoostingClassifier(max_depth=15,\n",
       "                                                           n_estimators=120),\n",
       "                                AdaBoostClassifier(n_estimators=140),\n",
       "                                LogisticRegression(class_weight={0: 1, 1: 1}),\n",
       "                                SVC(degree=10, kernel='poly')],\n",
       "                   meta_classifier=XGBClassifier(base_score=None, booster=None,\n",
       "                                                 callbacks=None,\n",
       "                                                 colsample_bylevel=None,...\n",
       "                                                 gpu_id=None, grow_policy=None,\n",
       "                                                 importance_type=None,\n",
       "                                                 interaction_constraints=None,\n",
       "                                                 learning_rate=None,\n",
       "                                                 max_bin=None,\n",
       "                                                 max_cat_threshold=None,\n",
       "                                                 max_cat_to_onehot=None,\n",
       "                                                 max_delta_step=None,\n",
       "                                                 max_depth=10, max_leaves=None,\n",
       "                                                 min_child_weight=None,\n",
       "                                                 missing=nan,\n",
       "                                                 monotone_constraints=None,\n",
       "                                                 n_estimators=150, n_jobs=None,\n",
       "                                                 num_parallel_tree=None,\n",
       "                                                 predictor=None,\n",
       "                                                 random_state=None, ...))"
      ]
     },
     "execution_count": 1773,
     "metadata": {},
     "output_type": "execute_result"
    }
   ],
   "source": [
    "model_stack.fit(preprocess.transform(X_train), y_train)"
   ]
  },
  {
   "cell_type": "code",
   "execution_count": 1774,
   "id": "5a8a50ff",
   "metadata": {},
   "outputs": [
    {
     "data": {
      "text/plain": [
       "array([[ 56,  84],\n",
       "       [ 51, 250]], dtype=int64)"
      ]
     },
     "execution_count": 1774,
     "metadata": {},
     "output_type": "execute_result"
    }
   ],
   "source": [
    "from sklearn.metrics import confusion_matrix, ConfusionMatrixDisplay\n",
    "confusion_matrix(y_test, model_stack.predict(preprocess.transform(X_test)))"
   ]
  },
  {
   "cell_type": "code",
   "execution_count": 1775,
   "id": "dc08d544",
   "metadata": {},
   "outputs": [
    {
     "name": "stdout",
     "output_type": "stream",
     "text": [
      "              precision    recall  f1-score   support\n",
      "\n",
      "           0       0.52      0.40      0.45       140\n",
      "           1       0.75      0.83      0.79       301\n",
      "\n",
      "    accuracy                           0.69       441\n",
      "   macro avg       0.64      0.62      0.62       441\n",
      "weighted avg       0.68      0.69      0.68       441\n",
      "\n"
     ]
    }
   ],
   "source": [
    "from sklearn.metrics import classification_report\n",
    "print(classification_report(y_test, model_stack.predict(preprocess.transform(X_test))))"
   ]
  },
  {
   "cell_type": "markdown",
   "id": "d84dc7f1",
   "metadata": {},
   "source": [
    "# model: `Bagging`"
   ]
  },
  {
   "cell_type": "code",
   "execution_count": 1776,
   "id": "e419df9b",
   "metadata": {},
   "outputs": [],
   "source": [
    "from sklearn.ensemble import BaggingClassifier"
   ]
  },
  {
   "cell_type": "code",
   "execution_count": 1777,
   "id": "2708a2f6",
   "metadata": {},
   "outputs": [],
   "source": [
    "bagg_clf = BaggingClassifier(base_estimator=LogisticRegression(class_weight={0: 1, 1: 1},max_iter=1000))"
   ]
  },
  {
   "cell_type": "code",
   "execution_count": 1785,
   "id": "31102743",
   "metadata": {},
   "outputs": [],
   "source": [
    "params = {\n",
    "        'n_estimators': [20,25,30,35,40,45,50,55]\n",
    "        }"
   ]
  },
  {
   "cell_type": "code",
   "execution_count": 1786,
   "id": "b1b92e4d",
   "metadata": {},
   "outputs": [],
   "source": [
    "grid = GridSearchCV(estimator=bagg_clf, param_grid=params, cv=5, scoring=\"f1\")"
   ]
  },
  {
   "cell_type": "code",
   "execution_count": 1787,
   "id": "4602b6f1",
   "metadata": {},
   "outputs": [
    {
     "data": {
      "text/html": [
       "<style>#sk-bbffd427-13d8-4e3d-bcd7-f1b031fa5ee8 {color: black;background-color: white;}#sk-bbffd427-13d8-4e3d-bcd7-f1b031fa5ee8 pre{padding: 0;}#sk-bbffd427-13d8-4e3d-bcd7-f1b031fa5ee8 div.sk-toggleable {background-color: white;}#sk-bbffd427-13d8-4e3d-bcd7-f1b031fa5ee8 label.sk-toggleable__label {cursor: pointer;display: block;width: 100%;margin-bottom: 0;padding: 0.3em;box-sizing: border-box;text-align: center;}#sk-bbffd427-13d8-4e3d-bcd7-f1b031fa5ee8 label.sk-toggleable__label-arrow:before {content: \"▸\";float: left;margin-right: 0.25em;color: #696969;}#sk-bbffd427-13d8-4e3d-bcd7-f1b031fa5ee8 label.sk-toggleable__label-arrow:hover:before {color: black;}#sk-bbffd427-13d8-4e3d-bcd7-f1b031fa5ee8 div.sk-estimator:hover label.sk-toggleable__label-arrow:before {color: black;}#sk-bbffd427-13d8-4e3d-bcd7-f1b031fa5ee8 div.sk-toggleable__content {max-height: 0;max-width: 0;overflow: hidden;text-align: left;background-color: #f0f8ff;}#sk-bbffd427-13d8-4e3d-bcd7-f1b031fa5ee8 div.sk-toggleable__content pre {margin: 0.2em;color: black;border-radius: 0.25em;background-color: #f0f8ff;}#sk-bbffd427-13d8-4e3d-bcd7-f1b031fa5ee8 input.sk-toggleable__control:checked~div.sk-toggleable__content {max-height: 200px;max-width: 100%;overflow: auto;}#sk-bbffd427-13d8-4e3d-bcd7-f1b031fa5ee8 input.sk-toggleable__control:checked~label.sk-toggleable__label-arrow:before {content: \"▾\";}#sk-bbffd427-13d8-4e3d-bcd7-f1b031fa5ee8 div.sk-estimator input.sk-toggleable__control:checked~label.sk-toggleable__label {background-color: #d4ebff;}#sk-bbffd427-13d8-4e3d-bcd7-f1b031fa5ee8 div.sk-label input.sk-toggleable__control:checked~label.sk-toggleable__label {background-color: #d4ebff;}#sk-bbffd427-13d8-4e3d-bcd7-f1b031fa5ee8 input.sk-hidden--visually {border: 0;clip: rect(1px 1px 1px 1px);clip: rect(1px, 1px, 1px, 1px);height: 1px;margin: -1px;overflow: hidden;padding: 0;position: absolute;width: 1px;}#sk-bbffd427-13d8-4e3d-bcd7-f1b031fa5ee8 div.sk-estimator {font-family: monospace;background-color: #f0f8ff;border: 1px dotted black;border-radius: 0.25em;box-sizing: border-box;margin-bottom: 0.5em;}#sk-bbffd427-13d8-4e3d-bcd7-f1b031fa5ee8 div.sk-estimator:hover {background-color: #d4ebff;}#sk-bbffd427-13d8-4e3d-bcd7-f1b031fa5ee8 div.sk-parallel-item::after {content: \"\";width: 100%;border-bottom: 1px solid gray;flex-grow: 1;}#sk-bbffd427-13d8-4e3d-bcd7-f1b031fa5ee8 div.sk-label:hover label.sk-toggleable__label {background-color: #d4ebff;}#sk-bbffd427-13d8-4e3d-bcd7-f1b031fa5ee8 div.sk-serial::before {content: \"\";position: absolute;border-left: 1px solid gray;box-sizing: border-box;top: 2em;bottom: 0;left: 50%;}#sk-bbffd427-13d8-4e3d-bcd7-f1b031fa5ee8 div.sk-serial {display: flex;flex-direction: column;align-items: center;background-color: white;padding-right: 0.2em;padding-left: 0.2em;}#sk-bbffd427-13d8-4e3d-bcd7-f1b031fa5ee8 div.sk-item {z-index: 1;}#sk-bbffd427-13d8-4e3d-bcd7-f1b031fa5ee8 div.sk-parallel {display: flex;align-items: stretch;justify-content: center;background-color: white;}#sk-bbffd427-13d8-4e3d-bcd7-f1b031fa5ee8 div.sk-parallel::before {content: \"\";position: absolute;border-left: 1px solid gray;box-sizing: border-box;top: 2em;bottom: 0;left: 50%;}#sk-bbffd427-13d8-4e3d-bcd7-f1b031fa5ee8 div.sk-parallel-item {display: flex;flex-direction: column;position: relative;background-color: white;}#sk-bbffd427-13d8-4e3d-bcd7-f1b031fa5ee8 div.sk-parallel-item:first-child::after {align-self: flex-end;width: 50%;}#sk-bbffd427-13d8-4e3d-bcd7-f1b031fa5ee8 div.sk-parallel-item:last-child::after {align-self: flex-start;width: 50%;}#sk-bbffd427-13d8-4e3d-bcd7-f1b031fa5ee8 div.sk-parallel-item:only-child::after {width: 0;}#sk-bbffd427-13d8-4e3d-bcd7-f1b031fa5ee8 div.sk-dashed-wrapped {border: 1px dashed gray;margin: 0 0.4em 0.5em 0.4em;box-sizing: border-box;padding-bottom: 0.4em;background-color: white;position: relative;}#sk-bbffd427-13d8-4e3d-bcd7-f1b031fa5ee8 div.sk-label label {font-family: monospace;font-weight: bold;background-color: white;display: inline-block;line-height: 1.2em;}#sk-bbffd427-13d8-4e3d-bcd7-f1b031fa5ee8 div.sk-label-container {position: relative;z-index: 2;text-align: center;}#sk-bbffd427-13d8-4e3d-bcd7-f1b031fa5ee8 div.sk-container {/* jupyter's `normalize.less` sets `[hidden] { display: none; }` but bootstrap.min.css set `[hidden] { display: none !important; }` so we also need the `!important` here to be able to override the default hidden behavior on the sphinx rendered scikit-learn.org. See: https://github.com/scikit-learn/scikit-learn/issues/21755 */display: inline-block !important;position: relative;}#sk-bbffd427-13d8-4e3d-bcd7-f1b031fa5ee8 div.sk-text-repr-fallback {display: none;}</style><div id=\"sk-bbffd427-13d8-4e3d-bcd7-f1b031fa5ee8\" class=\"sk-top-container\"><div class=\"sk-text-repr-fallback\"><pre>GridSearchCV(cv=5,\n",
       "             estimator=BaggingClassifier(base_estimator=LogisticRegression(class_weight={0: 1,\n",
       "                                                                                         1: 1},\n",
       "                                                                           max_iter=1000)),\n",
       "             param_grid={&#x27;n_estimators&#x27;: [20, 25, 30, 35, 40, 45, 50, 55]},\n",
       "             scoring=&#x27;f1&#x27;)</pre><b>Please rerun this cell to show the HTML repr or trust the notebook.</b></div><div class=\"sk-container\" hidden><div class=\"sk-item sk-dashed-wrapped\"><div class=\"sk-label-container\"><div class=\"sk-label sk-toggleable\"><input class=\"sk-toggleable__control sk-hidden--visually\" id=\"c8e61375-16cb-47c2-86a2-a75da3887052\" type=\"checkbox\" ><label for=\"c8e61375-16cb-47c2-86a2-a75da3887052\" class=\"sk-toggleable__label sk-toggleable__label-arrow\">GridSearchCV</label><div class=\"sk-toggleable__content\"><pre>GridSearchCV(cv=5,\n",
       "             estimator=BaggingClassifier(base_estimator=LogisticRegression(class_weight={0: 1,\n",
       "                                                                                         1: 1},\n",
       "                                                                           max_iter=1000)),\n",
       "             param_grid={&#x27;n_estimators&#x27;: [20, 25, 30, 35, 40, 45, 50, 55]},\n",
       "             scoring=&#x27;f1&#x27;)</pre></div></div></div><div class=\"sk-parallel\"><div class=\"sk-parallel-item\"><div class=\"sk-item\"><div class=\"sk-serial\"><div class=\"sk-item sk-dashed-wrapped\"><div class=\"sk-parallel\"><div class=\"sk-parallel-item\"><div class=\"sk-item\"><div class=\"sk-serial\"><div class=\"sk-item\"><div class=\"sk-estimator sk-toggleable\"><input class=\"sk-toggleable__control sk-hidden--visually\" id=\"36059271-c42e-4427-be8d-00965ac38dc2\" type=\"checkbox\" ><label for=\"36059271-c42e-4427-be8d-00965ac38dc2\" class=\"sk-toggleable__label sk-toggleable__label-arrow\">LogisticRegression</label><div class=\"sk-toggleable__content\"><pre>LogisticRegression(class_weight={0: 1, 1: 1}, max_iter=1000)</pre></div></div></div></div></div></div></div></div></div></div></div></div></div></div></div>"
      ],
      "text/plain": [
       "GridSearchCV(cv=5,\n",
       "             estimator=BaggingClassifier(base_estimator=LogisticRegression(class_weight={0: 1,\n",
       "                                                                                         1: 1},\n",
       "                                                                           max_iter=1000)),\n",
       "             param_grid={'n_estimators': [20, 25, 30, 35, 40, 45, 50, 55]},\n",
       "             scoring='f1')"
      ]
     },
     "execution_count": 1787,
     "metadata": {},
     "output_type": "execute_result"
    }
   ],
   "source": [
    "grid.fit(preprocess.transform(X_train), y_train)"
   ]
  },
  {
   "cell_type": "code",
   "execution_count": 1788,
   "id": "6210aab7",
   "metadata": {},
   "outputs": [
    {
     "data": {
      "text/plain": [
       "{'n_estimators': 30}"
      ]
     },
     "execution_count": 1788,
     "metadata": {},
     "output_type": "execute_result"
    }
   ],
   "source": [
    "grid.best_params_"
   ]
  },
  {
   "cell_type": "code",
   "execution_count": 1789,
   "id": "d47b51e9",
   "metadata": {},
   "outputs": [
    {
     "data": {
      "text/plain": [
       "0.6815775645890884"
      ]
     },
     "execution_count": 1789,
     "metadata": {},
     "output_type": "execute_result"
    }
   ],
   "source": [
    "grid.best_score_"
   ]
  },
  {
   "cell_type": "code",
   "execution_count": 1790,
   "id": "26a28716",
   "metadata": {},
   "outputs": [
    {
     "data": {
      "text/plain": [
       "array([[ 96,  44],\n",
       "       [ 88, 213]], dtype=int64)"
      ]
     },
     "execution_count": 1790,
     "metadata": {},
     "output_type": "execute_result"
    }
   ],
   "source": [
    "from sklearn.metrics import confusion_matrix, ConfusionMatrixDisplay\n",
    "confusion_matrix(y_test, grid.predict(preprocess.transform(X_test)))"
   ]
  },
  {
   "cell_type": "code",
   "execution_count": 1791,
   "id": "9e633588",
   "metadata": {},
   "outputs": [
    {
     "name": "stdout",
     "output_type": "stream",
     "text": [
      "              precision    recall  f1-score   support\n",
      "\n",
      "           0       0.52      0.69      0.59       140\n",
      "           1       0.83      0.71      0.76       301\n",
      "\n",
      "    accuracy                           0.70       441\n",
      "   macro avg       0.68      0.70      0.68       441\n",
      "weighted avg       0.73      0.70      0.71       441\n",
      "\n"
     ]
    }
   ],
   "source": [
    "from sklearn.metrics import classification_report\n",
    "print(classification_report(y_test, grid.predict(preprocess.transform(X_test))))"
   ]
  },
  {
   "cell_type": "code",
   "execution_count": 1793,
   "id": "caa10cbb",
   "metadata": {},
   "outputs": [],
   "source": [
    "from sklearn.metrics import roc_curve, roc_auc_score\n",
    "from matplotlib import pyplot as plt"
   ]
  },
  {
   "cell_type": "code",
   "execution_count": 1795,
   "id": "9bc601f6",
   "metadata": {},
   "outputs": [],
   "source": [
    "fpr, tpr, thr = roc_curve(y_test, grid.predict_proba(preprocess.transform(X_test))[:,1])"
   ]
  },
  {
   "cell_type": "code",
   "execution_count": 1796,
   "id": "9e050944",
   "metadata": {},
   "outputs": [
    {
     "data": {
      "image/png": "[encoded data removed]",
      "text/plain": [
       "<Figure size 432x288 with 1 Axes>"
      ]
     },
     "metadata": {
      "needs_background": "light"
     },
     "output_type": "display_data"
    }
   ],
   "source": [
    "plt.plot(fpr,tpr)\n",
    "plt.title('ROC curve')\n",
    "plt.xlabel('FPR')\n",
    "plt.ylabel('TPR')\n",
    "plt.show()"
   ]
  },
  {
   "cell_type": "code",
   "execution_count": 1798,
   "id": "573a2d96",
   "metadata": {},
   "outputs": [
    {
     "data": {
      "text/plain": [
       "0.7657807308970099"
      ]
     },
     "execution_count": 1798,
     "metadata": {},
     "output_type": "execute_result"
    }
   ],
   "source": [
    "roc_auc_score(y_test, grid.predict_proba(preprocess.transform(X_test))[:,1])"
   ]
  },
  {
   "cell_type": "markdown",
   "id": "2eeccfff",
   "metadata": {},
   "source": [
    "# (H) Actionable Insight and Recommendations:"
   ]
  },
  {
   "cell_type": "markdown",
   "id": "b389d178",
   "metadata": {},
   "source": [
    "1. Median age of drivers is 33\n",
    "2. Median monthly income of drivers is 52000\n",
    "3. Number of churn is just double of non-churn\n",
    "4. Company should give allowance to churning drivers, which will help in reatining drivers.\n",
    "5. When their rating is decreasing on monthly or weekly basis, then they should be contacted immediately by a proffesional who    can motivate them in their work."
   ]
  },
  {
   "cell_type": "code",
   "execution_count": null,
   "id": "dbd4a4c0",
   "metadata": {},
   "outputs": [],
   "source": []
  }
 ],
 "metadata": {
  "kernelspec": {
   "display_name": "Python 3 (ipykernel)",
   "language": "python",
   "name": "python3"
  },
  "language_info": {
   "codemirror_mode": {
    "name": "ipython",
    "version": 3
   },
   "file_extension": ".py",
   "mimetype": "text/x-python",
   "name": "python",
   "nbconvert_exporter": "python",
   "pygments_lexer": "ipython3",
   "version": "3.9.12"
  }
 },
 "nbformat": 4,
 "nbformat_minor": 5
}
